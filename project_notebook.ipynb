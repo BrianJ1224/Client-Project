{
 "cells": [
  {
   "cell_type": "markdown",
   "metadata": {
    "toc": true
   },
   "source": [
    "<h1>Table of Contents<span class=\"tocSkip\"></span></h1>\n",
    "<div class=\"toc\"><ul class=\"toc-item\"><li><span><a href=\"#Client-Project:-Utilizing-Yelp-Cost-Estimates-for-Estimating-Neighborhood-Affluency\" data-toc-modified-id=\"Client-Project:-Utilizing-Yelp-Cost-Estimates-for-Estimating-Neighborhood-Affluency-1\">Client Project: Utilizing Yelp Cost Estimates for Estimating Neighborhood Affluency</a></span><ul class=\"toc-item\"><li><span><a href=\"#Author:-Brian-Jankowitz\" data-toc-modified-id=\"Author:-Brian-Jankowitz-1.1\">Author: Brian Jankowitz</a></span></li></ul></li><li><span><a href=\"#Problem-Statement\" data-toc-modified-id=\"Problem-Statement-2\">Problem Statement</a></span></li><li><span><a href=\"#Executive-Summary\" data-toc-modified-id=\"Executive-Summary-3\">Executive Summary</a></span></li><li><span><a href=\"#Loading-Libraries-&amp;-Data\" data-toc-modified-id=\"Loading-Libraries-&amp;-Data-4\">Loading Libraries &amp; Data</a></span></li><li><span><a href=\"#Data-Cleaning\" data-toc-modified-id=\"Data-Cleaning-5\">Data Cleaning</a></span></li><li><span><a href=\"#Exploratory-Data-Analysis-(EDA)\" data-toc-modified-id=\"Exploratory-Data-Analysis-(EDA)-6\">Exploratory Data Analysis (EDA)</a></span></li><li><span><a href=\"#Feature-Engineering\" data-toc-modified-id=\"Feature-Engineering-7\">Feature Engineering</a></span></li><li><span><a href=\"#Model-Preparation\" data-toc-modified-id=\"Model-Preparation-8\">Model Preparation</a></span></li><li><span><a href=\"#Modeling\" data-toc-modified-id=\"Modeling-9\">Modeling</a></span><ul class=\"toc-item\"><li><span><a href=\"#Baseline-Model\" data-toc-modified-id=\"Baseline-Model-9.1\">Baseline Model</a></span></li><li><span><a href=\"#Logistic-Regression\" data-toc-modified-id=\"Logistic-Regression-9.2\">Logistic Regression</a></span></li><li><span><a href=\"#KNN\" data-toc-modified-id=\"KNN-9.3\">KNN</a></span></li><li><span><a href=\"#Decision-Trees\" data-toc-modified-id=\"Decision-Trees-9.4\">Decision Trees</a></span></li><li><span><a href=\"#Bagging\" data-toc-modified-id=\"Bagging-9.5\">Bagging</a></span></li><li><span><a href=\"#Random-Forest\" data-toc-modified-id=\"Random-Forest-9.6\">Random Forest</a></span></li></ul></li><li><span><a href=\"#Model-Selection\" data-toc-modified-id=\"Model-Selection-10\">Model Selection</a></span></li><li><span><a href=\"#Model-Evaluation\" data-toc-modified-id=\"Model-Evaluation-11\">Model Evaluation</a></span></li><li><span><a href=\"#Conclusion\" data-toc-modified-id=\"Conclusion-12\">Conclusion</a></span></li><li><span><a href=\"#Recommendations\" data-toc-modified-id=\"Recommendations-13\">Recommendations</a></span></li><li><span><a href=\"#References\" data-toc-modified-id=\"References-14\">References</a></span></li></ul></div>"
   ]
  },
  {
   "cell_type": "markdown",
   "metadata": {},
   "source": [
    "## Client Project: Utilizing Yelp Cost Estimates for Estimating Neighborhood Affluency\n",
    "### Author: Brian Jankowitz\n",
    "[Medium](https://medium.com/@JankowitzB) | [LinkedIn](https://www.linkedin.com/in/brian-jankowitz/)"
   ]
  },
  {
   "cell_type": "markdown",
   "metadata": {},
   "source": [
    "## Problem Statement"
   ]
  },
  {
   "cell_type": "markdown",
   "metadata": {},
   "source": [
    "In 2018, the number of people without health insurance increased to 28 million people, from 27.3 million the year before. 72.2% of people 100% or more below the poverty line are uninsured according to the US Census. New Light Technologies, a company that helps provide healthcare to Americans, taksed us with finding areas that are not affluent this way they can go to those areas and help people who do not have health insurance to obtain health insurance. Unlike traditional methods where you can look at demographic data such as income and unemployment rate, New Light Technologies asked us to estiamte the affluency of a neighborhood using Yelp dollar signs (\\$, \\$\\$, \\$\\$\\$, \\$\\$\\$\\$). The novelty of this approach is in its use of big data related to commercial activity and cost of product and services as an indicator for affluency. "
   ]
  },
  {
   "cell_type": "markdown",
   "metadata": {},
   "source": [
    "## Executive Summary"
   ]
  },
  {
   "cell_type": "markdown",
   "metadata": {},
   "source": [
    "We first started with gathering yelp and irs data. This gave us the basic of our data. We colleceted over 30,000 businesses from Yelp. From there, we cleaned the data and looked at IRS data to see what qualifies as an area being affluent. From there, we looked and put the IRS data together with the yelp data.  This allowed us to look at each restaurant to see if that business is in an affluent area.\n",
    "\n",
    "We used our data and put it into a few models looking at sensitivity as we wanted to maximize the number of true positives. This is because we want to market to the maximum number of people. One of our models performed extremely well which shows us that we can predict affluent areas."
   ]
  },
  {
   "cell_type": "markdown",
   "metadata": {},
   "source": [
    "<h1>Table of Contents<span class=\"tocSkip\"></span></h1>\n",
    "<div class=\"toc\"><ul class=\"toc-item\"><li><span><a href=\"#Client-Project:-Utilizing-Yelp-Cost-Estimates-for-Estimating-Neighborhood-Affluency\" data-toc-modified-id=\"Client-Project:-Utilizing-Yelp-Cost-Estimates-for-Estimating-Neighborhood-Affluency-1\">Client Project: Utilizing Yelp Cost Estimates for Estimating Neighborhood Affluency</a></span><ul class=\"toc-item\"><li><span><a href=\"#Author:-Brian-Jankowitz\" data-toc-modified-id=\"Author:-Brian-Jankowitz-1.1\">Author: Brian Jankowitz</a></span></li></ul></li><li><span><a href=\"#Problem-Statement\" data-toc-modified-id=\"Problem-Statement-2\">Problem Statement</a></span></li><li><span><a href=\"#Executive-Summary\" data-toc-modified-id=\"Executive-Summary-3\">Executive Summary</a></span></li><li><span><a href=\"#Loading-Libraries-&amp;-Data\" data-toc-modified-id=\"Loading-Libraries-&amp;-Data-4\">Loading Libraries &amp; Data</a></span></li><li><span><a href=\"#Data-Cleaning\" data-toc-modified-id=\"Data-Cleaning-5\">Data Cleaning</a></span></li><li><span><a href=\"#Exploratory-Data-Analysis-(EDA)\" data-toc-modified-id=\"Exploratory-Data-Analysis-(EDA)-6\">Exploratory Data Analysis (EDA)</a></span></li><li><span><a href=\"#Feature-Engineering\" data-toc-modified-id=\"Feature-Engineering-7\">Feature Engineering</a></span></li><li><span><a href=\"#Model-Preparation\" data-toc-modified-id=\"Model-Preparation-8\">Model Preparation</a></span></li><li><span><a href=\"#Modeling\" data-toc-modified-id=\"Modeling-9\">Modeling</a></span><ul class=\"toc-item\"><li><span><a href=\"#Baseline-Model\" data-toc-modified-id=\"Baseline-Model-9.1\">Baseline Model</a></span></li><li><span><a href=\"#Logistic-Regression\" data-toc-modified-id=\"Logistic-Regression-9.2\">Logistic Regression</a></span></li><li><span><a href=\"#KNN\" data-toc-modified-id=\"KNN-9.3\">KNN</a></span></li><li><span><a href=\"#Decision-Trees\" data-toc-modified-id=\"Decision-Trees-9.4\">Decision Trees</a></span></li><li><span><a href=\"#Bagging\" data-toc-modified-id=\"Bagging-9.5\">Bagging</a></span></li><li><span><a href=\"#Random-Forest\" data-toc-modified-id=\"Random-Forest-9.6\">Random Forest</a></span></li></ul></li><li><span><a href=\"#Model-Selection\" data-toc-modified-id=\"Model-Selection-10\">Model Selection</a></span></li><li><span><a href=\"#Model-Evaluation\" data-toc-modified-id=\"Model-Evaluation-11\">Model Evaluation</a></span></li><li><span><a href=\"#Conclusion\" data-toc-modified-id=\"Conclusion-12\">Conclusion</a></span></li><li><span><a href=\"#Recommendations\" data-toc-modified-id=\"Recommendations-13\">Recommendations</a></span></li><li><span><a href=\"#References\" data-toc-modified-id=\"References-14\">References</a></span></li></ul></div>"
   ]
  },
  {
   "cell_type": "markdown",
   "metadata": {},
   "source": [
    "## Loading Libraries & Data"
   ]
  },
  {
   "cell_type": "code",
   "execution_count": 1,
   "metadata": {},
   "outputs": [],
   "source": [
    "import pandas as pd\n",
    "import numpy as np\n",
    "import datetime as dt\n",
    "import time\n",
    "import requests\n",
    "import nltk\n",
    "from nltk.stem import WordNetLemmatizer\n",
    "from nltk.tokenize import RegexpTokenizer\n",
    "from sklearn.feature_extraction.text import CountVectorizer\n",
    "import regex as re\n",
    "from sklearn.pipeline import Pipeline\n",
    "from sklearn.linear_model import LogisticRegression\n",
    "from sklearn.model_selection import train_test_split, GridSearchCV, cross_val_score\n",
    "from sklearn.feature_extraction.text import CountVectorizer, TfidfVectorizer\n",
    "import seaborn as sns\n",
    "\n",
    "from sklearn.linear_model import LogisticRegression\n",
    "from sklearn.naive_bayes import MultinomialNB, BernoulliNB, GaussianNB\n",
    "from sklearn.neighbors import  KNeighborsClassifier \n",
    "from sklearn.metrics import r2_score,mean_squared_error,confusion_matrix,accuracy_score\n",
    "import sklearn.metrics as metrics\n",
    "import matplotlib.pyplot as plt\n",
    "from sklearn.metrics import classification_report\n",
    "from sklearn.model_selection import cross_val_score\n",
    "\n",
    "import ast\n",
    "from ast import literal_eval\n",
    "import descartes\n",
    "import geopandas as gpd\n",
    "from shapely.geometry import Point, Polygon\n",
    "\n",
    "\n",
    "from sklearn.model_selection import train_test_split, cross_val_score\n",
    "from sklearn.linear_model import LinearRegression, LogisticRegression\n",
    "from sklearn.neighbors import KNeighborsRegressor, KNeighborsClassifier\n",
    "from sklearn.tree import DecisionTreeRegressor, DecisionTreeClassifier\n",
    "from sklearn.ensemble import BaggingRegressor, BaggingClassifier, RandomForestRegressor, RandomForestClassifier, AdaBoostRegressor, AdaBoostClassifier\n",
    "from sklearn import svm \n",
    "import matplotlib #inline\n",
    "\n",
    "import warnings\n",
    "warnings.filterwarnings('ignore')"
   ]
  },
  {
   "cell_type": "markdown",
   "metadata": {},
   "source": [
    "The yelp data is data that we scrapped from the website. The income data is data from the IRS for the year 2017.\n"
   ]
  },
  {
   "cell_type": "code",
   "execution_count": 2,
   "metadata": {},
   "outputs": [],
   "source": [
    "# Importing filesets\n",
    "yelp = pd.read_csv('../datasets/yelp.csv'); \n",
    "income = pd.read_excel('../datasets/17zp33ny.xlsx') "
   ]
  },
  {
   "cell_type": "markdown",
   "metadata": {},
   "source": [
    "## Data Cleaning"
   ]
  },
  {
   "cell_type": "markdown",
   "metadata": {},
   "source": [
    "We are analyzing and cleaning the data below."
   ]
  },
  {
   "cell_type": "code",
   "execution_count": 3,
   "metadata": {},
   "outputs": [
    {
     "data": {
      "text/html": [
       "<div>\n",
       "<style scoped>\n",
       "    .dataframe tbody tr th:only-of-type {\n",
       "        vertical-align: middle;\n",
       "    }\n",
       "\n",
       "    .dataframe tbody tr th {\n",
       "        vertical-align: top;\n",
       "    }\n",
       "\n",
       "    .dataframe thead th {\n",
       "        text-align: right;\n",
       "    }\n",
       "</style>\n",
       "<table border=\"1\" class=\"dataframe\">\n",
       "  <thead>\n",
       "    <tr style=\"text-align: right;\">\n",
       "      <th></th>\n",
       "      <th>id</th>\n",
       "      <th>alias</th>\n",
       "      <th>name</th>\n",
       "      <th>image_url</th>\n",
       "      <th>is_closed</th>\n",
       "      <th>url</th>\n",
       "      <th>review_count</th>\n",
       "      <th>categories</th>\n",
       "      <th>rating</th>\n",
       "      <th>coordinates</th>\n",
       "      <th>transactions</th>\n",
       "      <th>price</th>\n",
       "      <th>location</th>\n",
       "      <th>phone</th>\n",
       "      <th>display_phone</th>\n",
       "      <th>distance</th>\n",
       "    </tr>\n",
       "  </thead>\n",
       "  <tbody>\n",
       "    <tr>\n",
       "      <th>0</th>\n",
       "      <td>H4jJ7XB3CetIr1pg56CczQ</td>\n",
       "      <td>levain-bakery-new-york</td>\n",
       "      <td>Levain Bakery</td>\n",
       "      <td>https://s3-media2.fl.yelpcdn.com/bphoto/zgjSt_...</td>\n",
       "      <td>False</td>\n",
       "      <td>https://www.yelp.com/biz/levain-bakery-new-yor...</td>\n",
       "      <td>7933</td>\n",
       "      <td>[{'alias': 'bakeries', 'title': 'Bakeries'}]</td>\n",
       "      <td>4.5</td>\n",
       "      <td>{'latitude': 40.7799404643263, 'longitude': -7...</td>\n",
       "      <td>[]</td>\n",
       "      <td>$$</td>\n",
       "      <td>{'address1': '167 W 74th St', 'address2': '', ...</td>\n",
       "      <td>1.917464e+10</td>\n",
       "      <td>(917) 464-3769</td>\n",
       "      <td>8367.197123</td>\n",
       "    </tr>\n",
       "    <tr>\n",
       "      <th>1</th>\n",
       "      <td>V7lXZKBDzScDeGB8JmnzSA</td>\n",
       "      <td>katzs-delicatessen-new-york</td>\n",
       "      <td>Katz's Delicatessen</td>\n",
       "      <td>https://s3-media1.fl.yelpcdn.com/bphoto/B6xNx7...</td>\n",
       "      <td>False</td>\n",
       "      <td>https://www.yelp.com/biz/katzs-delicatessen-ne...</td>\n",
       "      <td>12108</td>\n",
       "      <td>[{'alias': 'delis', 'title': 'Delis'}, {'alias...</td>\n",
       "      <td>4.0</td>\n",
       "      <td>{'latitude': 40.722237, 'longitude': -73.98743}</td>\n",
       "      <td>['delivery', 'pickup']</td>\n",
       "      <td>$$</td>\n",
       "      <td>{'address1': '205 E Houston St', 'address2': '...</td>\n",
       "      <td>1.212254e+10</td>\n",
       "      <td>(212) 254-2246</td>\n",
       "      <td>1954.747221</td>\n",
       "    </tr>\n",
       "    <tr>\n",
       "      <th>2</th>\n",
       "      <td>xEnNFXtMLDF5kZDxfaCJgA</td>\n",
       "      <td>the-halal-guys-new-york-2</td>\n",
       "      <td>The Halal Guys</td>\n",
       "      <td>https://s3-media1.fl.yelpcdn.com/bphoto/24lb-V...</td>\n",
       "      <td>False</td>\n",
       "      <td>https://www.yelp.com/biz/the-halal-guys-new-yo...</td>\n",
       "      <td>9297</td>\n",
       "      <td>[{'alias': 'foodstands', 'title': 'Food Stands...</td>\n",
       "      <td>4.0</td>\n",
       "      <td>{'latitude': 40.761854, 'longitude': -73.979363}</td>\n",
       "      <td>[]</td>\n",
       "      <td>$</td>\n",
       "      <td>{'address1': 'W 53rd St 6th Ave', 'address2': ...</td>\n",
       "      <td>NaN</td>\n",
       "      <td>NaN</td>\n",
       "      <td>6397.309914</td>\n",
       "    </tr>\n",
       "    <tr>\n",
       "      <th>3</th>\n",
       "      <td>44SY464xDHbvOcjDzRbKkQ</td>\n",
       "      <td>ippudo-ny-new-york-7</td>\n",
       "      <td>Ippudo NY</td>\n",
       "      <td>https://s3-media1.fl.yelpcdn.com/bphoto/zF3Egq...</td>\n",
       "      <td>False</td>\n",
       "      <td>https://www.yelp.com/biz/ippudo-ny-new-york-7?...</td>\n",
       "      <td>9950</td>\n",
       "      <td>[{'alias': 'ramen', 'title': 'Ramen'}]</td>\n",
       "      <td>4.0</td>\n",
       "      <td>{'latitude': 40.73092, 'longitude': -73.99015}</td>\n",
       "      <td>['delivery', 'pickup']</td>\n",
       "      <td>$$</td>\n",
       "      <td>{'address1': '65 4th Ave', 'address2': '', 'ad...</td>\n",
       "      <td>NaN</td>\n",
       "      <td>NaN</td>\n",
       "      <td>2854.301267</td>\n",
       "    </tr>\n",
       "    <tr>\n",
       "      <th>4</th>\n",
       "      <td>jVncyqXwlx_D9f2xZn05tg</td>\n",
       "      <td>the-metropolitan-museum-of-art-new-york-3</td>\n",
       "      <td>The Metropolitan Museum of Art</td>\n",
       "      <td>https://s3-media2.fl.yelpcdn.com/bphoto/lHEKQR...</td>\n",
       "      <td>False</td>\n",
       "      <td>https://www.yelp.com/biz/the-metropolitan-muse...</td>\n",
       "      <td>2837</td>\n",
       "      <td>[{'alias': 'artmuseums', 'title': 'Art Museums'}]</td>\n",
       "      <td>4.5</td>\n",
       "      <td>{'latitude': 40.779449, 'longitude': -73.963245}</td>\n",
       "      <td>[]</td>\n",
       "      <td>NaN</td>\n",
       "      <td>{'address1': '1000 5th Ave', 'address2': '', '...</td>\n",
       "      <td>1.212536e+10</td>\n",
       "      <td>(212) 535-7710</td>\n",
       "      <td>8634.601734</td>\n",
       "    </tr>\n",
       "  </tbody>\n",
       "</table>\n",
       "</div>"
      ],
      "text/plain": [
       "                       id                                      alias  \\\n",
       "0  H4jJ7XB3CetIr1pg56CczQ                     levain-bakery-new-york   \n",
       "1  V7lXZKBDzScDeGB8JmnzSA                katzs-delicatessen-new-york   \n",
       "2  xEnNFXtMLDF5kZDxfaCJgA                  the-halal-guys-new-york-2   \n",
       "3  44SY464xDHbvOcjDzRbKkQ                       ippudo-ny-new-york-7   \n",
       "4  jVncyqXwlx_D9f2xZn05tg  the-metropolitan-museum-of-art-new-york-3   \n",
       "\n",
       "                             name  \\\n",
       "0                   Levain Bakery   \n",
       "1             Katz's Delicatessen   \n",
       "2                  The Halal Guys   \n",
       "3                       Ippudo NY   \n",
       "4  The Metropolitan Museum of Art   \n",
       "\n",
       "                                           image_url  is_closed  \\\n",
       "0  https://s3-media2.fl.yelpcdn.com/bphoto/zgjSt_...      False   \n",
       "1  https://s3-media1.fl.yelpcdn.com/bphoto/B6xNx7...      False   \n",
       "2  https://s3-media1.fl.yelpcdn.com/bphoto/24lb-V...      False   \n",
       "3  https://s3-media1.fl.yelpcdn.com/bphoto/zF3Egq...      False   \n",
       "4  https://s3-media2.fl.yelpcdn.com/bphoto/lHEKQR...      False   \n",
       "\n",
       "                                                 url  review_count  \\\n",
       "0  https://www.yelp.com/biz/levain-bakery-new-yor...          7933   \n",
       "1  https://www.yelp.com/biz/katzs-delicatessen-ne...         12108   \n",
       "2  https://www.yelp.com/biz/the-halal-guys-new-yo...          9297   \n",
       "3  https://www.yelp.com/biz/ippudo-ny-new-york-7?...          9950   \n",
       "4  https://www.yelp.com/biz/the-metropolitan-muse...          2837   \n",
       "\n",
       "                                          categories  rating  \\\n",
       "0       [{'alias': 'bakeries', 'title': 'Bakeries'}]     4.5   \n",
       "1  [{'alias': 'delis', 'title': 'Delis'}, {'alias...     4.0   \n",
       "2  [{'alias': 'foodstands', 'title': 'Food Stands...     4.0   \n",
       "3             [{'alias': 'ramen', 'title': 'Ramen'}]     4.0   \n",
       "4  [{'alias': 'artmuseums', 'title': 'Art Museums'}]     4.5   \n",
       "\n",
       "                                         coordinates            transactions  \\\n",
       "0  {'latitude': 40.7799404643263, 'longitude': -7...                      []   \n",
       "1    {'latitude': 40.722237, 'longitude': -73.98743}  ['delivery', 'pickup']   \n",
       "2   {'latitude': 40.761854, 'longitude': -73.979363}                      []   \n",
       "3     {'latitude': 40.73092, 'longitude': -73.99015}  ['delivery', 'pickup']   \n",
       "4   {'latitude': 40.779449, 'longitude': -73.963245}                      []   \n",
       "\n",
       "  price                                           location         phone  \\\n",
       "0    $$  {'address1': '167 W 74th St', 'address2': '', ...  1.917464e+10   \n",
       "1    $$  {'address1': '205 E Houston St', 'address2': '...  1.212254e+10   \n",
       "2     $  {'address1': 'W 53rd St 6th Ave', 'address2': ...           NaN   \n",
       "3    $$  {'address1': '65 4th Ave', 'address2': '', 'ad...           NaN   \n",
       "4   NaN  {'address1': '1000 5th Ave', 'address2': '', '...  1.212536e+10   \n",
       "\n",
       "    display_phone     distance  \n",
       "0  (917) 464-3769  8367.197123  \n",
       "1  (212) 254-2246  1954.747221  \n",
       "2             NaN  6397.309914  \n",
       "3             NaN  2854.301267  \n",
       "4  (212) 535-7710  8634.601734  "
      ]
     },
     "execution_count": 3,
     "metadata": {},
     "output_type": "execute_result"
    }
   ],
   "source": [
    "# Looking at the dataframe\n",
    "yelp.head()"
   ]
  },
  {
   "cell_type": "code",
   "execution_count": 4,
   "metadata": {},
   "outputs": [
    {
     "data": {
      "text/plain": [
       "(35786, 16)"
      ]
     },
     "execution_count": 4,
     "metadata": {},
     "output_type": "execute_result"
    }
   ],
   "source": [
    "# See the size of the dataframe\n",
    "yelp.shape"
   ]
  },
  {
   "cell_type": "code",
   "execution_count": 5,
   "metadata": {},
   "outputs": [
    {
     "data": {
      "text/plain": [
       "id                  0\n",
       "alias               0\n",
       "name                0\n",
       "image_url        1098\n",
       "is_closed           0\n",
       "url                 0\n",
       "review_count        0\n",
       "categories          0\n",
       "rating              0\n",
       "coordinates         0\n",
       "transactions        0\n",
       "price            5904\n",
       "location            0\n",
       "phone            1830\n",
       "display_phone    1830\n",
       "distance            0\n",
       "dtype: int64"
      ]
     },
     "execution_count": 5,
     "metadata": {},
     "output_type": "execute_result"
    }
   ],
   "source": [
    "# Checking for nulls\n",
    "yelp.isnull().sum()"
   ]
  },
  {
   "cell_type": "markdown",
   "metadata": {},
   "source": [
    "We don't have any use for data that is missing a price. We are dropping 5904 values but we still have more than enough values to cover the whole New York City area."
   ]
  },
  {
   "cell_type": "code",
   "execution_count": 6,
   "metadata": {},
   "outputs": [],
   "source": [
    "# Drop all rows that have a missing price \n",
    "yelp.dropna(subset = ['price'], inplace = True)"
   ]
  },
  {
   "cell_type": "markdown",
   "metadata": {},
   "source": [
    "We will be removing duplicatiates as we do not want multiple of the same values. This can give us inaccurate results."
   ]
  },
  {
   "cell_type": "code",
   "execution_count": 7,
   "metadata": {},
   "outputs": [],
   "source": [
    "# Map price to numbers\n",
    "yelp['price'] = yelp['price'].map({'$': 1, '$$': 2, '$$$': 3, '$$$$': 4})"
   ]
  },
  {
   "cell_type": "markdown",
   "metadata": {},
   "source": [
    "We are extracting categories as putting it into its own column. This will be used in our model later. "
   ]
  },
  {
   "cell_type": "code",
   "execution_count": 8,
   "metadata": {},
   "outputs": [],
   "source": [
    "# A function to extract the categories and put it into columns\n",
    "def convert_string_dict_to_string(string, key):\n",
    "    return \",\".join([dic[key] for dic in literal_eval(string)])"
   ]
  },
  {
   "cell_type": "code",
   "execution_count": 9,
   "metadata": {},
   "outputs": [],
   "source": [
    "# Extract categories\n",
    "yelp[\"category\"] = yelp[\"categories\"].map(lambda s: convert_string_dict_to_string(s,\"alias\"))"
   ]
  },
  {
   "cell_type": "markdown",
   "metadata": {},
   "source": [
    "We are extracting values from the location column. These values will be used for graphs, models, and train/test data."
   ]
  },
  {
   "cell_type": "code",
   "execution_count": 10,
   "metadata": {},
   "outputs": [],
   "source": [
    "# Extracting values from the location column and putting it into its own column\n",
    "yelp['latitude']=[ast.literal_eval(i)['latitude'] for i in yelp['coordinates']]\n",
    "yelp['longitude']=[ast.literal_eval(i)['longitude'] for i in yelp['coordinates']]\n",
    "yelp['zip_code']=[ast.literal_eval(i)['zip_code'] for i in yelp['location']]\n",
    "yelp['city']=[ast.literal_eval(i)['city'] for i in yelp['location']]\n",
    "yelp['state']=[ast.literal_eval(i)['state'] for i in yelp['location']]"
   ]
  },
  {
   "cell_type": "markdown",
   "metadata": {},
   "source": [
    "We are removing columns that we do not need this way we only see what we need, making the it cleaner."
   ]
  },
  {
   "cell_type": "code",
   "execution_count": 11,
   "metadata": {},
   "outputs": [],
   "source": [
    "# Remoivng columns that we aren't using and re-organizing the order of the columns\n",
    "# ID put at the end as it is not that relevant\n",
    "yelp = yelp[['zip_code', 'name','price', 'city', 'category', 'state', 'review_count', 'latitude', 'longitude', 'id', ]]"
   ]
  },
  {
   "cell_type": "markdown",
   "metadata": {},
   "source": [
    "We are removing these rows that do not have a zip code. This was preventing the column from becoming an int. "
   ]
  },
  {
   "cell_type": "code",
   "execution_count": 12,
   "metadata": {},
   "outputs": [
    {
     "data": {
      "text/plain": [
       "17875         \n",
       "24758         \n",
       "19991         \n",
       "35600         \n",
       "12701         \n",
       "12749         \n",
       "10807         \n",
       "16910         \n",
       "30077         \n",
       "33415         \n",
       "34392         \n",
       "30175         \n",
       "13211         \n",
       "19309         \n",
       "20944         \n",
       "34579    06824\n",
       "33732    06824\n",
       "24945    06830\n",
       "15130    06830\n",
       "12411    06830\n",
       "Name: zip_code, dtype: object"
      ]
     },
     "execution_count": 12,
     "metadata": {},
     "output_type": "execute_result"
    }
   ],
   "source": [
    "# Looking at column that does not have zip codes\n",
    "yelp['zip_code'].sort_values(ascending = True).head(20)"
   ]
  },
  {
   "cell_type": "code",
   "execution_count": 13,
   "metadata": {},
   "outputs": [],
   "source": [
    "# Removing values that do not have a zip code\n",
    "yelp.drop(index = [17875,         \n",
    "24758,         \n",
    "19991,         \n",
    "35600,         \n",
    "12701,         \n",
    "12749,         \n",
    "10807,         \n",
    "16910,         \n",
    "30077,         \n",
    "33415,         \n",
    "34392,         \n",
    "30175,         \n",
    "13211,         \n",
    "19309,         \n",
    "20944,\n",
    "29231], inplace = True)"
   ]
  },
  {
   "cell_type": "code",
   "execution_count": 14,
   "metadata": {},
   "outputs": [],
   "source": [
    "# Changing the column to an int\n",
    "yelp['zip_code'] = yelp['zip_code'].astype(int)"
   ]
  },
  {
   "cell_type": "markdown",
   "metadata": {},
   "source": [
    "We remove values that are not NY state to remove any outliers. There were values in other states such as New Jersey and Connecticut. We remove zip codes that are not in New York City as well."
   ]
  },
  {
   "cell_type": "code",
   "execution_count": 15,
   "metadata": {},
   "outputs": [
    {
     "data": {
      "text/plain": [
       "NY    29490\n",
       "NJ      359\n",
       "CT        9\n",
       "FL        6\n",
       "NV        2\n",
       "Name: state, dtype: int64"
      ]
     },
     "execution_count": 15,
     "metadata": {},
     "output_type": "execute_result"
    }
   ],
   "source": [
    "# To see what states we have\n",
    "yelp['state'].value_counts()"
   ]
  },
  {
   "cell_type": "code",
   "execution_count": 16,
   "metadata": {},
   "outputs": [],
   "source": [
    "# Remove values that are not NYC\n",
    "yelp = yelp[yelp['state'] == 'NY']"
   ]
  },
  {
   "cell_type": "code",
   "execution_count": 17,
   "metadata": {},
   "outputs": [],
   "source": [
    "#Remove zip codes that are not NYC\n",
    "yelp = yelp[(yelp['zip_code'] >= 10001) & (yelp['zip_code'] <= 11697)]"
   ]
  },
  {
   "cell_type": "code",
   "execution_count": 18,
   "metadata": {},
   "outputs": [],
   "source": [
    "# Make price column an int\n",
    "yelp['price'] = yelp['price'].astype(int)"
   ]
  },
  {
   "cell_type": "code",
   "execution_count": 19,
   "metadata": {},
   "outputs": [
    {
     "data": {
      "text/html": [
       "<div>\n",
       "<style scoped>\n",
       "    .dataframe tbody tr th:only-of-type {\n",
       "        vertical-align: middle;\n",
       "    }\n",
       "\n",
       "    .dataframe tbody tr th {\n",
       "        vertical-align: top;\n",
       "    }\n",
       "\n",
       "    .dataframe thead th {\n",
       "        text-align: right;\n",
       "    }\n",
       "</style>\n",
       "<table border=\"1\" class=\"dataframe\">\n",
       "  <thead>\n",
       "    <tr style=\"text-align: right;\">\n",
       "      <th></th>\n",
       "      <th>zip_code</th>\n",
       "      <th>name</th>\n",
       "      <th>price</th>\n",
       "      <th>city</th>\n",
       "      <th>category</th>\n",
       "      <th>state</th>\n",
       "      <th>review_count</th>\n",
       "      <th>latitude</th>\n",
       "      <th>longitude</th>\n",
       "      <th>id</th>\n",
       "    </tr>\n",
       "  </thead>\n",
       "  <tbody>\n",
       "    <tr>\n",
       "      <th>0</th>\n",
       "      <td>10023</td>\n",
       "      <td>Levain Bakery</td>\n",
       "      <td>2</td>\n",
       "      <td>New York</td>\n",
       "      <td>bakeries</td>\n",
       "      <td>NY</td>\n",
       "      <td>7933</td>\n",
       "      <td>40.779940</td>\n",
       "      <td>-73.980283</td>\n",
       "      <td>H4jJ7XB3CetIr1pg56CczQ</td>\n",
       "    </tr>\n",
       "    <tr>\n",
       "      <th>1</th>\n",
       "      <td>10003</td>\n",
       "      <td>Katz's Delicatessen</td>\n",
       "      <td>2</td>\n",
       "      <td>New York</td>\n",
       "      <td>delis,sandwiches,catering</td>\n",
       "      <td>NY</td>\n",
       "      <td>12108</td>\n",
       "      <td>40.722237</td>\n",
       "      <td>-73.987430</td>\n",
       "      <td>V7lXZKBDzScDeGB8JmnzSA</td>\n",
       "    </tr>\n",
       "    <tr>\n",
       "      <th>2</th>\n",
       "      <td>10019</td>\n",
       "      <td>The Halal Guys</td>\n",
       "      <td>1</td>\n",
       "      <td>New York</td>\n",
       "      <td>foodstands,mideastern,halal</td>\n",
       "      <td>NY</td>\n",
       "      <td>9297</td>\n",
       "      <td>40.761854</td>\n",
       "      <td>-73.979363</td>\n",
       "      <td>xEnNFXtMLDF5kZDxfaCJgA</td>\n",
       "    </tr>\n",
       "    <tr>\n",
       "      <th>3</th>\n",
       "      <td>10003</td>\n",
       "      <td>Ippudo NY</td>\n",
       "      <td>2</td>\n",
       "      <td>New York</td>\n",
       "      <td>ramen</td>\n",
       "      <td>NY</td>\n",
       "      <td>9950</td>\n",
       "      <td>40.730920</td>\n",
       "      <td>-73.990150</td>\n",
       "      <td>44SY464xDHbvOcjDzRbKkQ</td>\n",
       "    </tr>\n",
       "    <tr>\n",
       "      <th>6</th>\n",
       "      <td>10019</td>\n",
       "      <td>Bibble &amp; Sip</td>\n",
       "      <td>1</td>\n",
       "      <td>New York</td>\n",
       "      <td>coffee,bakeries</td>\n",
       "      <td>NY</td>\n",
       "      <td>4746</td>\n",
       "      <td>40.762820</td>\n",
       "      <td>-73.985180</td>\n",
       "      <td>WHRHK3S1mQc3PmhwsGRvbw</td>\n",
       "    </tr>\n",
       "  </tbody>\n",
       "</table>\n",
       "</div>"
      ],
      "text/plain": [
       "   zip_code                 name  price      city  \\\n",
       "0     10023        Levain Bakery      2  New York   \n",
       "1     10003  Katz's Delicatessen      2  New York   \n",
       "2     10019       The Halal Guys      1  New York   \n",
       "3     10003            Ippudo NY      2  New York   \n",
       "6     10019         Bibble & Sip      1  New York   \n",
       "\n",
       "                      category state  review_count   latitude  longitude  \\\n",
       "0                     bakeries    NY          7933  40.779940 -73.980283   \n",
       "1    delis,sandwiches,catering    NY         12108  40.722237 -73.987430   \n",
       "2  foodstands,mideastern,halal    NY          9297  40.761854 -73.979363   \n",
       "3                        ramen    NY          9950  40.730920 -73.990150   \n",
       "6              coffee,bakeries    NY          4746  40.762820 -73.985180   \n",
       "\n",
       "                       id  \n",
       "0  H4jJ7XB3CetIr1pg56CczQ  \n",
       "1  V7lXZKBDzScDeGB8JmnzSA  \n",
       "2  xEnNFXtMLDF5kZDxfaCJgA  \n",
       "3  44SY464xDHbvOcjDzRbKkQ  \n",
       "6  WHRHK3S1mQc3PmhwsGRvbw  "
      ]
     },
     "execution_count": 19,
     "metadata": {},
     "output_type": "execute_result"
    }
   ],
   "source": [
    "# Show clean dataframe\n",
    "yelp.head()"
   ]
  },
  {
   "cell_type": "code",
   "execution_count": 20,
   "metadata": {},
   "outputs": [
    {
     "data": {
      "text/html": [
       "<div>\n",
       "<style scoped>\n",
       "    .dataframe tbody tr th:only-of-type {\n",
       "        vertical-align: middle;\n",
       "    }\n",
       "\n",
       "    .dataframe tbody tr th {\n",
       "        vertical-align: top;\n",
       "    }\n",
       "\n",
       "    .dataframe thead th {\n",
       "        text-align: right;\n",
       "    }\n",
       "</style>\n",
       "<table border=\"1\" class=\"dataframe\">\n",
       "  <thead>\n",
       "    <tr style=\"text-align: right;\">\n",
       "      <th></th>\n",
       "      <th>NEW YORK</th>\n",
       "      <th>Unnamed: 1</th>\n",
       "      <th>Unnamed: 2</th>\n",
       "      <th>Unnamed: 3</th>\n",
       "      <th>Unnamed: 4</th>\n",
       "      <th>Unnamed: 5</th>\n",
       "      <th>Unnamed: 6</th>\n",
       "      <th>Unnamed: 7</th>\n",
       "      <th>Unnamed: 8</th>\n",
       "      <th>Unnamed: 9</th>\n",
       "      <th>...</th>\n",
       "      <th>Unnamed: 141</th>\n",
       "      <th>Unnamed: 142</th>\n",
       "      <th>Unnamed: 143</th>\n",
       "      <th>Unnamed: 144</th>\n",
       "      <th>Unnamed: 145</th>\n",
       "      <th>Unnamed: 146</th>\n",
       "      <th>Unnamed: 147</th>\n",
       "      <th>Unnamed: 148</th>\n",
       "      <th>Unnamed: 149</th>\n",
       "      <th>Unnamed: 150</th>\n",
       "    </tr>\n",
       "  </thead>\n",
       "  <tbody>\n",
       "    <tr>\n",
       "      <th>0</th>\n",
       "      <td>Individual Income Tax Returns: \\nSelected Inco...</td>\n",
       "      <td>NaN</td>\n",
       "      <td>NaN</td>\n",
       "      <td>NaN</td>\n",
       "      <td>NaN</td>\n",
       "      <td>NaN</td>\n",
       "      <td>NaN</td>\n",
       "      <td>NaN</td>\n",
       "      <td>NaN</td>\n",
       "      <td>NaN</td>\n",
       "      <td>...</td>\n",
       "      <td>NaN</td>\n",
       "      <td>NaN</td>\n",
       "      <td>NaN</td>\n",
       "      <td>NaN</td>\n",
       "      <td>NaN</td>\n",
       "      <td>NaN</td>\n",
       "      <td>NaN</td>\n",
       "      <td>NaN</td>\n",
       "      <td>NaN</td>\n",
       "      <td>NaN</td>\n",
       "    </tr>\n",
       "    <tr>\n",
       "      <th>1</th>\n",
       "      <td>[Money amounts are in thousands of dollars]</td>\n",
       "      <td>NaN</td>\n",
       "      <td>NaN</td>\n",
       "      <td>NaN</td>\n",
       "      <td>NaN</td>\n",
       "      <td>NaN</td>\n",
       "      <td>NaN</td>\n",
       "      <td>NaN</td>\n",
       "      <td>NaN</td>\n",
       "      <td>NaN</td>\n",
       "      <td>...</td>\n",
       "      <td>NaN</td>\n",
       "      <td>NaN</td>\n",
       "      <td>NaN</td>\n",
       "      <td>NaN</td>\n",
       "      <td>NaN</td>\n",
       "      <td>NaN</td>\n",
       "      <td>NaN</td>\n",
       "      <td>NaN</td>\n",
       "      <td>NaN</td>\n",
       "      <td>NaN</td>\n",
       "    </tr>\n",
       "    <tr>\n",
       "      <th>2</th>\n",
       "      <td>ZIP\\ncode [1]</td>\n",
       "      <td>Size of adjusted gross income</td>\n",
       "      <td>Number of returns</td>\n",
       "      <td>Number of single returns</td>\n",
       "      <td>Number of joint returns</td>\n",
       "      <td>Number of head of household returns</td>\n",
       "      <td>Number of electronically filed returns</td>\n",
       "      <td>Number of computer prepared paper returns</td>\n",
       "      <td>Number with paid preparer's signature</td>\n",
       "      <td>Number of returns with direct deposit</td>\n",
       "      <td>...</td>\n",
       "      <td>Net investment income tax</td>\n",
       "      <td>NaN</td>\n",
       "      <td>Tax due at time of filing [12]</td>\n",
       "      <td>NaN</td>\n",
       "      <td>Total overpayments</td>\n",
       "      <td>NaN</td>\n",
       "      <td>Overpayments refunded [13]</td>\n",
       "      <td>NaN</td>\n",
       "      <td>Credited to next year's estimated tax</td>\n",
       "      <td>NaN</td>\n",
       "    </tr>\n",
       "    <tr>\n",
       "      <th>3</th>\n",
       "      <td>NaN</td>\n",
       "      <td>NaN</td>\n",
       "      <td>NaN</td>\n",
       "      <td>NaN</td>\n",
       "      <td>NaN</td>\n",
       "      <td>NaN</td>\n",
       "      <td>NaN</td>\n",
       "      <td>NaN</td>\n",
       "      <td>NaN</td>\n",
       "      <td>NaN</td>\n",
       "      <td>...</td>\n",
       "      <td>Number of returns</td>\n",
       "      <td>Amount</td>\n",
       "      <td>Number of returns</td>\n",
       "      <td>Amount</td>\n",
       "      <td>Number of returns</td>\n",
       "      <td>Amount</td>\n",
       "      <td>Number of returns</td>\n",
       "      <td>Amount</td>\n",
       "      <td>Number of returns</td>\n",
       "      <td>Amount</td>\n",
       "    </tr>\n",
       "    <tr>\n",
       "      <th>4</th>\n",
       "      <td>NaN</td>\n",
       "      <td>NaN</td>\n",
       "      <td>-1</td>\n",
       "      <td>-2</td>\n",
       "      <td>-3</td>\n",
       "      <td>-4</td>\n",
       "      <td>-5</td>\n",
       "      <td>-6</td>\n",
       "      <td>-7</td>\n",
       "      <td>-8</td>\n",
       "      <td>...</td>\n",
       "      <td>-140</td>\n",
       "      <td>-141</td>\n",
       "      <td>-142</td>\n",
       "      <td>-143</td>\n",
       "      <td>-144</td>\n",
       "      <td>-145</td>\n",
       "      <td>-146</td>\n",
       "      <td>-147</td>\n",
       "      <td>-148</td>\n",
       "      <td>-149</td>\n",
       "    </tr>\n",
       "  </tbody>\n",
       "</table>\n",
       "<p>5 rows × 151 columns</p>\n",
       "</div>"
      ],
      "text/plain": [
       "                                            NEW YORK  \\\n",
       "0  Individual Income Tax Returns: \\nSelected Inco...   \n",
       "1        [Money amounts are in thousands of dollars]   \n",
       "2                                      ZIP\\ncode [1]   \n",
       "3                                                NaN   \n",
       "4                                                NaN   \n",
       "\n",
       "                      Unnamed: 1         Unnamed: 2                Unnamed: 3  \\\n",
       "0                            NaN                NaN                       NaN   \n",
       "1                            NaN                NaN                       NaN   \n",
       "2  Size of adjusted gross income  Number of returns  Number of single returns   \n",
       "3                            NaN                NaN                       NaN   \n",
       "4                            NaN                 -1                        -2   \n",
       "\n",
       "                Unnamed: 4                           Unnamed: 5  \\\n",
       "0                      NaN                                  NaN   \n",
       "1                      NaN                                  NaN   \n",
       "2  Number of joint returns  Number of head of household returns   \n",
       "3                      NaN                                  NaN   \n",
       "4                       -3                                   -4   \n",
       "\n",
       "                               Unnamed: 6  \\\n",
       "0                                     NaN   \n",
       "1                                     NaN   \n",
       "2  Number of electronically filed returns   \n",
       "3                                     NaN   \n",
       "4                                      -5   \n",
       "\n",
       "                                  Unnamed: 7  \\\n",
       "0                                        NaN   \n",
       "1                                        NaN   \n",
       "2  Number of computer prepared paper returns   \n",
       "3                                        NaN   \n",
       "4                                         -6   \n",
       "\n",
       "                              Unnamed: 8  \\\n",
       "0                                    NaN   \n",
       "1                                    NaN   \n",
       "2  Number with paid preparer's signature   \n",
       "3                                    NaN   \n",
       "4                                     -7   \n",
       "\n",
       "                              Unnamed: 9  ...               Unnamed: 141  \\\n",
       "0                                    NaN  ...                        NaN   \n",
       "1                                    NaN  ...                        NaN   \n",
       "2  Number of returns with direct deposit  ...  Net investment income tax   \n",
       "3                                    NaN  ...          Number of returns   \n",
       "4                                     -8  ...                       -140   \n",
       "\n",
       "  Unnamed: 142                    Unnamed: 143 Unnamed: 144  \\\n",
       "0          NaN                             NaN          NaN   \n",
       "1          NaN                             NaN          NaN   \n",
       "2          NaN  Tax due at time of filing [12]          NaN   \n",
       "3       Amount               Number of returns       Amount   \n",
       "4         -141                            -142         -143   \n",
       "\n",
       "         Unnamed: 145 Unnamed: 146                Unnamed: 147 Unnamed: 148  \\\n",
       "0                 NaN          NaN                         NaN          NaN   \n",
       "1                 NaN          NaN                         NaN          NaN   \n",
       "2  Total overpayments          NaN  Overpayments refunded [13]          NaN   \n",
       "3   Number of returns       Amount           Number of returns       Amount   \n",
       "4                -144         -145                        -146         -147   \n",
       "\n",
       "                            Unnamed: 149 Unnamed: 150  \n",
       "0                                    NaN          NaN  \n",
       "1                                    NaN          NaN  \n",
       "2  Credited to next year's estimated tax          NaN  \n",
       "3                      Number of returns       Amount  \n",
       "4                                   -148         -149  \n",
       "\n",
       "[5 rows x 151 columns]"
      ]
     },
     "execution_count": 20,
     "metadata": {},
     "output_type": "execute_result"
    }
   ],
   "source": [
    "# Show IRS data\n",
    "income.head()"
   ]
  },
  {
   "cell_type": "markdown",
   "metadata": {},
   "source": [
    "We clean the IRS data to just show the data we want. We use adjusted gross income as everyone has different taxes and this allows us to adjust for other areas."
   ]
  },
  {
   "cell_type": "code",
   "execution_count": 21,
   "metadata": {},
   "outputs": [],
   "source": [
    "# To only keep the columns that we need, we drop everything else\n",
    "# Rename the columns to appropiate names\n",
    "income = income.drop([0, 1, 2, 4, 5, 6, 7, 8, 9, 10, 11]);\n",
    "income = income.iloc[: , [0, 21, 22]];\n",
    "income = income.rename(columns=income.iloc[0]).drop(income.index[0]);\n",
    "income.dropna(inplace=True);\n",
    "income.columns.values[0] = 'zip_code'\n",
    "income = income.rename(columns={'Number of returns' : 'number_of_returns', 'Amount': 'amount'})"
   ]
  },
  {
   "cell_type": "code",
   "execution_count": 22,
   "metadata": {},
   "outputs": [],
   "source": [
    "# Reset index to 1\n",
    "income = income.reset_index(drop = True)"
   ]
  },
  {
   "cell_type": "code",
   "execution_count": 23,
   "metadata": {},
   "outputs": [
    {
     "data": {
      "text/html": [
       "<div>\n",
       "<style scoped>\n",
       "    .dataframe tbody tr th:only-of-type {\n",
       "        vertical-align: middle;\n",
       "    }\n",
       "\n",
       "    .dataframe tbody tr th {\n",
       "        vertical-align: top;\n",
       "    }\n",
       "\n",
       "    .dataframe thead th {\n",
       "        text-align: right;\n",
       "    }\n",
       "</style>\n",
       "<table border=\"1\" class=\"dataframe\">\n",
       "  <thead>\n",
       "    <tr style=\"text-align: right;\">\n",
       "      <th></th>\n",
       "      <th>zip_code</th>\n",
       "      <th>number_of_returns</th>\n",
       "      <th>amount</th>\n",
       "    </tr>\n",
       "  </thead>\n",
       "  <tbody>\n",
       "    <tr>\n",
       "      <th>0</th>\n",
       "      <td>10001</td>\n",
       "      <td>12820</td>\n",
       "      <td>1840121</td>\n",
       "    </tr>\n",
       "    <tr>\n",
       "      <th>1</th>\n",
       "      <td>10001</td>\n",
       "      <td>2370</td>\n",
       "      <td>30430</td>\n",
       "    </tr>\n",
       "    <tr>\n",
       "      <th>2</th>\n",
       "      <td>10001</td>\n",
       "      <td>2200</td>\n",
       "      <td>78795</td>\n",
       "    </tr>\n",
       "    <tr>\n",
       "      <th>3</th>\n",
       "      <td>10001</td>\n",
       "      <td>1780</td>\n",
       "      <td>102775</td>\n",
       "    </tr>\n",
       "    <tr>\n",
       "      <th>4</th>\n",
       "      <td>10001</td>\n",
       "      <td>1300</td>\n",
       "      <td>102686</td>\n",
       "    </tr>\n",
       "    <tr>\n",
       "      <th>...</th>\n",
       "      <td>...</td>\n",
       "      <td>...</td>\n",
       "      <td>...</td>\n",
       "    </tr>\n",
       "    <tr>\n",
       "      <th>10746</th>\n",
       "      <td>99999</td>\n",
       "      <td>21450</td>\n",
       "      <td>269701</td>\n",
       "    </tr>\n",
       "    <tr>\n",
       "      <th>10747</th>\n",
       "      <td>99999</td>\n",
       "      <td>16150</td>\n",
       "      <td>547354</td>\n",
       "    </tr>\n",
       "    <tr>\n",
       "      <th>10748</th>\n",
       "      <td>99999</td>\n",
       "      <td>9890</td>\n",
       "      <td>539754</td>\n",
       "    </tr>\n",
       "    <tr>\n",
       "      <th>10749</th>\n",
       "      <td>99999</td>\n",
       "      <td>6170</td>\n",
       "      <td>456576</td>\n",
       "    </tr>\n",
       "    <tr>\n",
       "      <th>10751</th>\n",
       "      <td>99999</td>\n",
       "      <td>6990</td>\n",
       "      <td>5221198</td>\n",
       "    </tr>\n",
       "  </tbody>\n",
       "</table>\n",
       "<p>10752 rows × 3 columns</p>\n",
       "</div>"
      ],
      "text/plain": [
       "      zip_code number_of_returns   amount\n",
       "0        10001             12820  1840121\n",
       "1        10001              2370    30430\n",
       "2        10001              2200    78795\n",
       "3        10001              1780   102775\n",
       "4        10001              1300   102686\n",
       "...        ...               ...      ...\n",
       "10746    99999             21450   269701\n",
       "10747    99999             16150   547354\n",
       "10748    99999              9890   539754\n",
       "10749    99999              6170   456576\n",
       "10751    99999              6990  5221198\n",
       "\n",
       "[10752 rows x 3 columns]"
      ]
     },
     "execution_count": 23,
     "metadata": {},
     "output_type": "execute_result"
    }
   ],
   "source": [
    "# Putting dataframe in order by zip_code\n",
    "income.sort_values('zip_code')"
   ]
  },
  {
   "cell_type": "markdown",
   "metadata": {},
   "source": [
    "This is to make a new dataframe to show us how many yelp dollars for each column."
   ]
  },
  {
   "cell_type": "code",
   "execution_count": 24,
   "metadata": {},
   "outputs": [],
   "source": [
    "# To make a dataframe and use see the total number \n",
    "# of dollar values for each zip code\n",
    "# yelp_dollar\n",
    "yelp_dollar = yelp.set_index('zip_code')\n",
    "yelp_dollar = pd.pivot_table(yelp_dollar, index='zip_code', columns=['price'], values='id', aggfunc=\"count\",fill_value=0)\n",
    "yelp_dollar = pd.DataFrame(yelp_dollar.to_records())\n",
    "yelp_dollar['total'] = yelp_dollar['1'] + yelp_dollar['2'] + yelp_dollar['3'] + yelp_dollar['4']"
   ]
  },
  {
   "cell_type": "markdown",
   "metadata": {},
   "source": [
    "We can see the amount of yelp dollars for each zip code as well as total amount. We can see that there are a lot more in 1 and 2 instead of 3 and 4."
   ]
  },
  {
   "cell_type": "code",
   "execution_count": 25,
   "metadata": {
    "scrolled": false
   },
   "outputs": [
    {
     "data": {
      "text/html": [
       "<div>\n",
       "<style scoped>\n",
       "    .dataframe tbody tr th:only-of-type {\n",
       "        vertical-align: middle;\n",
       "    }\n",
       "\n",
       "    .dataframe tbody tr th {\n",
       "        vertical-align: top;\n",
       "    }\n",
       "\n",
       "    .dataframe thead th {\n",
       "        text-align: right;\n",
       "    }\n",
       "</style>\n",
       "<table border=\"1\" class=\"dataframe\">\n",
       "  <thead>\n",
       "    <tr style=\"text-align: right;\">\n",
       "      <th></th>\n",
       "      <th>zip_code</th>\n",
       "      <th>1</th>\n",
       "      <th>2</th>\n",
       "      <th>3</th>\n",
       "      <th>4</th>\n",
       "      <th>total</th>\n",
       "    </tr>\n",
       "  </thead>\n",
       "  <tbody>\n",
       "    <tr>\n",
       "      <th>0</th>\n",
       "      <td>10001</td>\n",
       "      <td>102</td>\n",
       "      <td>242</td>\n",
       "      <td>40</td>\n",
       "      <td>1</td>\n",
       "      <td>385</td>\n",
       "    </tr>\n",
       "    <tr>\n",
       "      <th>1</th>\n",
       "      <td>10002</td>\n",
       "      <td>181</td>\n",
       "      <td>411</td>\n",
       "      <td>54</td>\n",
       "      <td>2</td>\n",
       "      <td>648</td>\n",
       "    </tr>\n",
       "    <tr>\n",
       "      <th>2</th>\n",
       "      <td>10003</td>\n",
       "      <td>173</td>\n",
       "      <td>698</td>\n",
       "      <td>132</td>\n",
       "      <td>52</td>\n",
       "      <td>1055</td>\n",
       "    </tr>\n",
       "    <tr>\n",
       "      <th>3</th>\n",
       "      <td>10004</td>\n",
       "      <td>0</td>\n",
       "      <td>49</td>\n",
       "      <td>15</td>\n",
       "      <td>8</td>\n",
       "      <td>72</td>\n",
       "    </tr>\n",
       "    <tr>\n",
       "      <th>4</th>\n",
       "      <td>10005</td>\n",
       "      <td>21</td>\n",
       "      <td>0</td>\n",
       "      <td>0</td>\n",
       "      <td>8</td>\n",
       "      <td>29</td>\n",
       "    </tr>\n",
       "  </tbody>\n",
       "</table>\n",
       "</div>"
      ],
      "text/plain": [
       "   zip_code    1    2    3   4  total\n",
       "0     10001  102  242   40   1    385\n",
       "1     10002  181  411   54   2    648\n",
       "2     10003  173  698  132  52   1055\n",
       "3     10004    0   49   15   8     72\n",
       "4     10005   21    0    0   8     29"
      ]
     },
     "execution_count": 25,
     "metadata": {},
     "output_type": "execute_result"
    }
   ],
   "source": [
    "# Change zip code to int\n",
    "# To show yelp dollars for each zip code\n",
    "yelp_dollar['zip_code'] = yelp_dollar['zip_code'].astype(int)\n",
    "yelp_dollar.head()"
   ]
  },
  {
   "cell_type": "code",
   "execution_count": 26,
   "metadata": {},
   "outputs": [],
   "source": [
    "# To make a dataframe to show total yelp dollars for each value\n",
    "yelp_zip_price = yelp['price'].value_counts().rename_axis('unique_values').reset_index(name='total')\n",
    "df = yelp['price'].value_counts(normalize = True).rename_axis('unique_values').reset_index(name='total_percentage')\n",
    "yelp_zip_price['total_percentage'] = df['total_percentage'] * 100\n",
    "yelp_zip_price = yelp_zip_price.rename(columns={'unique_values' : 'yelp_dollar'})"
   ]
  },
  {
   "cell_type": "markdown",
   "metadata": {},
   "source": [
    "We can see the amount of yelp dollars total that we have. We can see that there are a l ot more 1 and 2 instead of 3 and 4. 1 and 2 mak up more than 80% while 3 and 4 are less than 10%."
   ]
  },
  {
   "cell_type": "code",
   "execution_count": 27,
   "metadata": {
    "scrolled": true
   },
   "outputs": [
    {
     "data": {
      "text/html": [
       "<div>\n",
       "<style scoped>\n",
       "    .dataframe tbody tr th:only-of-type {\n",
       "        vertical-align: middle;\n",
       "    }\n",
       "\n",
       "    .dataframe tbody tr th {\n",
       "        vertical-align: top;\n",
       "    }\n",
       "\n",
       "    .dataframe thead th {\n",
       "        text-align: right;\n",
       "    }\n",
       "</style>\n",
       "<table border=\"1\" class=\"dataframe\">\n",
       "  <thead>\n",
       "    <tr style=\"text-align: right;\">\n",
       "      <th></th>\n",
       "      <th>yelp_dollar</th>\n",
       "      <th>total</th>\n",
       "      <th>total_percentage</th>\n",
       "    </tr>\n",
       "  </thead>\n",
       "  <tbody>\n",
       "    <tr>\n",
       "      <th>0</th>\n",
       "      <td>2</td>\n",
       "      <td>16134</td>\n",
       "      <td>54.760208</td>\n",
       "    </tr>\n",
       "    <tr>\n",
       "      <th>1</th>\n",
       "      <td>1</td>\n",
       "      <td>10599</td>\n",
       "      <td>35.973933</td>\n",
       "    </tr>\n",
       "    <tr>\n",
       "      <th>2</th>\n",
       "      <td>3</td>\n",
       "      <td>2157</td>\n",
       "      <td>7.321047</td>\n",
       "    </tr>\n",
       "    <tr>\n",
       "      <th>3</th>\n",
       "      <td>4</td>\n",
       "      <td>573</td>\n",
       "      <td>1.944812</td>\n",
       "    </tr>\n",
       "  </tbody>\n",
       "</table>\n",
       "</div>"
      ],
      "text/plain": [
       "   yelp_dollar  total  total_percentage\n",
       "0            2  16134         54.760208\n",
       "1            1  10599         35.973933\n",
       "2            3   2157          7.321047\n",
       "3            4    573          1.944812"
      ]
     },
     "execution_count": 27,
     "metadata": {},
     "output_type": "execute_result"
    }
   ],
   "source": [
    "# Show total yelp dollars\n",
    "yelp_zip_price.head()"
   ]
  },
  {
   "cell_type": "markdown",
   "metadata": {},
   "source": [
    "We are getting the affluency from income. Affluency is determined by having more than 25% of an area earning more than $200,000"
   ]
  },
  {
   "cell_type": "code",
   "execution_count": 28,
   "metadata": {},
   "outputs": [],
   "source": [
    "# Getting the affluency from income\n",
    "denominators=[]\n",
    "numerators=[]\n",
    "zip_codes=[]\n",
    "for i in range (0, len(income), 7):\n",
    "    zip_codes.append(income.loc[i,:]['zip_code'])\n",
    "for i in range(0,len(income),7):\n",
    "    denominators.append(income.loc[i,:]['number_of_returns'])\n",
    "for i in range(6,len(income),7):\n",
    "    numerators.append(income.loc[i,:]['number_of_returns'])\n",
    "affluency= [numerators[i] / denominators[i] for i,n in enumerate(numerators)]"
   ]
  },
  {
   "cell_type": "code",
   "execution_count": 29,
   "metadata": {},
   "outputs": [
    {
     "data": {
      "text/html": [
       "<div>\n",
       "<style scoped>\n",
       "    .dataframe tbody tr th:only-of-type {\n",
       "        vertical-align: middle;\n",
       "    }\n",
       "\n",
       "    .dataframe tbody tr th {\n",
       "        vertical-align: top;\n",
       "    }\n",
       "\n",
       "    .dataframe thead th {\n",
       "        text-align: right;\n",
       "    }\n",
       "</style>\n",
       "<table border=\"1\" class=\"dataframe\">\n",
       "  <thead>\n",
       "    <tr style=\"text-align: right;\">\n",
       "      <th></th>\n",
       "      <th>zip_code</th>\n",
       "      <th>1</th>\n",
       "      <th>2</th>\n",
       "      <th>3</th>\n",
       "      <th>4</th>\n",
       "      <th>total</th>\n",
       "    </tr>\n",
       "  </thead>\n",
       "  <tbody>\n",
       "    <tr>\n",
       "      <th>0</th>\n",
       "      <td>10001</td>\n",
       "      <td>102</td>\n",
       "      <td>242</td>\n",
       "      <td>40</td>\n",
       "      <td>1</td>\n",
       "      <td>385</td>\n",
       "    </tr>\n",
       "    <tr>\n",
       "      <th>1</th>\n",
       "      <td>10002</td>\n",
       "      <td>181</td>\n",
       "      <td>411</td>\n",
       "      <td>54</td>\n",
       "      <td>2</td>\n",
       "      <td>648</td>\n",
       "    </tr>\n",
       "    <tr>\n",
       "      <th>2</th>\n",
       "      <td>10003</td>\n",
       "      <td>173</td>\n",
       "      <td>698</td>\n",
       "      <td>132</td>\n",
       "      <td>52</td>\n",
       "      <td>1055</td>\n",
       "    </tr>\n",
       "    <tr>\n",
       "      <th>3</th>\n",
       "      <td>10004</td>\n",
       "      <td>0</td>\n",
       "      <td>49</td>\n",
       "      <td>15</td>\n",
       "      <td>8</td>\n",
       "      <td>72</td>\n",
       "    </tr>\n",
       "    <tr>\n",
       "      <th>4</th>\n",
       "      <td>10005</td>\n",
       "      <td>21</td>\n",
       "      <td>0</td>\n",
       "      <td>0</td>\n",
       "      <td>8</td>\n",
       "      <td>29</td>\n",
       "    </tr>\n",
       "  </tbody>\n",
       "</table>\n",
       "</div>"
      ],
      "text/plain": [
       "   zip_code    1    2    3   4  total\n",
       "0     10001  102  242   40   1    385\n",
       "1     10002  181  411   54   2    648\n",
       "2     10003  173  698  132  52   1055\n",
       "3     10004    0   49   15   8     72\n",
       "4     10005   21    0    0   8     29"
      ]
     },
     "execution_count": 29,
     "metadata": {},
     "output_type": "execute_result"
    }
   ],
   "source": [
    "yelp_dollar.head()"
   ]
  },
  {
   "cell_type": "markdown",
   "metadata": {},
   "source": [
    "We are using the affluency data that we determined and we put into into a dataframe. We then combine it with yelp_dollar. We determine that an area must have 25% or more of people making more than $200,000 for an area to be affluent. We started with 50% but this only gave less than 5 areas that are affluent. By using 25%, this tripled the amount of areas. New York City is a very diverse city with areas compromsing a mix of wealthly and poor in the same area. This can be contributed to low income housing and other things as well. According to CityLab, the metro average for the creative class is 35.9% for affluent people living in that area. 25% is a safe assumption as it will give us more areas as well. In addition, we want to go to areas that are more likely to have people that are uninsured. By limiting that area even more, it gives us less areas to start with which is better."
   ]
  },
  {
   "cell_type": "code",
   "execution_count": 30,
   "metadata": {
    "scrolled": true
   },
   "outputs": [
    {
     "data": {
      "text/html": [
       "<div>\n",
       "<style scoped>\n",
       "    .dataframe tbody tr th:only-of-type {\n",
       "        vertical-align: middle;\n",
       "    }\n",
       "\n",
       "    .dataframe tbody tr th {\n",
       "        vertical-align: top;\n",
       "    }\n",
       "\n",
       "    .dataframe thead th {\n",
       "        text-align: right;\n",
       "    }\n",
       "</style>\n",
       "<table border=\"1\" class=\"dataframe\">\n",
       "  <thead>\n",
       "    <tr style=\"text-align: right;\">\n",
       "      <th></th>\n",
       "      <th>zip_code</th>\n",
       "      <th>affluency_percentage</th>\n",
       "      <th>affluency</th>\n",
       "    </tr>\n",
       "  </thead>\n",
       "  <tbody>\n",
       "    <tr>\n",
       "      <th>0</th>\n",
       "      <td>10001</td>\n",
       "      <td>0.196568</td>\n",
       "      <td>0</td>\n",
       "    </tr>\n",
       "    <tr>\n",
       "      <th>1</th>\n",
       "      <td>10002</td>\n",
       "      <td>0.048115</td>\n",
       "      <td>0</td>\n",
       "    </tr>\n",
       "    <tr>\n",
       "      <th>2</th>\n",
       "      <td>10003</td>\n",
       "      <td>0.256780</td>\n",
       "      <td>1</td>\n",
       "    </tr>\n",
       "    <tr>\n",
       "      <th>3</th>\n",
       "      <td>10004</td>\n",
       "      <td>0.394231</td>\n",
       "      <td>1</td>\n",
       "    </tr>\n",
       "    <tr>\n",
       "      <th>4</th>\n",
       "      <td>10005</td>\n",
       "      <td>0.280835</td>\n",
       "      <td>1</td>\n",
       "    </tr>\n",
       "  </tbody>\n",
       "</table>\n",
       "</div>"
      ],
      "text/plain": [
       "   zip_code  affluency_percentage  affluency\n",
       "0     10001              0.196568          0\n",
       "1     10002              0.048115          0\n",
       "2     10003              0.256780          1\n",
       "3     10004              0.394231          1\n",
       "4     10005              0.280835          1"
      ]
     },
     "execution_count": 30,
     "metadata": {},
     "output_type": "execute_result"
    }
   ],
   "source": [
    "affluency_df = pd.DataFrame({'zip_code': zip_codes, 'affluency_percentage': affluency})\n",
    "affluency_df['affluency'] = (affluency_df['affluency_percentage'] >= 0.25).astype(int)\n",
    "affluency_df.head()"
   ]
  },
  {
   "cell_type": "code",
   "execution_count": 31,
   "metadata": {},
   "outputs": [
    {
     "data": {
      "text/plain": [
       "0    1472\n",
       "1      64\n",
       "Name: affluency, dtype: int64"
      ]
     },
     "execution_count": 31,
     "metadata": {},
     "output_type": "execute_result"
    }
   ],
   "source": [
    "affluency_df['affluency'].value_counts()"
   ]
  },
  {
   "cell_type": "code",
   "execution_count": 32,
   "metadata": {},
   "outputs": [],
   "source": [
    "#Combine dataframes\n",
    "yelp_dollar = pd.merge(left=yelp_dollar, right=affluency_df, how='inner', on = 'zip_code')"
   ]
  },
  {
   "cell_type": "code",
   "execution_count": 33,
   "metadata": {},
   "outputs": [
    {
     "data": {
      "text/html": [
       "<div>\n",
       "<style scoped>\n",
       "    .dataframe tbody tr th:only-of-type {\n",
       "        vertical-align: middle;\n",
       "    }\n",
       "\n",
       "    .dataframe tbody tr th {\n",
       "        vertical-align: top;\n",
       "    }\n",
       "\n",
       "    .dataframe thead th {\n",
       "        text-align: right;\n",
       "    }\n",
       "</style>\n",
       "<table border=\"1\" class=\"dataframe\">\n",
       "  <thead>\n",
       "    <tr style=\"text-align: right;\">\n",
       "      <th></th>\n",
       "      <th>zip_code</th>\n",
       "      <th>1</th>\n",
       "      <th>2</th>\n",
       "      <th>3</th>\n",
       "      <th>4</th>\n",
       "      <th>total</th>\n",
       "      <th>affluency_percentage</th>\n",
       "      <th>affluency</th>\n",
       "    </tr>\n",
       "  </thead>\n",
       "  <tbody>\n",
       "    <tr>\n",
       "      <th>0</th>\n",
       "      <td>10001</td>\n",
       "      <td>102</td>\n",
       "      <td>242</td>\n",
       "      <td>40</td>\n",
       "      <td>1</td>\n",
       "      <td>385</td>\n",
       "      <td>0.196568</td>\n",
       "      <td>0</td>\n",
       "    </tr>\n",
       "    <tr>\n",
       "      <th>1</th>\n",
       "      <td>10002</td>\n",
       "      <td>181</td>\n",
       "      <td>411</td>\n",
       "      <td>54</td>\n",
       "      <td>2</td>\n",
       "      <td>648</td>\n",
       "      <td>0.048115</td>\n",
       "      <td>0</td>\n",
       "    </tr>\n",
       "    <tr>\n",
       "      <th>2</th>\n",
       "      <td>10003</td>\n",
       "      <td>173</td>\n",
       "      <td>698</td>\n",
       "      <td>132</td>\n",
       "      <td>52</td>\n",
       "      <td>1055</td>\n",
       "      <td>0.256780</td>\n",
       "      <td>1</td>\n",
       "    </tr>\n",
       "    <tr>\n",
       "      <th>3</th>\n",
       "      <td>10004</td>\n",
       "      <td>0</td>\n",
       "      <td>49</td>\n",
       "      <td>15</td>\n",
       "      <td>8</td>\n",
       "      <td>72</td>\n",
       "      <td>0.394231</td>\n",
       "      <td>1</td>\n",
       "    </tr>\n",
       "    <tr>\n",
       "      <th>4</th>\n",
       "      <td>10005</td>\n",
       "      <td>21</td>\n",
       "      <td>0</td>\n",
       "      <td>0</td>\n",
       "      <td>8</td>\n",
       "      <td>29</td>\n",
       "      <td>0.280835</td>\n",
       "      <td>1</td>\n",
       "    </tr>\n",
       "  </tbody>\n",
       "</table>\n",
       "</div>"
      ],
      "text/plain": [
       "   zip_code    1    2    3   4  total  affluency_percentage  affluency\n",
       "0     10001  102  242   40   1    385              0.196568          0\n",
       "1     10002  181  411   54   2    648              0.048115          0\n",
       "2     10003  173  698  132  52   1055              0.256780          1\n",
       "3     10004    0   49   15   8     72              0.394231          1\n",
       "4     10005   21    0    0   8     29              0.280835          1"
      ]
     },
     "execution_count": 33,
     "metadata": {},
     "output_type": "execute_result"
    }
   ],
   "source": [
    "# See dataframe\n",
    "yelp_dollar.head()"
   ]
  },
  {
   "cell_type": "markdown",
   "metadata": {},
   "source": [
    "Final will the dataframe we using for our modeling. "
   ]
  },
  {
   "cell_type": "code",
   "execution_count": 34,
   "metadata": {},
   "outputs": [],
   "source": [
    "# Combeine both dataframes\n",
    "final = pd.merge(left = yelp, \n",
    "         right = yelp_dollar,\n",
    "                 how='inner',\n",
    "         on ='zip_code')"
   ]
  },
  {
   "cell_type": "code",
   "execution_count": 35,
   "metadata": {},
   "outputs": [
    {
     "data": {
      "text/plain": [
       "Index(['zip_code', 'name', 'price', 'city', 'category', 'state',\n",
       "       'review_count', 'latitude', 'longitude', 'id', '1', '2', '3', '4',\n",
       "       'total', 'affluency_percentage', 'affluency'],\n",
       "      dtype='object')"
      ]
     },
     "execution_count": 35,
     "metadata": {},
     "output_type": "execute_result"
    }
   ],
   "source": [
    "final.columns"
   ]
  },
  {
   "cell_type": "markdown",
   "metadata": {},
   "source": [
    "We are looking to see how many zip codes we lost. We lost about 19 zip codes. This could be because it was not in the Yelp data. That area might not have restaurants or it can be parks."
   ]
  },
  {
   "cell_type": "code",
   "execution_count": 36,
   "metadata": {},
   "outputs": [
    {
     "name": "stdout",
     "output_type": "stream",
     "text": [
      "190\n",
      "171\n"
     ]
    }
   ],
   "source": [
    "# See total number of zip codes\n",
    "print(yelp['zip_code'].nunique())\n",
    "print(final['zip_code'].nunique())"
   ]
  },
  {
   "cell_type": "code",
   "execution_count": 37,
   "metadata": {},
   "outputs": [
    {
     "data": {
      "text/html": [
       "<div>\n",
       "<style scoped>\n",
       "    .dataframe tbody tr th:only-of-type {\n",
       "        vertical-align: middle;\n",
       "    }\n",
       "\n",
       "    .dataframe tbody tr th {\n",
       "        vertical-align: top;\n",
       "    }\n",
       "\n",
       "    .dataframe thead th {\n",
       "        text-align: right;\n",
       "    }\n",
       "</style>\n",
       "<table border=\"1\" class=\"dataframe\">\n",
       "  <thead>\n",
       "    <tr style=\"text-align: right;\">\n",
       "      <th></th>\n",
       "      <th>zip_code</th>\n",
       "      <th>name</th>\n",
       "      <th>price</th>\n",
       "      <th>city</th>\n",
       "      <th>category</th>\n",
       "      <th>state</th>\n",
       "      <th>review_count</th>\n",
       "      <th>latitude</th>\n",
       "      <th>longitude</th>\n",
       "      <th>id</th>\n",
       "      <th>1</th>\n",
       "      <th>2</th>\n",
       "      <th>3</th>\n",
       "      <th>4</th>\n",
       "      <th>total</th>\n",
       "      <th>affluency_percentage</th>\n",
       "      <th>affluency</th>\n",
       "    </tr>\n",
       "  </thead>\n",
       "  <tbody>\n",
       "    <tr>\n",
       "      <th>0</th>\n",
       "      <td>10023</td>\n",
       "      <td>Levain Bakery</td>\n",
       "      <td>2</td>\n",
       "      <td>New York</td>\n",
       "      <td>bakeries</td>\n",
       "      <td>NY</td>\n",
       "      <td>7933</td>\n",
       "      <td>40.779940</td>\n",
       "      <td>-73.980283</td>\n",
       "      <td>H4jJ7XB3CetIr1pg56CczQ</td>\n",
       "      <td>12</td>\n",
       "      <td>65</td>\n",
       "      <td>17</td>\n",
       "      <td>12</td>\n",
       "      <td>106</td>\n",
       "      <td>0.331543</td>\n",
       "      <td>1</td>\n",
       "    </tr>\n",
       "    <tr>\n",
       "      <th>1</th>\n",
       "      <td>10023</td>\n",
       "      <td>Jean-Georges</td>\n",
       "      <td>4</td>\n",
       "      <td>New York</td>\n",
       "      <td>french,newamerican,asianfusion</td>\n",
       "      <td>NY</td>\n",
       "      <td>1875</td>\n",
       "      <td>40.769112</td>\n",
       "      <td>-73.981429</td>\n",
       "      <td>PBUIaPtgnhmdHE3KHglK-g</td>\n",
       "      <td>12</td>\n",
       "      <td>65</td>\n",
       "      <td>17</td>\n",
       "      <td>12</td>\n",
       "      <td>106</td>\n",
       "      <td>0.331543</td>\n",
       "      <td>1</td>\n",
       "    </tr>\n",
       "    <tr>\n",
       "      <th>2</th>\n",
       "      <td>10023</td>\n",
       "      <td>Sushi Yasaka</td>\n",
       "      <td>2</td>\n",
       "      <td>New York</td>\n",
       "      <td>japanese,sushi</td>\n",
       "      <td>NY</td>\n",
       "      <td>1737</td>\n",
       "      <td>40.779583</td>\n",
       "      <td>-73.983482</td>\n",
       "      <td>HZWHBfeuP4Fb6y8b8uqnbA</td>\n",
       "      <td>12</td>\n",
       "      <td>65</td>\n",
       "      <td>17</td>\n",
       "      <td>12</td>\n",
       "      <td>106</td>\n",
       "      <td>0.331543</td>\n",
       "      <td>1</td>\n",
       "    </tr>\n",
       "    <tr>\n",
       "      <th>3</th>\n",
       "      <td>10023</td>\n",
       "      <td>The Smith</td>\n",
       "      <td>2</td>\n",
       "      <td>New York</td>\n",
       "      <td>newamerican,breakfast_brunch,cocktailbars</td>\n",
       "      <td>NY</td>\n",
       "      <td>1659</td>\n",
       "      <td>40.771620</td>\n",
       "      <td>-73.981838</td>\n",
       "      <td>JYNBy2r3LVhJbLHE1bASfg</td>\n",
       "      <td>12</td>\n",
       "      <td>65</td>\n",
       "      <td>17</td>\n",
       "      <td>12</td>\n",
       "      <td>106</td>\n",
       "      <td>0.331543</td>\n",
       "      <td>1</td>\n",
       "    </tr>\n",
       "    <tr>\n",
       "      <th>4</th>\n",
       "      <td>10023</td>\n",
       "      <td>Nougatine at Jean-Georges</td>\n",
       "      <td>3</td>\n",
       "      <td>New York</td>\n",
       "      <td>french,asianfusion,breakfast_brunch</td>\n",
       "      <td>NY</td>\n",
       "      <td>1122</td>\n",
       "      <td>40.768910</td>\n",
       "      <td>-73.981760</td>\n",
       "      <td>xEDD2ScBU3jHhWxlMC7dkQ</td>\n",
       "      <td>12</td>\n",
       "      <td>65</td>\n",
       "      <td>17</td>\n",
       "      <td>12</td>\n",
       "      <td>106</td>\n",
       "      <td>0.331543</td>\n",
       "      <td>1</td>\n",
       "    </tr>\n",
       "  </tbody>\n",
       "</table>\n",
       "</div>"
      ],
      "text/plain": [
       "   zip_code                       name  price      city  \\\n",
       "0     10023              Levain Bakery      2  New York   \n",
       "1     10023               Jean-Georges      4  New York   \n",
       "2     10023               Sushi Yasaka      2  New York   \n",
       "3     10023                  The Smith      2  New York   \n",
       "4     10023  Nougatine at Jean-Georges      3  New York   \n",
       "\n",
       "                                    category state  review_count   latitude  \\\n",
       "0                                   bakeries    NY          7933  40.779940   \n",
       "1             french,newamerican,asianfusion    NY          1875  40.769112   \n",
       "2                             japanese,sushi    NY          1737  40.779583   \n",
       "3  newamerican,breakfast_brunch,cocktailbars    NY          1659  40.771620   \n",
       "4        french,asianfusion,breakfast_brunch    NY          1122  40.768910   \n",
       "\n",
       "   longitude                      id   1   2   3   4  total  \\\n",
       "0 -73.980283  H4jJ7XB3CetIr1pg56CczQ  12  65  17  12    106   \n",
       "1 -73.981429  PBUIaPtgnhmdHE3KHglK-g  12  65  17  12    106   \n",
       "2 -73.983482  HZWHBfeuP4Fb6y8b8uqnbA  12  65  17  12    106   \n",
       "3 -73.981838  JYNBy2r3LVhJbLHE1bASfg  12  65  17  12    106   \n",
       "4 -73.981760  xEDD2ScBU3jHhWxlMC7dkQ  12  65  17  12    106   \n",
       "\n",
       "   affluency_percentage  affluency  \n",
       "0              0.331543          1  \n",
       "1              0.331543          1  \n",
       "2              0.331543          1  \n",
       "3              0.331543          1  \n",
       "4              0.331543          1  "
      ]
     },
     "execution_count": 37,
     "metadata": {},
     "output_type": "execute_result"
    }
   ],
   "source": [
    "# See final dataframe\n",
    "final.head()"
   ]
  },
  {
   "cell_type": "markdown",
   "metadata": {},
   "source": [
    "We see that we defined 17.5% of areas being affluent and 82.4% not being affluent"
   ]
  },
  {
   "cell_type": "code",
   "execution_count": 38,
   "metadata": {},
   "outputs": [
    {
     "data": {
      "text/plain": [
       "0    0.824698\n",
       "1    0.175302\n",
       "Name: affluency, dtype: float64"
      ]
     },
     "execution_count": 38,
     "metadata": {},
     "output_type": "execute_result"
    }
   ],
   "source": [
    "# See affluency\n",
    "final['affluency'].value_counts(normalize=True)"
   ]
  },
  {
   "cell_type": "markdown",
   "metadata": {},
   "source": [
    "Asked to save final dataframe."
   ]
  },
  {
   "cell_type": "code",
   "execution_count": 65,
   "metadata": {},
   "outputs": [],
   "source": [
    "# Saving file\n",
    "final.to_csv('final.csv', index=False)"
   ]
  },
  {
   "cell_type": "markdown",
   "metadata": {},
   "source": [
    "## Exploratory Data Analysis (EDA)"
   ]
  },
  {
   "cell_type": "markdown",
   "metadata": {},
   "source": [
    "This shows us the total number of yelp dollars percetnage for each. As mentioned, there are more 1 and 2 than 3 and 4."
   ]
  },
  {
   "cell_type": "code",
   "execution_count": 39,
   "metadata": {},
   "outputs": [],
   "source": [
    "# To make a dataframe and use see the total number \n",
    "# of dollar values for each zip code\n",
    "yelp_dollar = yelp.set_index('zip_code')\n",
    "yelp_dollar = pd.pivot_table(yelp_dollar, index='zip_code', columns=['price'], values='id', aggfunc=\"count\",fill_value=0)\n",
    "yelp_dollar = pd.DataFrame(yelp_dollar.to_records())\n",
    "yelp_dollar['total'] = yelp_dollar['1'] + yelp_dollar['2'] + yelp_dollar['3'] + yelp_dollar['4']"
   ]
  },
  {
   "cell_type": "code",
   "execution_count": 40,
   "metadata": {},
   "outputs": [
    {
     "data": {
      "text/html": [
       "<div>\n",
       "<style scoped>\n",
       "    .dataframe tbody tr th:only-of-type {\n",
       "        vertical-align: middle;\n",
       "    }\n",
       "\n",
       "    .dataframe tbody tr th {\n",
       "        vertical-align: top;\n",
       "    }\n",
       "\n",
       "    .dataframe thead th {\n",
       "        text-align: right;\n",
       "    }\n",
       "</style>\n",
       "<table border=\"1\" class=\"dataframe\">\n",
       "  <thead>\n",
       "    <tr style=\"text-align: right;\">\n",
       "      <th></th>\n",
       "      <th>yelp_dollar</th>\n",
       "      <th>total</th>\n",
       "      <th>total_percentage</th>\n",
       "    </tr>\n",
       "  </thead>\n",
       "  <tbody>\n",
       "    <tr>\n",
       "      <th>0</th>\n",
       "      <td>2</td>\n",
       "      <td>16134</td>\n",
       "      <td>54.760208</td>\n",
       "    </tr>\n",
       "    <tr>\n",
       "      <th>1</th>\n",
       "      <td>1</td>\n",
       "      <td>10599</td>\n",
       "      <td>35.973933</td>\n",
       "    </tr>\n",
       "    <tr>\n",
       "      <th>2</th>\n",
       "      <td>3</td>\n",
       "      <td>2157</td>\n",
       "      <td>7.321047</td>\n",
       "    </tr>\n",
       "    <tr>\n",
       "      <th>3</th>\n",
       "      <td>4</td>\n",
       "      <td>573</td>\n",
       "      <td>1.944812</td>\n",
       "    </tr>\n",
       "  </tbody>\n",
       "</table>\n",
       "</div>"
      ],
      "text/plain": [
       "   yelp_dollar  total  total_percentage\n",
       "0            2  16134         54.760208\n",
       "1            1  10599         35.973933\n",
       "2            3   2157          7.321047\n",
       "3            4    573          1.944812"
      ]
     },
     "execution_count": 40,
     "metadata": {},
     "output_type": "execute_result"
    }
   ],
   "source": [
    "# Show yelp dollars\n",
    "yelp_zip_price.head()"
   ]
  },
  {
   "cell_type": "markdown",
   "metadata": {},
   "source": [
    "The graph below shows us how many yelp dollar signs we have. 1 and 2 make up more than 80% while 3 and 4 make up less than 15%. This worries us a little as it is unbalanced."
   ]
  },
  {
   "cell_type": "code",
   "execution_count": 41,
   "metadata": {},
   "outputs": [
    {
     "data": {
      "text/plain": [
       "Text(0, 0.5, 'Total Percentage')"
      ]
     },
     "execution_count": 41,
     "metadata": {},
     "output_type": "execute_result"
    },
    {
     "data": {
      "image/png": "[encoded data removed]",
      "text/plain": [
       "<Figure size 576x432 with 1 Axes>"
      ]
     },
     "metadata": {},
     "output_type": "display_data"
    }
   ],
   "source": [
    "plt.figure(figsize=(8, 6))\n",
    "fig = sns.barplot(x = 'yelp_dollar', y = 'total_percentage', data= yelp_zip_price, palette = ('dark'))\n",
    "#fig.set(xlabel = 'Dollar Value', ylabel =  'Total Percentage', title = 'Percentage of Dollar Values')\n",
    "fig.axes.set_title(\"Percentage of Dollar Value\",fontsize=25)\n",
    "fig.set_xlabel(\"Yelp Dollar\",fontsize=25)\n",
    "fig.set_ylabel(\"Total Percentage\",fontsize=25)"
   ]
  },
  {
   "cell_type": "markdown",
   "metadata": {},
   "source": [
    "We can see the area of New York. The darker the color, the more business there are and the lighter, the less businesses there are. Manhattan has more than quadruple the amount of the people that live in Staten Island but is is half the size. Staten Island is more spread out and more suburban. White areas could be because of parks. In Manhattan, it is because of Central Park. South Staten Island is because it is less populated and less businesses are there."
   ]
  },
  {
   "cell_type": "code",
   "execution_count": 42,
   "metadata": {},
   "outputs": [
    {
     "data": {
      "text/plain": [
       "Text(0, 0.5, 'Latitude')"
      ]
     },
     "execution_count": 42,
     "metadata": {},
     "output_type": "execute_result"
    },
    {
     "data": {
      "image/png": "[encoded data removed]",
      "text/plain": [
       "<Figure size 720x576 with 1 Axes>"
      ]
     },
     "metadata": {},
     "output_type": "display_data"
    }
   ],
   "source": [
    "# Show graph of area\n",
    "yelp.plot(kind=\"scatter\", x= 'longitude', y='latitude', alpha = 0.1, figsize=(10, 8), s=20)\n",
    "plt.title('Number of Restaurants',size = 34)\n",
    "plt.xlabel('Longitude',fontsize=34)\n",
    "plt.ylabel('Latitude',fontsize=34)"
   ]
  },
  {
   "cell_type": "markdown",
   "metadata": {},
   "source": [
    "We can see that more expensive yelp restuarants tend to be in Manhattan verse other areas, especially by Central Park and downtown where those areas are known to be affluent. Staten Island and Brooklyn have chepaer restaurants and this can be contributed to lower rent costs and those areas being less affluent."
   ]
  },
  {
   "cell_type": "code",
   "execution_count": 43,
   "metadata": {},
   "outputs": [
    {
     "data": {
      "text/plain": [
       "Text(0, 0.5, 'Latitude')"
      ]
     },
     "execution_count": 43,
     "metadata": {},
     "output_type": "execute_result"
    },
    {
     "data": {
      "image/png": "[encoded data removed]",
      "text/plain": [
       "<Figure size 1008x576 with 2 Axes>"
      ]
     },
     "metadata": {},
     "output_type": "display_data"
    }
   ],
   "source": [
    "# Show yelp prices\n",
    "yelp.plot(kind=\"scatter\", x= 'longitude', y='latitude', c=\"price\",\n",
    "         cmap=\"inferno\", figsize=(14, 8), s=2)\n",
    "plt.title('Price of Restaurants',size = 34)\n",
    "plt.xlabel('Longitude',fontsize=34)\n",
    "plt.ylabel('Latitude',fontsize=34)"
   ]
  },
  {
   "cell_type": "code",
   "execution_count": 44,
   "metadata": {},
   "outputs": [],
   "source": [
    "# Organize dataframe to show graph\n",
    "# Remove zip code outliers\n",
    "df_affluent = affluency_df.sort_values(by='affluency_percentage', ascending=False).head(10);\n",
    "df_affluent = df_affluent[(df_affluent['zip_code'] >= 10001) & (df_affluent['zip_code'] <= 11697)]"
   ]
  },
  {
   "cell_type": "markdown",
   "metadata": {},
   "source": [
    "This show us the areas that are most affluent in New York. the most affluent areas tend to be in Lower Manhattan and by Central Park."
   ]
  },
  {
   "cell_type": "code",
   "execution_count": 45,
   "metadata": {},
   "outputs": [
    {
     "data": {
      "text/plain": [
       "Text(0, 0.5, 'Affluency Percentage')"
      ]
     },
     "execution_count": 45,
     "metadata": {},
     "output_type": "execute_result"
    },
    {
     "data": {
      "text/plain": [
       "<Figure size 3600x3600 with 0 Axes>"
      ]
     },
     "metadata": {},
     "output_type": "display_data"
    },
    {
     "data": {
      "image/png": "[encoded data removed]",
      "text/plain": [
       "<Figure size 432x288 with 1 Axes>"
      ]
     },
     "metadata": {},
     "output_type": "display_data"
    }
   ],
   "source": [
    "# Show affluent areas\n",
    "plt.figure(figsize=(50,50))\n",
    "df_affluent.plot(kind=\"barh\", x= 'zip_code', y='affluency_percentage', cmap='terrain')\n",
    "plt.title('Top 10 Most Affluent',size = 20)\n",
    "plt.xlabel('Zip Code',fontsize=20)\n",
    "plt.ylabel('Affluency Percentage',fontsize=20)"
   ]
  },
  {
   "cell_type": "markdown",
   "metadata": {},
   "source": [
    "## Feature Engineering"
   ]
  },
  {
   "cell_type": "markdown",
   "metadata": {},
   "source": [
    "We are dropping uncessary columns as we will not use them for modelling. In addition, this saves us time as we have limited computing power for the modeling and Correlation Matrix."
   ]
  },
  {
   "cell_type": "code",
   "execution_count": 46,
   "metadata": {
    "scrolled": true
   },
   "outputs": [],
   "source": [
    "# Drop columns\n",
    "final = final.drop(columns=['name', 'state', 'latitude', 'longitude', 'id', '1', '2', '3', '4', 'total', 'affluency_percentage'])"
   ]
  },
  {
   "cell_type": "code",
   "execution_count": 47,
   "metadata": {},
   "outputs": [
    {
     "data": {
      "text/html": [
       "<div>\n",
       "<style scoped>\n",
       "    .dataframe tbody tr th:only-of-type {\n",
       "        vertical-align: middle;\n",
       "    }\n",
       "\n",
       "    .dataframe tbody tr th {\n",
       "        vertical-align: top;\n",
       "    }\n",
       "\n",
       "    .dataframe thead th {\n",
       "        text-align: right;\n",
       "    }\n",
       "</style>\n",
       "<table border=\"1\" class=\"dataframe\">\n",
       "  <thead>\n",
       "    <tr style=\"text-align: right;\">\n",
       "      <th></th>\n",
       "      <th>zip_code</th>\n",
       "      <th>price</th>\n",
       "      <th>city</th>\n",
       "      <th>category</th>\n",
       "      <th>review_count</th>\n",
       "      <th>affluency</th>\n",
       "    </tr>\n",
       "  </thead>\n",
       "  <tbody>\n",
       "    <tr>\n",
       "      <th>0</th>\n",
       "      <td>10023</td>\n",
       "      <td>2</td>\n",
       "      <td>New York</td>\n",
       "      <td>bakeries</td>\n",
       "      <td>7933</td>\n",
       "      <td>1</td>\n",
       "    </tr>\n",
       "    <tr>\n",
       "      <th>1</th>\n",
       "      <td>10023</td>\n",
       "      <td>4</td>\n",
       "      <td>New York</td>\n",
       "      <td>french,newamerican,asianfusion</td>\n",
       "      <td>1875</td>\n",
       "      <td>1</td>\n",
       "    </tr>\n",
       "    <tr>\n",
       "      <th>2</th>\n",
       "      <td>10023</td>\n",
       "      <td>2</td>\n",
       "      <td>New York</td>\n",
       "      <td>japanese,sushi</td>\n",
       "      <td>1737</td>\n",
       "      <td>1</td>\n",
       "    </tr>\n",
       "    <tr>\n",
       "      <th>3</th>\n",
       "      <td>10023</td>\n",
       "      <td>2</td>\n",
       "      <td>New York</td>\n",
       "      <td>newamerican,breakfast_brunch,cocktailbars</td>\n",
       "      <td>1659</td>\n",
       "      <td>1</td>\n",
       "    </tr>\n",
       "    <tr>\n",
       "      <th>4</th>\n",
       "      <td>10023</td>\n",
       "      <td>3</td>\n",
       "      <td>New York</td>\n",
       "      <td>french,asianfusion,breakfast_brunch</td>\n",
       "      <td>1122</td>\n",
       "      <td>1</td>\n",
       "    </tr>\n",
       "  </tbody>\n",
       "</table>\n",
       "</div>"
      ],
      "text/plain": [
       "   zip_code  price      city                                   category  \\\n",
       "0     10023      2  New York                                   bakeries   \n",
       "1     10023      4  New York             french,newamerican,asianfusion   \n",
       "2     10023      2  New York                             japanese,sushi   \n",
       "3     10023      2  New York  newamerican,breakfast_brunch,cocktailbars   \n",
       "4     10023      3  New York        french,asianfusion,breakfast_brunch   \n",
       "\n",
       "   review_count  affluency  \n",
       "0          7933          1  \n",
       "1          1875          1  \n",
       "2          1737          1  \n",
       "3          1659          1  \n",
       "4          1122          1  "
      ]
     },
     "execution_count": 47,
     "metadata": {},
     "output_type": "execute_result"
    }
   ],
   "source": [
    "# Show final dataframe\n",
    "final.head()"
   ]
  },
  {
   "cell_type": "markdown",
   "metadata": {},
   "source": [
    "We are turning the category and city column into dummies. This gives us more features for our model."
   ]
  },
  {
   "cell_type": "code",
   "execution_count": 48,
   "metadata": {},
   "outputs": [],
   "source": [
    "# Make dummies\n",
    "final = pd.get_dummies(data=final, columns=['category'], drop_first=True)"
   ]
  },
  {
   "cell_type": "code",
   "execution_count": 49,
   "metadata": {},
   "outputs": [],
   "source": [
    "# Make dummies\n",
    "final = pd.get_dummies(data=final, columns=['city'], drop_first=True)"
   ]
  },
  {
   "cell_type": "markdown",
   "metadata": {},
   "source": [
    "The computing power required for the correlation matrix would require too much time to compute it. We are randomly taking 20% of our data and using it. It might less precise and accurate but it is not feasible to have a correlation be computed for more than 10 minutes. Client asked for random state to be set to a number so the notebook can be re-ran with the same values."
   ]
  },
  {
   "cell_type": "code",
   "execution_count": 50,
   "metadata": {},
   "outputs": [],
   "source": [
    "# Take sample of final dataframe\n",
    "twenty = final.shape[0]*.20\n",
    "twenty = round(twenty)\n",
    "final_heat = final.sample(n=twenty, random_state=42)"
   ]
  },
  {
   "cell_type": "code",
   "execution_count": 51,
   "metadata": {},
   "outputs": [
    {
     "name": "stdout",
     "output_type": "stream",
     "text": [
      "(29241, 4661)\n",
      "(5848, 4661)\n"
     ]
    }
   ],
   "source": [
    "# To see size of both dataframes\n",
    "print(final.shape)\n",
    "print(final_heat.shape)"
   ]
  },
  {
   "cell_type": "markdown",
   "metadata": {},
   "source": [
    "From the correlation matrix, it can be seen that yelp dollars are not that important in predicitng affluency. Categories and location are more important."
   ]
  },
  {
   "cell_type": "code",
   "execution_count": 60,
   "metadata": {},
   "outputs": [
    {
     "data": {
      "text/plain": [
       "(15.5, -0.5)"
      ]
     },
     "execution_count": 60,
     "metadata": {},
     "output_type": "execute_result"
    },
    {
     "data": {
      "image/png": "[encoded data removed]",
      "text/plain": [
       "<Figure size 864x864 with 2 Axes>"
      ]
     },
     "metadata": {},
     "output_type": "display_data"
    }
   ],
   "source": [
    "# Make Correlatin matrix\n",
    "plt.figure(figsize=(12,12))\n",
    "plt.title(\"Correlation Matrix\")\n",
    "sns.heatmap(final_heat.corr()\n",
    "            [['affluency']].sort_values('affluency', ascending = False).head(15), \n",
    "            annot = True, cmap = \"coolwarm\", vmax = 1, vmin = -1)\n",
    "b, t = plt.ylim() \n",
    "b += 0.5 \n",
    "t -= 0.5 \n",
    "plt.ylim(b, t) "
   ]
  },
  {
   "cell_type": "code",
   "execution_count": 61,
   "metadata": {},
   "outputs": [
    {
     "data": {
      "text/plain": [
       "(29241, 4661)"
      ]
     },
     "execution_count": 61,
     "metadata": {},
     "output_type": "execute_result"
    }
   ],
   "source": [
    "final.shape"
   ]
  },
  {
   "cell_type": "code",
   "execution_count": 62,
   "metadata": {},
   "outputs": [
    {
     "data": {
      "text/plain": [
       "0    24115\n",
       "1     5126\n",
       "Name: affluency, dtype: int64"
      ]
     },
     "execution_count": 62,
     "metadata": {},
     "output_type": "execute_result"
    }
   ],
   "source": [
    "final['affluency'].value_counts()"
   ]
  },
  {
   "cell_type": "markdown",
   "metadata": {},
   "source": [
    "## Model Preparation"
   ]
  },
  {
   "cell_type": "markdown",
   "metadata": {},
   "source": [
    "Our model testing for affluency. We are using all the columns to test for this."
   ]
  },
  {
   "cell_type": "code",
   "execution_count": 52,
   "metadata": {},
   "outputs": [],
   "source": [
    "# Assigning X and y variables for train test split\n",
    "X = final.drop(columns=['affluency'])\n",
    "y = final['affluency']\n",
    "X_train,X_test, y_train, y_test = train_test_split(X, y, stratify = y)"
   ]
  },
  {
   "cell_type": "markdown",
   "metadata": {},
   "source": [
    "## Modeling"
   ]
  },
  {
   "cell_type": "markdown",
   "metadata": {},
   "source": [
    "The metric we are using is sensitivity. This is because we want to maximize the number of true positives as we want to market to more of the correct people. Specificity was used second as sensitivity had a similiar score with all the tests. Accuracy and precision are put just so we can see there scores as well. We are just concerned with specificity."
   ]
  },
  {
   "cell_type": "markdown",
   "metadata": {},
   "source": [
    "### Baseline Model"
   ]
  },
  {
   "cell_type": "code",
   "execution_count": 53,
   "metadata": {},
   "outputs": [
    {
     "name": "stdout",
     "output_type": "stream",
     "text": [
      "Train baseline accuracy: 0.8247150022799817\n",
      "Test baseline accuracy: 0.8246477909998632\n"
     ]
    }
   ],
   "source": [
    "#Baseline model\n",
    "print('Train baseline accuracy: ' + str(y_train.value_counts(normalize=True).max()))\n",
    "print('Test baseline accuracy: ' + str(y_test.value_counts(normalize=True).max()))"
   ]
  },
  {
   "cell_type": "markdown",
   "metadata": {},
   "source": [
    "### Logistic Regression"
   ]
  },
  {
   "cell_type": "code",
   "execution_count": 59,
   "metadata": {},
   "outputs": [
    {
     "name": "stdout",
     "output_type": "stream",
     "text": [
      "Train: 0.8315093479252166\n",
      "Test: 0.8305293393516618\n",
      "Cross val score train: 0.8306432009290002\n",
      "\n",
      "Sensitivity: 0.2184\n",
      "\n",
      "Specificity: 0.9607\n",
      "Accuracy: 0.8305\n",
      "Precision: 0.5416\n"
     ]
    }
   ],
   "source": [
    "lr = LogisticRegression()\n",
    "lr.fit(X_train, y_train)\n",
    "print('Train: ' + str(lr.score(X_train, y_train)))\n",
    "print('Test: ' + str(lr.score(X_test, y_test)))\n",
    "print('Cross val score train: ' + str(cross_val_score(lr, X_train, y_train, cv = 5).mean()))\n",
    "\n",
    "y_pred = lr.predict(X_test)\n",
    "tn, fp, fn, tp = confusion_matrix(y_test, y_pred).ravel()\n",
    "\n",
    "accuracy = (tp+tn)/(tp+fp+fn+tn)\n",
    "sensitivity = tp/(tp+fn)\n",
    "specificity = tn/(tn+fp)\n",
    "precision = tp/(tp+fp)\n",
    "\n",
    "print('')\n",
    "print('Sensitivity:',round(sensitivity,4))\n",
    "print('')\n",
    "print('Specificity:',round(specificity,4))\n",
    "print('Accuracy:',round(accuracy,4))\n",
    "print('Precision:',round(precision,4))"
   ]
  },
  {
   "cell_type": "markdown",
   "metadata": {},
   "source": [
    "### KNN"
   ]
  },
  {
   "cell_type": "code",
   "execution_count": 55,
   "metadata": {},
   "outputs": [
    {
     "name": "stdout",
     "output_type": "stream",
     "text": [
      "Train: 0.9788873689010488\n",
      "Test: 0.964847490083436\n",
      "Cross val score train: 0.9580486466637328\n",
      "\n",
      "Sensitivity: 0.2184\n",
      "\n",
      "Specificity: 0.9607\n",
      "Accuracy: 0.8305\n",
      "Precision: 0.5416\n"
     ]
    }
   ],
   "source": [
    "knn = KNeighborsClassifier()\n",
    "knn.fit(X_train, y_train)\n",
    "print('Train: ' + str(knn.score(X_train, y_train)))\n",
    "print('Test: ' + str(knn.score(X_test, y_test)))\n",
    "print('Cross val score train: ' + str(cross_val_score(knn, X_train, y_train, cv = 5).mean()))\n",
    "\n",
    "y_pred_knn = knn.predict(X_test)\n",
    "tn, fp, fn, tp = confusion_matrix(y_test, y_pred).ravel()\n",
    "\n",
    "accuracy = (tp+tn)/(tp+fp+fn+tn)\n",
    "sensitivity = tp/(tp+fn)\n",
    "specificity = tn/(tn+fp)\n",
    "precision = tp/(tp+fp)\n",
    "\n",
    "print('')\n",
    "print('Sensitivity:',round(sensitivity,4))\n",
    "print('')\n",
    "print('Specificity:',round(specificity,4))\n",
    "print('Accuracy:',round(accuracy,4))\n",
    "print('Precision:',round(precision,4))"
   ]
  },
  {
   "cell_type": "markdown",
   "metadata": {},
   "source": [
    "### Decision Trees"
   ]
  },
  {
   "cell_type": "code",
   "execution_count": 56,
   "metadata": {},
   "outputs": [
    {
     "name": "stdout",
     "output_type": "stream",
     "text": [
      "Train: 1.0\n",
      "Test: 0.9998632198057721\n",
      "Cross val score train: 0.9998176118534522\n",
      "\n",
      "Sensitivity: 0.2184\n",
      "\n",
      "Specificity: 0.9607\n",
      "Accuracy: 0.8305\n",
      "Precision: 0.5416\n"
     ]
    }
   ],
   "source": [
    "dt = DecisionTreeClassifier()\n",
    "dt.fit(X_train, y_train)\n",
    "print('Train: ' + str(dt.score(X_train, y_train)))\n",
    "print('Test: ' + str(dt.score(X_test, y_test)))\n",
    "print('Cross val score train: ' + str(cross_val_score(dt, X_train, y_train, cv = 5).mean()))\n",
    "\n",
    "y_pred_dt = dt.predict(X_test)\n",
    "tn, fp, fn, tp = confusion_matrix(y_test, y_pred).ravel()\n",
    "\n",
    "accuracy = (tp+tn)/(tp+fp+fn+tn)\n",
    "sensitivity = tp/(tp+fn)\n",
    "specificity = tn/(tn+fp)\n",
    "precision = tp/(tp+fp)\n",
    "\n",
    "print('')\n",
    "print('Sensitivity:',round(sensitivity,4))\n",
    "print('')\n",
    "print('Specificity:',round(specificity,4))\n",
    "print('Accuracy:',round(accuracy,4))\n",
    "print('Precision:',round(precision,4))"
   ]
  },
  {
   "cell_type": "markdown",
   "metadata": {},
   "source": [
    "### Bagging"
   ]
  },
  {
   "cell_type": "code",
   "execution_count": 57,
   "metadata": {},
   "outputs": [
    {
     "name": "stdout",
     "output_type": "stream",
     "text": [
      "Train: 0.9998632010943912\n",
      "Test: 0.9998632198057721\n",
      "Cross val score train: 0.9998176118534522\n",
      "\n",
      "Sensitivity: 0.2184\n",
      "\n",
      "Specificity: 0.9607\n",
      "Accuracy: 0.8305\n",
      "Precision: 0.5416\n"
     ]
    }
   ],
   "source": [
    "bag = BaggingClassifier()\n",
    "bag.fit(X_train, y_train)\n",
    "print('Train: ' + str(bag.score(X_train, y_train)))\n",
    "print('Test: ' + str(bag.score(X_test, y_test)))\n",
    "print('Cross val score train: ' + str(cross_val_score(bag, X_train, y_train, cv = 5).mean()))\n",
    "\n",
    "y_pred_bag = bag.predict(X_test)\n",
    "tn, fp, fn, tp = confusion_matrix(y_test, y_pred).ravel()\n",
    "\n",
    "accuracy = (tp+tn)/(tp+fp+fn+tn)\n",
    "sensitivity = tp/(tp+fn)\n",
    "specificity = tn/(tn+fp)\n",
    "precision = tp/(tp+fp)\n",
    "\n",
    "print('')\n",
    "print('Sensitivity:',round(sensitivity,4))\n",
    "print('')\n",
    "print('Specificity:',round(specificity,4))\n",
    "print('Accuracy:',round(accuracy,4))\n",
    "print('Precision:',round(precision,4))"
   ]
  },
  {
   "cell_type": "markdown",
   "metadata": {},
   "source": [
    "### Random Forest"
   ]
  },
  {
   "cell_type": "code",
   "execution_count": 58,
   "metadata": {},
   "outputs": [
    {
     "name": "stdout",
     "output_type": "stream",
     "text": [
      "Train: 0.9996352029183766\n",
      "Test: 0.9917931883463275\n",
      "Cross val score train: 0.9876426129266835\n",
      "\n",
      "Sensitivity: 0.2184\n",
      "\n",
      "Specificity: 0.9607\n",
      "Accuracy: 0.8305\n",
      "Precision: 0.5416\n"
     ]
    }
   ],
   "source": [
    "rf = RandomForestClassifier()\n",
    "rf.fit(X_train, y_train)\n",
    "print('Train: ' + str(rf.score(X_train, y_train)))\n",
    "print('Test: ' + str(rf.score(X_test, y_test)))\n",
    "print('Cross val score train: ' + str(cross_val_score(rf, X_train, y_train, cv = 5).mean()))\n",
    "\n",
    "y_pred_rf = rf.predict(X_test)\n",
    "tn, fp, fn, tp = confusion_matrix(y_test, y_pred).ravel()\n",
    "\n",
    "accuracy = (tp+tn)/(tp+fp+fn+tn)\n",
    "sensitivity = tp/(tp+fn)\n",
    "specificity = tn/(tn+fp)\n",
    "precision = tp/(tp+fp)\n",
    "\n",
    "print('')\n",
    "print('Sensitivity:',round(sensitivity,4))\n",
    "print('')\n",
    "print('Specificity:',round(specificity,4))\n",
    "print('Accuracy:',round(accuracy,4))\n",
    "print('Precision:',round(precision,4))"
   ]
  },
  {
   "cell_type": "markdown",
   "metadata": {},
   "source": [
    "## Model Selection"
   ]
  },
  {
   "cell_type": "markdown",
   "metadata": {},
   "source": [
    "All the models scored relatively the same. The model we chose is Random Forest. It has 99% for train and test but the sensititvity is the same as the other models. However, this model has means it's going to predict the true positive the most of all the models. This is good as we can market to more areas that are not in affluent areas. Other models had 100% for test which is fishy. With more time, we would need to go back and look at the data to see why the scores are relatively the same."
   ]
  },
  {
   "cell_type": "markdown",
   "metadata": {},
   "source": [
    "## Model Evaluation "
   ]
  },
  {
   "cell_type": "code",
   "execution_count": 63,
   "metadata": {},
   "outputs": [],
   "source": [
    "def pretty_confusion_matrix(y_true, y_pred):\n",
    "    \n",
    "    cm = confusion_matrix(y_true, y_pred)\n",
    "    labels = y_true.unique()\n",
    "    labels.sort()\n",
    "    linewidth=.23\n",
    "    \n",
    "    sns.set(font_scale=1.2)\n",
    "    plt.figure(figsize=(10,8))\n",
    "    \n",
    "    sns.heatmap(cm, annot=True, fmt='g', cmap=\"YlGnBu\",xticklabels=labels, yticklabels=labels)\n",
    "    plt.title(\"Confusion Matrix for Decision Trees\")\n",
    "    plt.xlabel('Predicted Class')\n",
    "    plt.ylabel('True Class')\n",
    "    b, t = plt.ylim() \n",
    "    b += 0.5 \n",
    "    t -= 0.5 \n",
    "    plt.ylim(b, t) "
   ]
  },
  {
   "cell_type": "markdown",
   "metadata": {},
   "source": [
    "The confusion matrix shows that we can predict 6015"
   ]
  },
  {
   "cell_type": "code",
   "execution_count": 64,
   "metadata": {},
   "outputs": [
    {
     "data": {
      "image/png": "[encoded data removed]",
      "text/plain": [
       "<Figure size 720x576 with 2 Axes>"
      ]
     },
     "metadata": {},
     "output_type": "display_data"
    }
   ],
   "source": [
    "pretty_confusion_matrix(y_test, y_pred_rf)"
   ]
  },
  {
   "cell_type": "markdown",
   "metadata": {},
   "source": [
    "## Conclusion"
   ]
  },
  {
   "cell_type": "markdown",
   "metadata": {},
   "source": [
    "Using Yelp price data to predict the affluency of an area may seem good on paper but according to our research, it is not a good predictor for predicting affluency of an area. When we made our model, we used the yelp dollar but it was not as important as review count and the location.\n",
    "Review count and location are better predictors for seeing if an area is affluent or not. Higher review counts played more into account because the affluent aras seemed to be in densely populated areas that have more restaurants. Also, location is important as affluent people tend to live in the same areas. Our model can predict an area to be affluent confidently. "
   ]
  },
  {
   "cell_type": "markdown",
   "metadata": {},
   "source": [
    "## Recommendations\n"
   ]
  },
  {
   "cell_type": "markdown",
   "metadata": {},
   "source": [
    "The model that we created was designed for New York City. Although it is a basic model, this model should be tested in other areas to see how it compares. More time should be used to look \n",
    "We would recommend to look at specific areas that are known to be more expensive such as Times Square and the World Trade Center. A plain pizza slice costs about \\$2 but in those areas, it can be \\$4+ in those areas.\n",
    "There are many other ways to use big data to predict the affluency of the neighborhood. We would recommend to look at apartment prices \n",
    "When doing outside research, an inexpensive restaurant can be in an affluent area as well as an expensive restaurant being in a non-affluent area. In the Tribecca (10007), Don Bella pizza is rated at \\$ but it is the richest zip code in New York City, according to Business Insider. \n",
    "I would recommend having this project be done in a bigger group next time. In addition, I would recommend that big data be used in another way to look at affluency such as location. The next step would be to apply this to another area outside of New York City to see how our model does."
   ]
  },
  {
   "cell_type": "markdown",
   "metadata": {},
   "source": [
    "## References"
   ]
  },
  {
   "cell_type": "markdown",
   "metadata": {},
   "source": [
    "- https://www.irs.gov/statistics/soi-tax-stats-individual-income-tax-statistics-zip-code-data-soi\n",
    "- https://www.citylab.com/equity/2013/01/class-divided-cities-new-york-edition/3819/\n",
    "- https://www.census.gov/library/stories/2018/09/who-are-the-uninsured.html\n",
    "- Correlation Matrix and convert_string_dict_to_string provided by Varun, Adrianna, and Greg\n",
    "- Ideas from James Hampton, GA Seattle for df_affluency dataframe, \n"
   ]
  }
 ],
 "metadata": {
  "kernelspec": {
   "display_name": "Python 3",
   "language": "python",
   "name": "python3"
  },
  "language_info": {
   "codemirror_mode": {
    "name": "ipython",
    "version": 3
   },
   "file_extension": ".py",
   "mimetype": "text/x-python",
   "name": "python",
   "nbconvert_exporter": "python",
   "pygments_lexer": "ipython3",
   "version": "3.6.4"
  },
  "toc": {
   "base_numbering": 1,
   "nav_menu": {},
   "number_sections": false,
   "sideBar": true,
   "skip_h1_title": false,
   "title_cell": "Table of Contents",
   "title_sidebar": "Contents",
   "toc_cell": true,
   "toc_position": {
    "height": "calc(100% - 180px)",
    "left": "10px",
    "top": "150px",
    "width": "165px"
   },
   "toc_section_display": true,
   "toc_window_display": true
  }
 },
 "nbformat": 4,
 "nbformat_minor": 2
}
