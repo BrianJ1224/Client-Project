{
 "cells": [
  {
   "cell_type": "code",
   "execution_count": 51,
   "metadata": {},
   "outputs": [],
   "source": [
    "import pandas as pd\n",
    "import numpy as np\n",
    "import datetime as dt\n",
    "import time\n",
    "import requests\n",
    "import nltk\n",
    "from nltk.stem import WordNetLemmatizer\n",
    "from nltk.tokenize import RegexpTokenizer\n",
    "from sklearn.feature_extraction.text import CountVectorizer\n",
    "import regex as re\n",
    "from sklearn.pipeline import Pipeline\n",
    "from sklearn.linear_model import LogisticRegression\n",
    "from sklearn.model_selection import train_test_split, GridSearchCV, cross_val_score\n",
    "from sklearn.feature_extraction.text import CountVectorizer, TfidfVectorizer\n",
    "import seaborn as sns\n",
    "\n",
    "from sklearn.linear_model import LogisticRegression\n",
    "from sklearn.naive_bayes import MultinomialNB, BernoulliNB, GaussianNB\n",
    "from sklearn.neighbors import  KNeighborsClassifier \n",
    "from sklearn.metrics import r2_score,mean_squared_error,confusion_matrix,accuracy_score\n",
    "import sklearn.metrics as metrics\n",
    "import matplotlib.pyplot as plt\n",
    "from sklearn.metrics import classification_report\n",
    "from sklearn.model_selection import cross_val_score\n",
    "\n",
    "import ast"
   ]
  },
  {
   "cell_type": "markdown",
   "metadata": {},
   "source": [
    "We are scrapping data from yelp and saving it into a csv file. We scrapped 5000 values first then the north, east, south, and west parts. This was followed by specific areas that were not covered. Code was provided by Yelp."
   ]
  },
  {
   "cell_type": "code",
   "execution_count": 23,
   "metadata": {},
   "outputs": [
    {
     "data": {
      "text/plain": [
       "400"
      ]
     },
     "execution_count": 23,
     "metadata": {},
     "output_type": "execute_result"
    }
   ],
   "source": [
    "URL = 'https://api.yelp.com/v3/businesses/search?location=New York City'\n",
    "API_key = 'Wt1iPgJtxRzatFu8BvZnmPf6mGueXES6NtxqXWoRe3eyBq90wsmxW7D43ye2RQRMJ72Q-gaYbXoOgBBB4kn0WX4b87Tk2U1YKtgVjvLd_WvmGRoF0eLAw_bhtsFCXnYx'\n",
    "res = requests.get(URL)\n",
    "res.status_code"
   ]
  },
  {
   "cell_type": "code",
   "execution_count": 108,
   "metadata": {},
   "outputs": [],
   "source": [
    "# Scrap Yelp data\n",
    "cities = ['new york']\n",
    "data = []\n",
    "count = 1\n",
    "for city in cities:\n",
    "    for i in range(20):\n",
    "        URL = 'https://api.yelp.com/v3/businesses/search?location=New York City'\n",
    "        API_key = 'Wt1iPgJtxRzatFu8BvZnmPf6mGueXES6NtxqXWoRe3eyBq90wsmxW7D43ye2RQRMJ72Q-gaYbXoOgBBB4kn0WX4b87Tk2U1YKtgVjvLd_WvmGRoF0eLAw_bhtsFCXnYx'\n",
    "        params = {'limit': 50 ,\n",
    "                  'offset': 50 * i}\n",
    "        headers = {'Authorization': 'bearer %s' % API_key}\n",
    "        resp = requests.get(url=URL, params = params, headers = headers)\n",
    "        data.extend(resp.json()['businesses'])\n",
    "        if len(data) == 0:\n",
    "            break\n",
    "        print(f'Pulling {count} times.')\n",
    "        count += 1\n",
    "        time.sleep(.5)"
   ]
  },
  {
   "cell_type": "code",
   "execution_count": 4,
   "metadata": {},
   "outputs": [],
   "source": [
    "# This is done three times with the files name yelp1, yelp2, and yelp 3\n",
    "df = pd.DataFrame(data = data)\n",
    "df.to_csv('yelp1.csv', index = False)"
   ]
  },
  {
   "cell_type": "code",
   "execution_count": 80,
   "metadata": {},
   "outputs": [],
   "source": [
    "yelp1 = pd.read_csv('datasets/yelp1.csv')"
   ]
  },
  {
   "cell_type": "code",
   "execution_count": 1,
   "metadata": {},
   "outputs": [],
   "source": [
    "# Scrap Yelp data\n",
    "def query_pushshift(location, kind = 'submission'):\n",
    "    SUBFIELDS = ['id', 'alias', 'name', 'image_url', 'is_closed', 'url', 'review_count', 'categories', 'rating', 'coordinates', 'transactions', 'price', 'location', 'phone', 'display_phone', 'distance']\n",
    "#define list up here to store infromation ebing done down there\n",
    "    business = []\n",
    "    for i in range(20):\n",
    "        url = 'https://api.yelp.com/v3/businesses/search'\n",
    "        API_key = 'Wt1iPgJtxRzatFu8BvZnmPf6mGueXES6NtxqXWoRe3eyBq90wsmxW7D43ye2RQRMJ72Q-gaYbXoOgBBB4kn0WX4b87Tk2U1YKtgVjvLd_WvmGRoF0eLAw_bhtsFCXnYx'\n",
    "        headers = { \"Authorization\": f'Bearer {API_key}'}\n",
    "        api_params = {'location' : {location},\n",
    "              'limit' : 50,\n",
    "              'offset': i* 50}\n",
    "        print(\"Querying from: \" + url)\n",
    "        res = requests.get(url, headers = headers, params= api_params )\n",
    "        assert res.status_code == 200\n",
    "        mine = res.json()['businesses']\n",
    "        df = pd.DataFrame.from_dict(mine)\n",
    "        business.append(df)\n",
    "        time.sleep(3)\n",
    "        full = pd.concat(business, sort=False)\n",
    "        if kind == \"submission\":\n",
    "        # select desired columns\n",
    "            full = full[SUBFIELDS]\n",
    "    print(\"Query Complete!\")    \n",
    "    return full "
   ]
  },
  {
   "cell_type": "code",
   "execution_count": 6,
   "metadata": {},
   "outputs": [
    {
     "name": "stdout",
     "output_type": "stream",
     "text": [
      "Querying from: https://api.yelp.com/v3/businesses/search\n",
      "Querying from: https://api.yelp.com/v3/businesses/search\n",
      "Querying from: https://api.yelp.com/v3/businesses/search\n",
      "Querying from: https://api.yelp.com/v3/businesses/search\n",
      "Querying from: https://api.yelp.com/v3/businesses/search\n",
      "Querying from: https://api.yelp.com/v3/businesses/search\n",
      "Querying from: https://api.yelp.com/v3/businesses/search\n",
      "Querying from: https://api.yelp.com/v3/businesses/search\n",
      "Querying from: https://api.yelp.com/v3/businesses/search\n",
      "Querying from: https://api.yelp.com/v3/businesses/search\n",
      "Querying from: https://api.yelp.com/v3/businesses/search\n",
      "Querying from: https://api.yelp.com/v3/businesses/search\n",
      "Querying from: https://api.yelp.com/v3/businesses/search\n",
      "Querying from: https://api.yelp.com/v3/businesses/search\n",
      "Querying from: https://api.yelp.com/v3/businesses/search\n",
      "Querying from: https://api.yelp.com/v3/businesses/search\n",
      "Querying from: https://api.yelp.com/v3/businesses/search\n",
      "Querying from: https://api.yelp.com/v3/businesses/search\n",
      "Querying from: https://api.yelp.com/v3/businesses/search\n",
      "Querying from: https://api.yelp.com/v3/businesses/search\n",
      "Query Complete!\n"
     ]
    }
   ],
   "source": [
    "brooklyn_heights = query_pushshift('76 Montague St, Brooklyn, NY 11201')"
   ]
  },
  {
   "cell_type": "code",
   "execution_count": 8,
   "metadata": {},
   "outputs": [
    {
     "name": "stdout",
     "output_type": "stream",
     "text": [
      "Querying from: https://api.yelp.com/v3/businesses/search\n",
      "Querying from: https://api.yelp.com/v3/businesses/search\n",
      "Querying from: https://api.yelp.com/v3/businesses/search\n",
      "Querying from: https://api.yelp.com/v3/businesses/search\n",
      "Querying from: https://api.yelp.com/v3/businesses/search\n",
      "Querying from: https://api.yelp.com/v3/businesses/search\n",
      "Querying from: https://api.yelp.com/v3/businesses/search\n",
      "Querying from: https://api.yelp.com/v3/businesses/search\n",
      "Querying from: https://api.yelp.com/v3/businesses/search\n",
      "Querying from: https://api.yelp.com/v3/businesses/search\n",
      "Querying from: https://api.yelp.com/v3/businesses/search\n",
      "Querying from: https://api.yelp.com/v3/businesses/search\n",
      "Querying from: https://api.yelp.com/v3/businesses/search\n",
      "Querying from: https://api.yelp.com/v3/businesses/search\n",
      "Querying from: https://api.yelp.com/v3/businesses/search\n",
      "Querying from: https://api.yelp.com/v3/businesses/search\n",
      "Querying from: https://api.yelp.com/v3/businesses/search\n",
      "Querying from: https://api.yelp.com/v3/businesses/search\n",
      "Querying from: https://api.yelp.com/v3/businesses/search\n",
      "Querying from: https://api.yelp.com/v3/businesses/search\n",
      "Query Complete!\n"
     ]
    }
   ],
   "source": [
    "williamsburg = query_pushshift('533 Grand St, Brooklyn, NY 11211')"
   ]
  },
  {
   "cell_type": "code",
   "execution_count": 9,
   "metadata": {},
   "outputs": [
    {
     "name": "stdout",
     "output_type": "stream",
     "text": [
      "Querying from: https://api.yelp.com/v3/businesses/search\n",
      "Querying from: https://api.yelp.com/v3/businesses/search\n",
      "Querying from: https://api.yelp.com/v3/businesses/search\n",
      "Querying from: https://api.yelp.com/v3/businesses/search\n",
      "Querying from: https://api.yelp.com/v3/businesses/search\n",
      "Querying from: https://api.yelp.com/v3/businesses/search\n",
      "Querying from: https://api.yelp.com/v3/businesses/search\n",
      "Querying from: https://api.yelp.com/v3/businesses/search\n",
      "Querying from: https://api.yelp.com/v3/businesses/search\n",
      "Querying from: https://api.yelp.com/v3/businesses/search\n",
      "Querying from: https://api.yelp.com/v3/businesses/search\n",
      "Querying from: https://api.yelp.com/v3/businesses/search\n",
      "Querying from: https://api.yelp.com/v3/businesses/search\n",
      "Querying from: https://api.yelp.com/v3/businesses/search\n",
      "Querying from: https://api.yelp.com/v3/businesses/search\n",
      "Querying from: https://api.yelp.com/v3/businesses/search\n",
      "Querying from: https://api.yelp.com/v3/businesses/search\n",
      "Querying from: https://api.yelp.com/v3/businesses/search\n",
      "Querying from: https://api.yelp.com/v3/businesses/search\n",
      "Querying from: https://api.yelp.com/v3/businesses/search\n",
      "Query Complete!\n"
     ]
    }
   ],
   "source": [
    "long_island_city = query_pushshift('2103 45th Ave, Long Island City, NY 11101')"
   ]
  },
  {
   "cell_type": "code",
   "execution_count": 10,
   "metadata": {},
   "outputs": [
    {
     "name": "stdout",
     "output_type": "stream",
     "text": [
      "Querying from: https://api.yelp.com/v3/businesses/search\n",
      "Querying from: https://api.yelp.com/v3/businesses/search\n",
      "Querying from: https://api.yelp.com/v3/businesses/search\n",
      "Querying from: https://api.yelp.com/v3/businesses/search\n",
      "Querying from: https://api.yelp.com/v3/businesses/search\n",
      "Querying from: https://api.yelp.com/v3/businesses/search\n",
      "Querying from: https://api.yelp.com/v3/businesses/search\n",
      "Querying from: https://api.yelp.com/v3/businesses/search\n",
      "Querying from: https://api.yelp.com/v3/businesses/search\n",
      "Querying from: https://api.yelp.com/v3/businesses/search\n",
      "Querying from: https://api.yelp.com/v3/businesses/search\n",
      "Querying from: https://api.yelp.com/v3/businesses/search\n",
      "Querying from: https://api.yelp.com/v3/businesses/search\n",
      "Querying from: https://api.yelp.com/v3/businesses/search\n",
      "Querying from: https://api.yelp.com/v3/businesses/search\n",
      "Querying from: https://api.yelp.com/v3/businesses/search\n",
      "Querying from: https://api.yelp.com/v3/businesses/search\n",
      "Querying from: https://api.yelp.com/v3/businesses/search\n",
      "Querying from: https://api.yelp.com/v3/businesses/search\n",
      "Querying from: https://api.yelp.com/v3/businesses/search\n",
      "Query Complete!\n"
     ]
    }
   ],
   "source": [
    "astoria = query_pushshift('32-24 30th Ave, Astoria, NY 11102')"
   ]
  },
  {
   "cell_type": "code",
   "execution_count": 18,
   "metadata": {},
   "outputs": [],
   "source": [
    "df =pd.concat([brooklyn_heights,williamsburg,astoria,long_island_city])"
   ]
  },
  {
   "cell_type": "code",
   "execution_count": 19,
   "metadata": {},
   "outputs": [],
   "source": [
    "locations = df['location']\n",
    "zip_codes = [ sub['zip_code'] for sub in locations ]\n",
    "df['zip_codes'] = zip_codes"
   ]
  },
  {
   "cell_type": "code",
   "execution_count": 20,
   "metadata": {},
   "outputs": [],
   "source": [
    "df.to_csv('brooklyn_queens.csv', index = False)"
   ]
  },
  {
   "cell_type": "code",
   "execution_count": null,
   "metadata": {},
   "outputs": [],
   "source": [
    "staten_island = query_pushshift('staten island')"
   ]
  },
  {
   "cell_type": "code",
   "execution_count": 150,
   "metadata": {},
   "outputs": [
    {
     "name": "stdout",
     "output_type": "stream",
     "text": [
      "Querying from: https://api.yelp.com/v3/businesses/search\n",
      "Querying from: https://api.yelp.com/v3/businesses/search\n",
      "Querying from: https://api.yelp.com/v3/businesses/search\n",
      "Querying from: https://api.yelp.com/v3/businesses/search\n",
      "Querying from: https://api.yelp.com/v3/businesses/search\n",
      "Querying from: https://api.yelp.com/v3/businesses/search\n",
      "Querying from: https://api.yelp.com/v3/businesses/search\n",
      "Querying from: https://api.yelp.com/v3/businesses/search\n",
      "Querying from: https://api.yelp.com/v3/businesses/search\n",
      "Querying from: https://api.yelp.com/v3/businesses/search\n",
      "Querying from: https://api.yelp.com/v3/businesses/search\n",
      "Querying from: https://api.yelp.com/v3/businesses/search\n",
      "Querying from: https://api.yelp.com/v3/businesses/search\n",
      "Querying from: https://api.yelp.com/v3/businesses/search\n",
      "Querying from: https://api.yelp.com/v3/businesses/search\n",
      "Querying from: https://api.yelp.com/v3/businesses/search\n",
      "Querying from: https://api.yelp.com/v3/businesses/search\n",
      "Querying from: https://api.yelp.com/v3/businesses/search\n",
      "Querying from: https://api.yelp.com/v3/businesses/search\n",
      "Querying from: https://api.yelp.com/v3/businesses/search\n",
      "Query Complete!\n"
     ]
    }
   ],
   "source": [
    "south_staten_island = query_pushshift('5180 Amboy Rd, Staten Island, NY 10312')"
   ]
  },
  {
   "cell_type": "code",
   "execution_count": 145,
   "metadata": {},
   "outputs": [
    {
     "name": "stdout",
     "output_type": "stream",
     "text": [
      "Querying from: https://api.yelp.com/v3/businesses/search\n",
      "Querying from: https://api.yelp.com/v3/businesses/search\n",
      "Querying from: https://api.yelp.com/v3/businesses/search\n",
      "Querying from: https://api.yelp.com/v3/businesses/search\n",
      "Querying from: https://api.yelp.com/v3/businesses/search\n",
      "Querying from: https://api.yelp.com/v3/businesses/search\n",
      "Querying from: https://api.yelp.com/v3/businesses/search\n",
      "Querying from: https://api.yelp.com/v3/businesses/search\n",
      "Querying from: https://api.yelp.com/v3/businesses/search\n",
      "Querying from: https://api.yelp.com/v3/businesses/search\n",
      "Querying from: https://api.yelp.com/v3/businesses/search\n",
      "Querying from: https://api.yelp.com/v3/businesses/search\n",
      "Querying from: https://api.yelp.com/v3/businesses/search\n",
      "Querying from: https://api.yelp.com/v3/businesses/search\n",
      "Querying from: https://api.yelp.com/v3/businesses/search\n",
      "Querying from: https://api.yelp.com/v3/businesses/search\n",
      "Querying from: https://api.yelp.com/v3/businesses/search\n",
      "Querying from: https://api.yelp.com/v3/businesses/search\n",
      "Querying from: https://api.yelp.com/v3/businesses/search\n",
      "Querying from: https://api.yelp.com/v3/businesses/search\n",
      "Query Complete!\n"
     ]
    }
   ],
   "source": [
    "north_staten_island = query_pushshift('2241 Victory Blvd, Staten Island, NY 10314')"
   ]
  },
  {
   "cell_type": "code",
   "execution_count": 155,
   "metadata": {},
   "outputs": [
    {
     "name": "stdout",
     "output_type": "stream",
     "text": [
      "Querying from: https://api.yelp.com/v3/businesses/search\n",
      "Querying from: https://api.yelp.com/v3/businesses/search\n",
      "Querying from: https://api.yelp.com/v3/businesses/search\n",
      "Querying from: https://api.yelp.com/v3/businesses/search\n",
      "Querying from: https://api.yelp.com/v3/businesses/search\n",
      "Querying from: https://api.yelp.com/v3/businesses/search\n",
      "Querying from: https://api.yelp.com/v3/businesses/search\n",
      "Querying from: https://api.yelp.com/v3/businesses/search\n",
      "Querying from: https://api.yelp.com/v3/businesses/search\n",
      "Querying from: https://api.yelp.com/v3/businesses/search\n",
      "Querying from: https://api.yelp.com/v3/businesses/search\n",
      "Querying from: https://api.yelp.com/v3/businesses/search\n",
      "Querying from: https://api.yelp.com/v3/businesses/search\n",
      "Querying from: https://api.yelp.com/v3/businesses/search\n",
      "Querying from: https://api.yelp.com/v3/businesses/search\n",
      "Querying from: https://api.yelp.com/v3/businesses/search\n",
      "Querying from: https://api.yelp.com/v3/businesses/search\n",
      "Querying from: https://api.yelp.com/v3/businesses/search\n",
      "Querying from: https://api.yelp.com/v3/businesses/search\n",
      "Querying from: https://api.yelp.com/v3/businesses/search\n",
      "Query Complete!\n"
     ]
    }
   ],
   "source": [
    "east_central_staten_island = query_pushshift('3155 Amboy Rd, Staten Island, NY 10306')"
   ]
  },
  {
   "cell_type": "code",
   "execution_count": 156,
   "metadata": {},
   "outputs": [
    {
     "name": "stdout",
     "output_type": "stream",
     "text": [
      "Querying from: https://api.yelp.com/v3/businesses/search\n",
      "Querying from: https://api.yelp.com/v3/businesses/search\n",
      "Querying from: https://api.yelp.com/v3/businesses/search\n",
      "Querying from: https://api.yelp.com/v3/businesses/search\n",
      "Querying from: https://api.yelp.com/v3/businesses/search\n",
      "Querying from: https://api.yelp.com/v3/businesses/search\n",
      "Querying from: https://api.yelp.com/v3/businesses/search\n",
      "Querying from: https://api.yelp.com/v3/businesses/search\n",
      "Querying from: https://api.yelp.com/v3/businesses/search\n",
      "Querying from: https://api.yelp.com/v3/businesses/search\n",
      "Querying from: https://api.yelp.com/v3/businesses/search\n",
      "Querying from: https://api.yelp.com/v3/businesses/search\n",
      "Querying from: https://api.yelp.com/v3/businesses/search\n",
      "Querying from: https://api.yelp.com/v3/businesses/search\n",
      "Querying from: https://api.yelp.com/v3/businesses/search\n",
      "Querying from: https://api.yelp.com/v3/businesses/search\n",
      "Querying from: https://api.yelp.com/v3/businesses/search\n",
      "Querying from: https://api.yelp.com/v3/businesses/search\n",
      "Querying from: https://api.yelp.com/v3/businesses/search\n",
      "Querying from: https://api.yelp.com/v3/businesses/search\n",
      "Query Complete!\n"
     ]
    }
   ],
   "source": [
    "west_central_staten_island = query_pushshift('145 E Service Rd, Staten Island, NY 10314')"
   ]
  },
  {
   "cell_type": "code",
   "execution_count": 112,
   "metadata": {},
   "outputs": [
    {
     "name": "stdout",
     "output_type": "stream",
     "text": [
      "Querying from: https://api.yelp.com/v3/businesses/search\n",
      "Querying from: https://api.yelp.com/v3/businesses/search\n",
      "Querying from: https://api.yelp.com/v3/businesses/search\n",
      "Querying from: https://api.yelp.com/v3/businesses/search\n",
      "Querying from: https://api.yelp.com/v3/businesses/search\n",
      "Querying from: https://api.yelp.com/v3/businesses/search\n",
      "Querying from: https://api.yelp.com/v3/businesses/search\n",
      "Querying from: https://api.yelp.com/v3/businesses/search\n",
      "Querying from: https://api.yelp.com/v3/businesses/search\n",
      "Querying from: https://api.yelp.com/v3/businesses/search\n",
      "Querying from: https://api.yelp.com/v3/businesses/search\n",
      "Querying from: https://api.yelp.com/v3/businesses/search\n",
      "Querying from: https://api.yelp.com/v3/businesses/search\n",
      "Querying from: https://api.yelp.com/v3/businesses/search\n",
      "Querying from: https://api.yelp.com/v3/businesses/search\n",
      "Querying from: https://api.yelp.com/v3/businesses/search\n",
      "Querying from: https://api.yelp.com/v3/businesses/search\n",
      "Querying from: https://api.yelp.com/v3/businesses/search\n",
      "Querying from: https://api.yelp.com/v3/businesses/search\n",
      "Querying from: https://api.yelp.com/v3/businesses/search\n",
      "Query Complete!\n"
     ]
    }
   ],
   "source": [
    "brooklyn = query_pushshift('brooklyn')"
   ]
  },
  {
   "cell_type": "code",
   "execution_count": 135,
   "metadata": {},
   "outputs": [
    {
     "name": "stdout",
     "output_type": "stream",
     "text": [
      "Querying from: https://api.yelp.com/v3/businesses/search\n",
      "Querying from: https://api.yelp.com/v3/businesses/search\n",
      "Querying from: https://api.yelp.com/v3/businesses/search\n",
      "Querying from: https://api.yelp.com/v3/businesses/search\n",
      "Querying from: https://api.yelp.com/v3/businesses/search\n",
      "Querying from: https://api.yelp.com/v3/businesses/search\n",
      "Querying from: https://api.yelp.com/v3/businesses/search\n",
      "Querying from: https://api.yelp.com/v3/businesses/search\n",
      "Querying from: https://api.yelp.com/v3/businesses/search\n",
      "Querying from: https://api.yelp.com/v3/businesses/search\n",
      "Querying from: https://api.yelp.com/v3/businesses/search\n",
      "Querying from: https://api.yelp.com/v3/businesses/search\n",
      "Querying from: https://api.yelp.com/v3/businesses/search\n",
      "Querying from: https://api.yelp.com/v3/businesses/search\n",
      "Querying from: https://api.yelp.com/v3/businesses/search\n",
      "Querying from: https://api.yelp.com/v3/businesses/search\n",
      "Querying from: https://api.yelp.com/v3/businesses/search\n",
      "Querying from: https://api.yelp.com/v3/businesses/search\n",
      "Querying from: https://api.yelp.com/v3/businesses/search\n",
      "Querying from: https://api.yelp.com/v3/businesses/search\n",
      "Query Complete!\n"
     ]
    }
   ],
   "source": [
    "south_brooklyn = query_pushshift('5025 18th Ave, Brooklyn, NY 11204')"
   ]
  },
  {
   "cell_type": "code",
   "execution_count": 136,
   "metadata": {},
   "outputs": [
    {
     "name": "stdout",
     "output_type": "stream",
     "text": [
      "Querying from: https://api.yelp.com/v3/businesses/search\n",
      "Querying from: https://api.yelp.com/v3/businesses/search\n",
      "Querying from: https://api.yelp.com/v3/businesses/search\n",
      "Querying from: https://api.yelp.com/v3/businesses/search\n",
      "Querying from: https://api.yelp.com/v3/businesses/search\n",
      "Querying from: https://api.yelp.com/v3/businesses/search\n",
      "Querying from: https://api.yelp.com/v3/businesses/search\n",
      "Querying from: https://api.yelp.com/v3/businesses/search\n",
      "Querying from: https://api.yelp.com/v3/businesses/search\n",
      "Querying from: https://api.yelp.com/v3/businesses/search\n",
      "Querying from: https://api.yelp.com/v3/businesses/search\n",
      "Querying from: https://api.yelp.com/v3/businesses/search\n",
      "Querying from: https://api.yelp.com/v3/businesses/search\n",
      "Querying from: https://api.yelp.com/v3/businesses/search\n",
      "Querying from: https://api.yelp.com/v3/businesses/search\n",
      "Querying from: https://api.yelp.com/v3/businesses/search\n",
      "Querying from: https://api.yelp.com/v3/businesses/search\n",
      "Querying from: https://api.yelp.com/v3/businesses/search\n",
      "Querying from: https://api.yelp.com/v3/businesses/search\n",
      "Querying from: https://api.yelp.com/v3/businesses/search\n",
      "Query Complete!\n"
     ]
    }
   ],
   "source": [
    "north_brooklyn = query_pushshift('118-11 101st Ave, South Richmond Hill, NY 11419')"
   ]
  },
  {
   "cell_type": "code",
   "execution_count": 157,
   "metadata": {},
   "outputs": [
    {
     "name": "stdout",
     "output_type": "stream",
     "text": [
      "Querying from: https://api.yelp.com/v3/businesses/search\n",
      "Querying from: https://api.yelp.com/v3/businesses/search\n",
      "Querying from: https://api.yelp.com/v3/businesses/search\n",
      "Querying from: https://api.yelp.com/v3/businesses/search\n",
      "Querying from: https://api.yelp.com/v3/businesses/search\n",
      "Querying from: https://api.yelp.com/v3/businesses/search\n",
      "Querying from: https://api.yelp.com/v3/businesses/search\n",
      "Querying from: https://api.yelp.com/v3/businesses/search\n",
      "Querying from: https://api.yelp.com/v3/businesses/search\n",
      "Querying from: https://api.yelp.com/v3/businesses/search\n",
      "Querying from: https://api.yelp.com/v3/businesses/search\n",
      "Querying from: https://api.yelp.com/v3/businesses/search\n",
      "Querying from: https://api.yelp.com/v3/businesses/search\n",
      "Querying from: https://api.yelp.com/v3/businesses/search\n",
      "Querying from: https://api.yelp.com/v3/businesses/search\n",
      "Querying from: https://api.yelp.com/v3/businesses/search\n",
      "Querying from: https://api.yelp.com/v3/businesses/search\n",
      "Querying from: https://api.yelp.com/v3/businesses/search\n",
      "Querying from: https://api.yelp.com/v3/businesses/search\n",
      "Querying from: https://api.yelp.com/v3/businesses/search\n",
      "Query Complete!\n"
     ]
    }
   ],
   "source": [
    "west_brooklyn = query_pushshift('177 2nd Ave, Brooklyn, NY 11215')"
   ]
  },
  {
   "cell_type": "code",
   "execution_count": 158,
   "metadata": {},
   "outputs": [
    {
     "name": "stdout",
     "output_type": "stream",
     "text": [
      "Querying from: https://api.yelp.com/v3/businesses/search\n",
      "Querying from: https://api.yelp.com/v3/businesses/search\n",
      "Querying from: https://api.yelp.com/v3/businesses/search\n",
      "Querying from: https://api.yelp.com/v3/businesses/search\n",
      "Querying from: https://api.yelp.com/v3/businesses/search\n",
      "Querying from: https://api.yelp.com/v3/businesses/search\n",
      "Querying from: https://api.yelp.com/v3/businesses/search\n",
      "Querying from: https://api.yelp.com/v3/businesses/search\n",
      "Querying from: https://api.yelp.com/v3/businesses/search\n",
      "Querying from: https://api.yelp.com/v3/businesses/search\n",
      "Querying from: https://api.yelp.com/v3/businesses/search\n",
      "Querying from: https://api.yelp.com/v3/businesses/search\n",
      "Querying from: https://api.yelp.com/v3/businesses/search\n",
      "Querying from: https://api.yelp.com/v3/businesses/search\n",
      "Querying from: https://api.yelp.com/v3/businesses/search\n",
      "Querying from: https://api.yelp.com/v3/businesses/search\n",
      "Querying from: https://api.yelp.com/v3/businesses/search\n",
      "Querying from: https://api.yelp.com/v3/businesses/search\n",
      "Querying from: https://api.yelp.com/v3/businesses/search\n",
      "Querying from: https://api.yelp.com/v3/businesses/search\n",
      "Query Complete!\n"
     ]
    }
   ],
   "source": [
    "east_brooklyn = query_pushshift('9006 Church Ave, Brooklyn, NY 11236')"
   ]
  },
  {
   "cell_type": "code",
   "execution_count": 137,
   "metadata": {},
   "outputs": [
    {
     "name": "stdout",
     "output_type": "stream",
     "text": [
      "Querying from: https://api.yelp.com/v3/businesses/search\n",
      "Querying from: https://api.yelp.com/v3/businesses/search\n",
      "Querying from: https://api.yelp.com/v3/businesses/search\n",
      "Querying from: https://api.yelp.com/v3/businesses/search\n",
      "Querying from: https://api.yelp.com/v3/businesses/search\n",
      "Querying from: https://api.yelp.com/v3/businesses/search\n",
      "Querying from: https://api.yelp.com/v3/businesses/search\n",
      "Querying from: https://api.yelp.com/v3/businesses/search\n",
      "Querying from: https://api.yelp.com/v3/businesses/search\n",
      "Querying from: https://api.yelp.com/v3/businesses/search\n",
      "Querying from: https://api.yelp.com/v3/businesses/search\n",
      "Querying from: https://api.yelp.com/v3/businesses/search\n",
      "Querying from: https://api.yelp.com/v3/businesses/search\n",
      "Querying from: https://api.yelp.com/v3/businesses/search\n",
      "Querying from: https://api.yelp.com/v3/businesses/search\n",
      "Querying from: https://api.yelp.com/v3/businesses/search\n",
      "Querying from: https://api.yelp.com/v3/businesses/search\n",
      "Querying from: https://api.yelp.com/v3/businesses/search\n",
      "Querying from: https://api.yelp.com/v3/businesses/search\n",
      "Querying from: https://api.yelp.com/v3/businesses/search\n",
      "Query Complete!\n"
     ]
    }
   ],
   "source": [
    "south_queens = query_pushshift('179-22 Union Tpke, Fresh Meadows, NY 11366')"
   ]
  },
  {
   "cell_type": "code",
   "execution_count": 159,
   "metadata": {},
   "outputs": [
    {
     "name": "stdout",
     "output_type": "stream",
     "text": [
      "Querying from: https://api.yelp.com/v3/businesses/search\n",
      "Querying from: https://api.yelp.com/v3/businesses/search\n",
      "Querying from: https://api.yelp.com/v3/businesses/search\n",
      "Querying from: https://api.yelp.com/v3/businesses/search\n",
      "Querying from: https://api.yelp.com/v3/businesses/search\n",
      "Querying from: https://api.yelp.com/v3/businesses/search\n",
      "Querying from: https://api.yelp.com/v3/businesses/search\n",
      "Querying from: https://api.yelp.com/v3/businesses/search\n",
      "Querying from: https://api.yelp.com/v3/businesses/search\n",
      "Querying from: https://api.yelp.com/v3/businesses/search\n",
      "Querying from: https://api.yelp.com/v3/businesses/search\n",
      "Querying from: https://api.yelp.com/v3/businesses/search\n",
      "Querying from: https://api.yelp.com/v3/businesses/search\n",
      "Querying from: https://api.yelp.com/v3/businesses/search\n",
      "Querying from: https://api.yelp.com/v3/businesses/search\n",
      "Querying from: https://api.yelp.com/v3/businesses/search\n",
      "Querying from: https://api.yelp.com/v3/businesses/search\n",
      "Querying from: https://api.yelp.com/v3/businesses/search\n",
      "Querying from: https://api.yelp.com/v3/businesses/search\n",
      "Querying from: https://api.yelp.com/v3/businesses/search\n",
      "Query Complete!\n"
     ]
    }
   ],
   "source": [
    "west_queens = query_pushshift('22-20 36th Ave, Queens, NY 11106')"
   ]
  },
  {
   "cell_type": "code",
   "execution_count": 160,
   "metadata": {},
   "outputs": [
    {
     "name": "stdout",
     "output_type": "stream",
     "text": [
      "Querying from: https://api.yelp.com/v3/businesses/search\n",
      "Querying from: https://api.yelp.com/v3/businesses/search\n",
      "Querying from: https://api.yelp.com/v3/businesses/search\n",
      "Querying from: https://api.yelp.com/v3/businesses/search\n",
      "Querying from: https://api.yelp.com/v3/businesses/search\n",
      "Querying from: https://api.yelp.com/v3/businesses/search\n",
      "Querying from: https://api.yelp.com/v3/businesses/search\n",
      "Querying from: https://api.yelp.com/v3/businesses/search\n",
      "Querying from: https://api.yelp.com/v3/businesses/search\n",
      "Querying from: https://api.yelp.com/v3/businesses/search\n",
      "Querying from: https://api.yelp.com/v3/businesses/search\n",
      "Querying from: https://api.yelp.com/v3/businesses/search\n",
      "Querying from: https://api.yelp.com/v3/businesses/search\n",
      "Querying from: https://api.yelp.com/v3/businesses/search\n",
      "Querying from: https://api.yelp.com/v3/businesses/search\n",
      "Querying from: https://api.yelp.com/v3/businesses/search\n",
      "Querying from: https://api.yelp.com/v3/businesses/search\n",
      "Querying from: https://api.yelp.com/v3/businesses/search\n",
      "Querying from: https://api.yelp.com/v3/businesses/search\n",
      "Querying from: https://api.yelp.com/v3/businesses/search\n",
      "Query Complete!\n"
     ]
    }
   ],
   "source": [
    "east_queens = query_pushshift('110-14 Farmers Blvd, Hollis, NY 11412')"
   ]
  },
  {
   "cell_type": "code",
   "execution_count": 138,
   "metadata": {},
   "outputs": [
    {
     "name": "stdout",
     "output_type": "stream",
     "text": [
      "Querying from: https://api.yelp.com/v3/businesses/search\n",
      "Querying from: https://api.yelp.com/v3/businesses/search\n",
      "Querying from: https://api.yelp.com/v3/businesses/search\n",
      "Querying from: https://api.yelp.com/v3/businesses/search\n",
      "Querying from: https://api.yelp.com/v3/businesses/search\n",
      "Querying from: https://api.yelp.com/v3/businesses/search\n",
      "Querying from: https://api.yelp.com/v3/businesses/search\n",
      "Querying from: https://api.yelp.com/v3/businesses/search\n",
      "Querying from: https://api.yelp.com/v3/businesses/search\n",
      "Querying from: https://api.yelp.com/v3/businesses/search\n",
      "Querying from: https://api.yelp.com/v3/businesses/search\n",
      "Querying from: https://api.yelp.com/v3/businesses/search\n",
      "Querying from: https://api.yelp.com/v3/businesses/search\n",
      "Querying from: https://api.yelp.com/v3/businesses/search\n",
      "Querying from: https://api.yelp.com/v3/businesses/search\n",
      "Querying from: https://api.yelp.com/v3/businesses/search\n",
      "Querying from: https://api.yelp.com/v3/businesses/search\n",
      "Querying from: https://api.yelp.com/v3/businesses/search\n",
      "Querying from: https://api.yelp.com/v3/businesses/search\n",
      "Querying from: https://api.yelp.com/v3/businesses/search\n",
      "Query Complete!\n"
     ]
    }
   ],
   "source": [
    "north_queens = query_pushshift('160-11 Willets Point Blvd, Whitestone, NY 11357')"
   ]
  },
  {
   "cell_type": "code",
   "execution_count": 113,
   "metadata": {},
   "outputs": [
    {
     "name": "stdout",
     "output_type": "stream",
     "text": [
      "Querying from: https://api.yelp.com/v3/businesses/search\n",
      "Querying from: https://api.yelp.com/v3/businesses/search\n",
      "Querying from: https://api.yelp.com/v3/businesses/search\n",
      "Querying from: https://api.yelp.com/v3/businesses/search\n",
      "Querying from: https://api.yelp.com/v3/businesses/search\n",
      "Querying from: https://api.yelp.com/v3/businesses/search\n",
      "Querying from: https://api.yelp.com/v3/businesses/search\n",
      "Querying from: https://api.yelp.com/v3/businesses/search\n",
      "Querying from: https://api.yelp.com/v3/businesses/search\n",
      "Querying from: https://api.yelp.com/v3/businesses/search\n",
      "Querying from: https://api.yelp.com/v3/businesses/search\n",
      "Querying from: https://api.yelp.com/v3/businesses/search\n",
      "Querying from: https://api.yelp.com/v3/businesses/search\n",
      "Querying from: https://api.yelp.com/v3/businesses/search\n",
      "Querying from: https://api.yelp.com/v3/businesses/search\n",
      "Querying from: https://api.yelp.com/v3/businesses/search\n",
      "Querying from: https://api.yelp.com/v3/businesses/search\n",
      "Querying from: https://api.yelp.com/v3/businesses/search\n",
      "Querying from: https://api.yelp.com/v3/businesses/search\n",
      "Querying from: https://api.yelp.com/v3/businesses/search\n",
      "Query Complete!\n"
     ]
    }
   ],
   "source": [
    "queens = query_pushshift('queens')"
   ]
  },
  {
   "cell_type": "code",
   "execution_count": 114,
   "metadata": {},
   "outputs": [
    {
     "name": "stdout",
     "output_type": "stream",
     "text": [
      "Querying from: https://api.yelp.com/v3/businesses/search\n",
      "Querying from: https://api.yelp.com/v3/businesses/search\n",
      "Querying from: https://api.yelp.com/v3/businesses/search\n",
      "Querying from: https://api.yelp.com/v3/businesses/search\n",
      "Querying from: https://api.yelp.com/v3/businesses/search\n",
      "Querying from: https://api.yelp.com/v3/businesses/search\n",
      "Querying from: https://api.yelp.com/v3/businesses/search\n",
      "Querying from: https://api.yelp.com/v3/businesses/search\n",
      "Querying from: https://api.yelp.com/v3/businesses/search\n",
      "Querying from: https://api.yelp.com/v3/businesses/search\n",
      "Querying from: https://api.yelp.com/v3/businesses/search\n",
      "Querying from: https://api.yelp.com/v3/businesses/search\n",
      "Querying from: https://api.yelp.com/v3/businesses/search\n",
      "Querying from: https://api.yelp.com/v3/businesses/search\n",
      "Querying from: https://api.yelp.com/v3/businesses/search\n",
      "Querying from: https://api.yelp.com/v3/businesses/search\n",
      "Querying from: https://api.yelp.com/v3/businesses/search\n",
      "Querying from: https://api.yelp.com/v3/businesses/search\n",
      "Querying from: https://api.yelp.com/v3/businesses/search\n",
      "Querying from: https://api.yelp.com/v3/businesses/search\n",
      "Query Complete!\n"
     ]
    }
   ],
   "source": [
    "bronx = query_pushshift('bronx')"
   ]
  },
  {
   "cell_type": "code",
   "execution_count": 139,
   "metadata": {},
   "outputs": [
    {
     "name": "stdout",
     "output_type": "stream",
     "text": [
      "Querying from: https://api.yelp.com/v3/businesses/search\n",
      "Querying from: https://api.yelp.com/v3/businesses/search\n",
      "Querying from: https://api.yelp.com/v3/businesses/search\n",
      "Querying from: https://api.yelp.com/v3/businesses/search\n",
      "Querying from: https://api.yelp.com/v3/businesses/search\n",
      "Querying from: https://api.yelp.com/v3/businesses/search\n",
      "Querying from: https://api.yelp.com/v3/businesses/search\n",
      "Querying from: https://api.yelp.com/v3/businesses/search\n",
      "Querying from: https://api.yelp.com/v3/businesses/search\n",
      "Querying from: https://api.yelp.com/v3/businesses/search\n",
      "Querying from: https://api.yelp.com/v3/businesses/search\n",
      "Querying from: https://api.yelp.com/v3/businesses/search\n",
      "Querying from: https://api.yelp.com/v3/businesses/search\n",
      "Querying from: https://api.yelp.com/v3/businesses/search\n",
      "Querying from: https://api.yelp.com/v3/businesses/search\n",
      "Querying from: https://api.yelp.com/v3/businesses/search\n",
      "Querying from: https://api.yelp.com/v3/businesses/search\n",
      "Querying from: https://api.yelp.com/v3/businesses/search\n",
      "Querying from: https://api.yelp.com/v3/businesses/search\n",
      "Querying from: https://api.yelp.com/v3/businesses/search\n",
      "Query Complete!\n"
     ]
    }
   ],
   "source": [
    "south_bronx = query_pushshift('860 Melrose Ave FRNT 2, The Bronx, NY 10451')"
   ]
  },
  {
   "cell_type": "code",
   "execution_count": 140,
   "metadata": {},
   "outputs": [
    {
     "name": "stdout",
     "output_type": "stream",
     "text": [
      "Querying from: https://api.yelp.com/v3/businesses/search\n",
      "Querying from: https://api.yelp.com/v3/businesses/search\n",
      "Querying from: https://api.yelp.com/v3/businesses/search\n",
      "Querying from: https://api.yelp.com/v3/businesses/search\n",
      "Querying from: https://api.yelp.com/v3/businesses/search\n",
      "Querying from: https://api.yelp.com/v3/businesses/search\n",
      "Querying from: https://api.yelp.com/v3/businesses/search\n",
      "Querying from: https://api.yelp.com/v3/businesses/search\n",
      "Querying from: https://api.yelp.com/v3/businesses/search\n",
      "Querying from: https://api.yelp.com/v3/businesses/search\n",
      "Querying from: https://api.yelp.com/v3/businesses/search\n",
      "Querying from: https://api.yelp.com/v3/businesses/search\n",
      "Querying from: https://api.yelp.com/v3/businesses/search\n",
      "Querying from: https://api.yelp.com/v3/businesses/search\n",
      "Querying from: https://api.yelp.com/v3/businesses/search\n",
      "Querying from: https://api.yelp.com/v3/businesses/search\n",
      "Querying from: https://api.yelp.com/v3/businesses/search\n",
      "Querying from: https://api.yelp.com/v3/businesses/search\n",
      "Querying from: https://api.yelp.com/v3/businesses/search\n",
      "Querying from: https://api.yelp.com/v3/businesses/search\n",
      "Query Complete!\n"
     ]
    }
   ],
   "source": [
    "north_bronx = query_pushshift('817 Allerton Ave, The Bronx, NY 10467')"
   ]
  },
  {
   "cell_type": "code",
   "execution_count": 161,
   "metadata": {},
   "outputs": [
    {
     "name": "stdout",
     "output_type": "stream",
     "text": [
      "Querying from: https://api.yelp.com/v3/businesses/search\n",
      "Querying from: https://api.yelp.com/v3/businesses/search\n",
      "Querying from: https://api.yelp.com/v3/businesses/search\n",
      "Querying from: https://api.yelp.com/v3/businesses/search\n",
      "Querying from: https://api.yelp.com/v3/businesses/search\n",
      "Querying from: https://api.yelp.com/v3/businesses/search\n",
      "Querying from: https://api.yelp.com/v3/businesses/search\n",
      "Querying from: https://api.yelp.com/v3/businesses/search\n",
      "Querying from: https://api.yelp.com/v3/businesses/search\n",
      "Querying from: https://api.yelp.com/v3/businesses/search\n",
      "Querying from: https://api.yelp.com/v3/businesses/search\n",
      "Querying from: https://api.yelp.com/v3/businesses/search\n",
      "Querying from: https://api.yelp.com/v3/businesses/search\n",
      "Querying from: https://api.yelp.com/v3/businesses/search\n",
      "Querying from: https://api.yelp.com/v3/businesses/search\n",
      "Querying from: https://api.yelp.com/v3/businesses/search\n",
      "Querying from: https://api.yelp.com/v3/businesses/search\n",
      "Querying from: https://api.yelp.com/v3/businesses/search\n",
      "Querying from: https://api.yelp.com/v3/businesses/search\n",
      "Querying from: https://api.yelp.com/v3/businesses/search\n",
      "Query Complete!\n"
     ]
    }
   ],
   "source": [
    "west_bronx = query_pushshift('6031 Broadway, The Bronx, NY 10471')"
   ]
  },
  {
   "cell_type": "code",
   "execution_count": 162,
   "metadata": {},
   "outputs": [
    {
     "name": "stdout",
     "output_type": "stream",
     "text": [
      "Querying from: https://api.yelp.com/v3/businesses/search\n",
      "Querying from: https://api.yelp.com/v3/businesses/search\n",
      "Querying from: https://api.yelp.com/v3/businesses/search\n",
      "Querying from: https://api.yelp.com/v3/businesses/search\n",
      "Querying from: https://api.yelp.com/v3/businesses/search\n",
      "Querying from: https://api.yelp.com/v3/businesses/search\n",
      "Querying from: https://api.yelp.com/v3/businesses/search\n",
      "Querying from: https://api.yelp.com/v3/businesses/search\n",
      "Querying from: https://api.yelp.com/v3/businesses/search\n",
      "Querying from: https://api.yelp.com/v3/businesses/search\n",
      "Querying from: https://api.yelp.com/v3/businesses/search\n",
      "Querying from: https://api.yelp.com/v3/businesses/search\n",
      "Querying from: https://api.yelp.com/v3/businesses/search\n",
      "Querying from: https://api.yelp.com/v3/businesses/search\n",
      "Querying from: https://api.yelp.com/v3/businesses/search\n",
      "Querying from: https://api.yelp.com/v3/businesses/search\n",
      "Querying from: https://api.yelp.com/v3/businesses/search\n",
      "Querying from: https://api.yelp.com/v3/businesses/search\n",
      "Querying from: https://api.yelp.com/v3/businesses/search\n",
      "Querying from: https://api.yelp.com/v3/businesses/search\n",
      "Query Complete!\n"
     ]
    }
   ],
   "source": [
    "east_bronx = query_pushshift('1650 E Gun Hill Rd, The Bronx, NY 10469')"
   ]
  },
  {
   "cell_type": "code",
   "execution_count": 115,
   "metadata": {
    "scrolled": true
   },
   "outputs": [
    {
     "name": "stdout",
     "output_type": "stream",
     "text": [
      "Querying from: https://api.yelp.com/v3/businesses/search\n",
      "Querying from: https://api.yelp.com/v3/businesses/search\n",
      "Querying from: https://api.yelp.com/v3/businesses/search\n",
      "Querying from: https://api.yelp.com/v3/businesses/search\n",
      "Querying from: https://api.yelp.com/v3/businesses/search\n",
      "Querying from: https://api.yelp.com/v3/businesses/search\n",
      "Querying from: https://api.yelp.com/v3/businesses/search\n",
      "Querying from: https://api.yelp.com/v3/businesses/search\n",
      "Querying from: https://api.yelp.com/v3/businesses/search\n",
      "Querying from: https://api.yelp.com/v3/businesses/search\n",
      "Querying from: https://api.yelp.com/v3/businesses/search\n",
      "Querying from: https://api.yelp.com/v3/businesses/search\n",
      "Querying from: https://api.yelp.com/v3/businesses/search\n",
      "Querying from: https://api.yelp.com/v3/businesses/search\n",
      "Querying from: https://api.yelp.com/v3/businesses/search\n",
      "Querying from: https://api.yelp.com/v3/businesses/search\n",
      "Querying from: https://api.yelp.com/v3/businesses/search\n",
      "Querying from: https://api.yelp.com/v3/businesses/search\n",
      "Querying from: https://api.yelp.com/v3/businesses/search\n",
      "Querying from: https://api.yelp.com/v3/businesses/search\n",
      "Query Complete!\n"
     ]
    }
   ],
   "source": [
    "manhattan = query_pushshift('manhattan')"
   ]
  },
  {
   "cell_type": "code",
   "execution_count": 163,
   "metadata": {},
   "outputs": [
    {
     "name": "stdout",
     "output_type": "stream",
     "text": [
      "Querying from: https://api.yelp.com/v3/businesses/search\n",
      "Querying from: https://api.yelp.com/v3/businesses/search\n",
      "Querying from: https://api.yelp.com/v3/businesses/search\n",
      "Querying from: https://api.yelp.com/v3/businesses/search\n",
      "Querying from: https://api.yelp.com/v3/businesses/search\n",
      "Querying from: https://api.yelp.com/v3/businesses/search\n",
      "Querying from: https://api.yelp.com/v3/businesses/search\n",
      "Querying from: https://api.yelp.com/v3/businesses/search\n",
      "Querying from: https://api.yelp.com/v3/businesses/search\n",
      "Querying from: https://api.yelp.com/v3/businesses/search\n",
      "Querying from: https://api.yelp.com/v3/businesses/search\n",
      "Querying from: https://api.yelp.com/v3/businesses/search\n",
      "Querying from: https://api.yelp.com/v3/businesses/search\n",
      "Querying from: https://api.yelp.com/v3/businesses/search\n",
      "Querying from: https://api.yelp.com/v3/businesses/search\n",
      "Querying from: https://api.yelp.com/v3/businesses/search\n",
      "Querying from: https://api.yelp.com/v3/businesses/search\n",
      "Querying from: https://api.yelp.com/v3/businesses/search\n",
      "Querying from: https://api.yelp.com/v3/businesses/search\n",
      "Querying from: https://api.yelp.com/v3/businesses/search\n",
      "Query Complete!\n"
     ]
    }
   ],
   "source": [
    "south_west_manhattan = query_pushshift('600 11th Ave, New York, NY 10036')"
   ]
  },
  {
   "cell_type": "code",
   "execution_count": 164,
   "metadata": {},
   "outputs": [
    {
     "name": "stdout",
     "output_type": "stream",
     "text": [
      "Querying from: https://api.yelp.com/v3/businesses/search\n",
      "Querying from: https://api.yelp.com/v3/businesses/search\n",
      "Querying from: https://api.yelp.com/v3/businesses/search\n",
      "Querying from: https://api.yelp.com/v3/businesses/search\n",
      "Querying from: https://api.yelp.com/v3/businesses/search\n",
      "Querying from: https://api.yelp.com/v3/businesses/search\n",
      "Querying from: https://api.yelp.com/v3/businesses/search\n",
      "Querying from: https://api.yelp.com/v3/businesses/search\n",
      "Querying from: https://api.yelp.com/v3/businesses/search\n",
      "Querying from: https://api.yelp.com/v3/businesses/search\n",
      "Querying from: https://api.yelp.com/v3/businesses/search\n",
      "Querying from: https://api.yelp.com/v3/businesses/search\n",
      "Querying from: https://api.yelp.com/v3/businesses/search\n",
      "Querying from: https://api.yelp.com/v3/businesses/search\n",
      "Querying from: https://api.yelp.com/v3/businesses/search\n",
      "Querying from: https://api.yelp.com/v3/businesses/search\n",
      "Querying from: https://api.yelp.com/v3/businesses/search\n",
      "Querying from: https://api.yelp.com/v3/businesses/search\n",
      "Querying from: https://api.yelp.com/v3/businesses/search\n",
      "Querying from: https://api.yelp.com/v3/businesses/search\n",
      "Query Complete!\n"
     ]
    }
   ],
   "source": [
    "north_east_manhattan = query_pushshift('1590 2nd Ave, New York, NY 10028')"
   ]
  },
  {
   "cell_type": "code",
   "execution_count": 141,
   "metadata": {},
   "outputs": [
    {
     "name": "stdout",
     "output_type": "stream",
     "text": [
      "Querying from: https://api.yelp.com/v3/businesses/search\n",
      "Querying from: https://api.yelp.com/v3/businesses/search\n",
      "Querying from: https://api.yelp.com/v3/businesses/search\n",
      "Querying from: https://api.yelp.com/v3/businesses/search\n",
      "Querying from: https://api.yelp.com/v3/businesses/search\n",
      "Querying from: https://api.yelp.com/v3/businesses/search\n",
      "Querying from: https://api.yelp.com/v3/businesses/search\n",
      "Querying from: https://api.yelp.com/v3/businesses/search\n",
      "Querying from: https://api.yelp.com/v3/businesses/search\n",
      "Querying from: https://api.yelp.com/v3/businesses/search\n",
      "Querying from: https://api.yelp.com/v3/businesses/search\n",
      "Querying from: https://api.yelp.com/v3/businesses/search\n",
      "Querying from: https://api.yelp.com/v3/businesses/search\n",
      "Querying from: https://api.yelp.com/v3/businesses/search\n",
      "Querying from: https://api.yelp.com/v3/businesses/search\n",
      "Querying from: https://api.yelp.com/v3/businesses/search\n",
      "Querying from: https://api.yelp.com/v3/businesses/search\n",
      "Querying from: https://api.yelp.com/v3/businesses/search\n",
      "Querying from: https://api.yelp.com/v3/businesses/search\n",
      "Querying from: https://api.yelp.com/v3/businesses/search\n",
      "Query Complete!\n"
     ]
    }
   ],
   "source": [
    "south_manhattan = query_pushshift('463 Broadway, New York, NY 10013')"
   ]
  },
  {
   "cell_type": "code",
   "execution_count": 142,
   "metadata": {},
   "outputs": [
    {
     "name": "stdout",
     "output_type": "stream",
     "text": [
      "Querying from: https://api.yelp.com/v3/businesses/search\n",
      "Querying from: https://api.yelp.com/v3/businesses/search\n",
      "Querying from: https://api.yelp.com/v3/businesses/search\n",
      "Querying from: https://api.yelp.com/v3/businesses/search\n",
      "Querying from: https://api.yelp.com/v3/businesses/search\n",
      "Querying from: https://api.yelp.com/v3/businesses/search\n",
      "Querying from: https://api.yelp.com/v3/businesses/search\n",
      "Querying from: https://api.yelp.com/v3/businesses/search\n",
      "Querying from: https://api.yelp.com/v3/businesses/search\n",
      "Querying from: https://api.yelp.com/v3/businesses/search\n",
      "Querying from: https://api.yelp.com/v3/businesses/search\n",
      "Querying from: https://api.yelp.com/v3/businesses/search\n",
      "Querying from: https://api.yelp.com/v3/businesses/search\n",
      "Querying from: https://api.yelp.com/v3/businesses/search\n",
      "Querying from: https://api.yelp.com/v3/businesses/search\n",
      "Querying from: https://api.yelp.com/v3/businesses/search\n",
      "Querying from: https://api.yelp.com/v3/businesses/search\n",
      "Querying from: https://api.yelp.com/v3/businesses/search\n",
      "Querying from: https://api.yelp.com/v3/businesses/search\n",
      "Querying from: https://api.yelp.com/v3/businesses/search\n",
      "Query Complete!\n"
     ]
    }
   ],
   "source": [
    "north_manhattan = query_pushshift('143 Malcolm X Blvd, New York, NY 10026')"
   ]
  },
  {
   "cell_type": "code",
   "execution_count": 170,
   "metadata": {},
   "outputs": [
    {
     "name": "stdout",
     "output_type": "stream",
     "text": [
      "Querying from: https://api.yelp.com/v3/businesses/search\n",
      "Querying from: https://api.yelp.com/v3/businesses/search\n",
      "Querying from: https://api.yelp.com/v3/businesses/search\n",
      "Querying from: https://api.yelp.com/v3/businesses/search\n",
      "Querying from: https://api.yelp.com/v3/businesses/search\n",
      "Querying from: https://api.yelp.com/v3/businesses/search\n",
      "Querying from: https://api.yelp.com/v3/businesses/search\n",
      "Querying from: https://api.yelp.com/v3/businesses/search\n",
      "Querying from: https://api.yelp.com/v3/businesses/search\n",
      "Querying from: https://api.yelp.com/v3/businesses/search\n",
      "Querying from: https://api.yelp.com/v3/businesses/search\n",
      "Querying from: https://api.yelp.com/v3/businesses/search\n",
      "Querying from: https://api.yelp.com/v3/businesses/search\n",
      "Querying from: https://api.yelp.com/v3/businesses/search\n",
      "Querying from: https://api.yelp.com/v3/businesses/search\n",
      "Querying from: https://api.yelp.com/v3/businesses/search\n",
      "Querying from: https://api.yelp.com/v3/businesses/search\n",
      "Querying from: https://api.yelp.com/v3/businesses/search\n",
      "Querying from: https://api.yelp.com/v3/businesses/search\n",
      "Querying from: https://api.yelp.com/v3/businesses/search\n",
      "Query Complete!\n"
     ]
    }
   ],
   "source": [
    "tottenvile = query_pushshift('7254 Amboy Rd, Staten Island, NY 10307')"
   ]
  },
  {
   "cell_type": "code",
   "execution_count": 171,
   "metadata": {},
   "outputs": [
    {
     "name": "stdout",
     "output_type": "stream",
     "text": [
      "Querying from: https://api.yelp.com/v3/businesses/search\n",
      "Querying from: https://api.yelp.com/v3/businesses/search\n",
      "Querying from: https://api.yelp.com/v3/businesses/search\n",
      "Querying from: https://api.yelp.com/v3/businesses/search\n",
      "Querying from: https://api.yelp.com/v3/businesses/search\n",
      "Querying from: https://api.yelp.com/v3/businesses/search\n",
      "Querying from: https://api.yelp.com/v3/businesses/search\n",
      "Querying from: https://api.yelp.com/v3/businesses/search\n",
      "Querying from: https://api.yelp.com/v3/businesses/search\n",
      "Querying from: https://api.yelp.com/v3/businesses/search\n",
      "Querying from: https://api.yelp.com/v3/businesses/search\n",
      "Querying from: https://api.yelp.com/v3/businesses/search\n",
      "Querying from: https://api.yelp.com/v3/businesses/search\n",
      "Querying from: https://api.yelp.com/v3/businesses/search\n",
      "Querying from: https://api.yelp.com/v3/businesses/search\n",
      "Querying from: https://api.yelp.com/v3/businesses/search\n",
      "Querying from: https://api.yelp.com/v3/businesses/search\n",
      "Querying from: https://api.yelp.com/v3/businesses/search\n",
      "Querying from: https://api.yelp.com/v3/businesses/search\n",
      "Querying from: https://api.yelp.com/v3/businesses/search\n",
      "Query Complete!\n"
     ]
    }
   ],
   "source": [
    "woodrow = query_pushshift('901 Huguenot Ave, Staten Island, NY 10312')"
   ]
  },
  {
   "cell_type": "code",
   "execution_count": 187,
   "metadata": {},
   "outputs": [
    {
     "name": "stdout",
     "output_type": "stream",
     "text": [
      "Querying from: https://api.yelp.com/v3/businesses/search\n",
      "Querying from: https://api.yelp.com/v3/businesses/search\n",
      "Querying from: https://api.yelp.com/v3/businesses/search\n",
      "Querying from: https://api.yelp.com/v3/businesses/search\n",
      "Querying from: https://api.yelp.com/v3/businesses/search\n",
      "Querying from: https://api.yelp.com/v3/businesses/search\n",
      "Querying from: https://api.yelp.com/v3/businesses/search\n",
      "Querying from: https://api.yelp.com/v3/businesses/search\n",
      "Querying from: https://api.yelp.com/v3/businesses/search\n",
      "Querying from: https://api.yelp.com/v3/businesses/search\n",
      "Querying from: https://api.yelp.com/v3/businesses/search\n",
      "Querying from: https://api.yelp.com/v3/businesses/search\n",
      "Querying from: https://api.yelp.com/v3/businesses/search\n",
      "Querying from: https://api.yelp.com/v3/businesses/search\n",
      "Querying from: https://api.yelp.com/v3/businesses/search\n",
      "Querying from: https://api.yelp.com/v3/businesses/search\n",
      "Querying from: https://api.yelp.com/v3/businesses/search\n",
      "Querying from: https://api.yelp.com/v3/businesses/search\n",
      "Querying from: https://api.yelp.com/v3/businesses/search\n",
      "Querying from: https://api.yelp.com/v3/businesses/search\n",
      "Query Complete!\n"
     ]
    }
   ],
   "source": [
    "bay_terrace = query_pushshift('405 Arthur Kill Rd, Staten Island, NY 10308')"
   ]
  },
  {
   "cell_type": "code",
   "execution_count": 188,
   "metadata": {},
   "outputs": [
    {
     "name": "stdout",
     "output_type": "stream",
     "text": [
      "Querying from: https://api.yelp.com/v3/businesses/search\n",
      "Querying from: https://api.yelp.com/v3/businesses/search\n",
      "Querying from: https://api.yelp.com/v3/businesses/search\n",
      "Querying from: https://api.yelp.com/v3/businesses/search\n",
      "Querying from: https://api.yelp.com/v3/businesses/search\n",
      "Querying from: https://api.yelp.com/v3/businesses/search\n",
      "Querying from: https://api.yelp.com/v3/businesses/search\n",
      "Querying from: https://api.yelp.com/v3/businesses/search\n",
      "Querying from: https://api.yelp.com/v3/businesses/search\n",
      "Querying from: https://api.yelp.com/v3/businesses/search\n",
      "Querying from: https://api.yelp.com/v3/businesses/search\n",
      "Querying from: https://api.yelp.com/v3/businesses/search\n",
      "Querying from: https://api.yelp.com/v3/businesses/search\n",
      "Querying from: https://api.yelp.com/v3/businesses/search\n",
      "Querying from: https://api.yelp.com/v3/businesses/search\n",
      "Querying from: https://api.yelp.com/v3/businesses/search\n",
      "Querying from: https://api.yelp.com/v3/businesses/search\n",
      "Querying from: https://api.yelp.com/v3/businesses/search\n",
      "Querying from: https://api.yelp.com/v3/businesses/search\n",
      "Querying from: https://api.yelp.com/v3/businesses/search\n",
      "Query Complete!\n"
     ]
    }
   ],
   "source": [
    "brighton_heights = query_pushshift('416 Jersey St, Staten Island, NY 10301')"
   ]
  },
  {
   "cell_type": "code",
   "execution_count": null,
   "metadata": {},
   "outputs": [],
   "source": []
  },
  {
   "cell_type": "code",
   "execution_count": 172,
   "metadata": {},
   "outputs": [
    {
     "name": "stdout",
     "output_type": "stream",
     "text": [
      "Querying from: https://api.yelp.com/v3/businesses/search\n",
      "Querying from: https://api.yelp.com/v3/businesses/search\n",
      "Querying from: https://api.yelp.com/v3/businesses/search\n",
      "Querying from: https://api.yelp.com/v3/businesses/search\n",
      "Querying from: https://api.yelp.com/v3/businesses/search\n",
      "Querying from: https://api.yelp.com/v3/businesses/search\n",
      "Querying from: https://api.yelp.com/v3/businesses/search\n",
      "Querying from: https://api.yelp.com/v3/businesses/search\n",
      "Querying from: https://api.yelp.com/v3/businesses/search\n",
      "Querying from: https://api.yelp.com/v3/businesses/search\n",
      "Querying from: https://api.yelp.com/v3/businesses/search\n",
      "Querying from: https://api.yelp.com/v3/businesses/search\n",
      "Querying from: https://api.yelp.com/v3/businesses/search\n",
      "Querying from: https://api.yelp.com/v3/businesses/search\n",
      "Querying from: https://api.yelp.com/v3/businesses/search\n",
      "Querying from: https://api.yelp.com/v3/businesses/search\n",
      "Querying from: https://api.yelp.com/v3/businesses/search\n",
      "Querying from: https://api.yelp.com/v3/businesses/search\n",
      "Querying from: https://api.yelp.com/v3/businesses/search\n",
      "Querying from: https://api.yelp.com/v3/businesses/search\n",
      "Query Complete!\n"
     ]
    }
   ],
   "source": [
    "homecrest = query_pushshift('2410 Coney Island Ave, Brooklyn, NY 11223')"
   ]
  },
  {
   "cell_type": "code",
   "execution_count": 173,
   "metadata": {},
   "outputs": [
    {
     "name": "stdout",
     "output_type": "stream",
     "text": [
      "Querying from: https://api.yelp.com/v3/businesses/search\n",
      "Querying from: https://api.yelp.com/v3/businesses/search\n",
      "Querying from: https://api.yelp.com/v3/businesses/search\n",
      "Querying from: https://api.yelp.com/v3/businesses/search\n",
      "Querying from: https://api.yelp.com/v3/businesses/search\n",
      "Querying from: https://api.yelp.com/v3/businesses/search\n",
      "Querying from: https://api.yelp.com/v3/businesses/search\n",
      "Querying from: https://api.yelp.com/v3/businesses/search\n",
      "Querying from: https://api.yelp.com/v3/businesses/search\n",
      "Querying from: https://api.yelp.com/v3/businesses/search\n",
      "Querying from: https://api.yelp.com/v3/businesses/search\n",
      "Querying from: https://api.yelp.com/v3/businesses/search\n",
      "Querying from: https://api.yelp.com/v3/businesses/search\n",
      "Querying from: https://api.yelp.com/v3/businesses/search\n",
      "Querying from: https://api.yelp.com/v3/businesses/search\n",
      "Querying from: https://api.yelp.com/v3/businesses/search\n",
      "Querying from: https://api.yelp.com/v3/businesses/search\n",
      "Querying from: https://api.yelp.com/v3/businesses/search\n",
      "Querying from: https://api.yelp.com/v3/businesses/search\n",
      "Querying from: https://api.yelp.com/v3/businesses/search\n",
      "Query Complete!\n"
     ]
    }
   ],
   "source": [
    "rockaway = query_pushshift('209 Beach 125th St, Rockaway Park, NY 11694')"
   ]
  },
  {
   "cell_type": "code",
   "execution_count": 175,
   "metadata": {},
   "outputs": [
    {
     "name": "stdout",
     "output_type": "stream",
     "text": [
      "Querying from: https://api.yelp.com/v3/businesses/search\n",
      "Querying from: https://api.yelp.com/v3/businesses/search\n",
      "Querying from: https://api.yelp.com/v3/businesses/search\n",
      "Querying from: https://api.yelp.com/v3/businesses/search\n",
      "Querying from: https://api.yelp.com/v3/businesses/search\n",
      "Querying from: https://api.yelp.com/v3/businesses/search\n",
      "Querying from: https://api.yelp.com/v3/businesses/search\n",
      "Querying from: https://api.yelp.com/v3/businesses/search\n",
      "Querying from: https://api.yelp.com/v3/businesses/search\n",
      "Querying from: https://api.yelp.com/v3/businesses/search\n",
      "Querying from: https://api.yelp.com/v3/businesses/search\n",
      "Querying from: https://api.yelp.com/v3/businesses/search\n",
      "Querying from: https://api.yelp.com/v3/businesses/search\n",
      "Querying from: https://api.yelp.com/v3/businesses/search\n",
      "Querying from: https://api.yelp.com/v3/businesses/search\n",
      "Querying from: https://api.yelp.com/v3/businesses/search\n",
      "Querying from: https://api.yelp.com/v3/businesses/search\n",
      "Querying from: https://api.yelp.com/v3/businesses/search\n",
      "Querying from: https://api.yelp.com/v3/businesses/search\n",
      "Querying from: https://api.yelp.com/v3/businesses/search\n",
      "Query Complete!\n"
     ]
    }
   ],
   "source": [
    "borough_park = query_pushshift('1301 65th St, Brooklyn, NY 11219')"
   ]
  },
  {
   "cell_type": "code",
   "execution_count": 176,
   "metadata": {},
   "outputs": [
    {
     "name": "stdout",
     "output_type": "stream",
     "text": [
      "Querying from: https://api.yelp.com/v3/businesses/search\n",
      "Querying from: https://api.yelp.com/v3/businesses/search\n",
      "Querying from: https://api.yelp.com/v3/businesses/search\n",
      "Querying from: https://api.yelp.com/v3/businesses/search\n",
      "Querying from: https://api.yelp.com/v3/businesses/search\n",
      "Querying from: https://api.yelp.com/v3/businesses/search\n",
      "Querying from: https://api.yelp.com/v3/businesses/search\n",
      "Querying from: https://api.yelp.com/v3/businesses/search\n",
      "Querying from: https://api.yelp.com/v3/businesses/search\n",
      "Querying from: https://api.yelp.com/v3/businesses/search\n",
      "Querying from: https://api.yelp.com/v3/businesses/search\n",
      "Querying from: https://api.yelp.com/v3/businesses/search\n",
      "Querying from: https://api.yelp.com/v3/businesses/search\n",
      "Querying from: https://api.yelp.com/v3/businesses/search\n",
      "Querying from: https://api.yelp.com/v3/businesses/search\n",
      "Querying from: https://api.yelp.com/v3/businesses/search\n",
      "Querying from: https://api.yelp.com/v3/businesses/search\n",
      "Querying from: https://api.yelp.com/v3/businesses/search\n",
      "Querying from: https://api.yelp.com/v3/businesses/search\n",
      "Querying from: https://api.yelp.com/v3/businesses/search\n",
      "Query Complete!\n"
     ]
    }
   ],
   "source": [
    "bensonhurst = query_pushshift('2101 86th St, Brooklyn, NY 11214')"
   ]
  },
  {
   "cell_type": "code",
   "execution_count": 177,
   "metadata": {},
   "outputs": [
    {
     "name": "stdout",
     "output_type": "stream",
     "text": [
      "Querying from: https://api.yelp.com/v3/businesses/search\n",
      "Querying from: https://api.yelp.com/v3/businesses/search\n",
      "Querying from: https://api.yelp.com/v3/businesses/search\n",
      "Querying from: https://api.yelp.com/v3/businesses/search\n",
      "Querying from: https://api.yelp.com/v3/businesses/search\n",
      "Querying from: https://api.yelp.com/v3/businesses/search\n",
      "Querying from: https://api.yelp.com/v3/businesses/search\n",
      "Querying from: https://api.yelp.com/v3/businesses/search\n",
      "Querying from: https://api.yelp.com/v3/businesses/search\n",
      "Querying from: https://api.yelp.com/v3/businesses/search\n",
      "Querying from: https://api.yelp.com/v3/businesses/search\n",
      "Querying from: https://api.yelp.com/v3/businesses/search\n",
      "Querying from: https://api.yelp.com/v3/businesses/search\n",
      "Querying from: https://api.yelp.com/v3/businesses/search\n",
      "Querying from: https://api.yelp.com/v3/businesses/search\n",
      "Querying from: https://api.yelp.com/v3/businesses/search\n",
      "Querying from: https://api.yelp.com/v3/businesses/search\n",
      "Querying from: https://api.yelp.com/v3/businesses/search\n",
      "Querying from: https://api.yelp.com/v3/businesses/search\n",
      "Querying from: https://api.yelp.com/v3/businesses/search\n",
      "Query Complete!\n"
     ]
    }
   ],
   "source": [
    "sheepshead_bay = query_pushshift('3432 Nostrand Ave, Brooklyn, NY 11229')"
   ]
  },
  {
   "cell_type": "code",
   "execution_count": null,
   "metadata": {},
   "outputs": [],
   "source": []
  },
  {
   "cell_type": "code",
   "execution_count": 178,
   "metadata": {},
   "outputs": [
    {
     "name": "stdout",
     "output_type": "stream",
     "text": [
      "Querying from: https://api.yelp.com/v3/businesses/search\n",
      "Querying from: https://api.yelp.com/v3/businesses/search\n",
      "Querying from: https://api.yelp.com/v3/businesses/search\n",
      "Querying from: https://api.yelp.com/v3/businesses/search\n",
      "Querying from: https://api.yelp.com/v3/businesses/search\n",
      "Querying from: https://api.yelp.com/v3/businesses/search\n",
      "Querying from: https://api.yelp.com/v3/businesses/search\n",
      "Querying from: https://api.yelp.com/v3/businesses/search\n",
      "Querying from: https://api.yelp.com/v3/businesses/search\n",
      "Querying from: https://api.yelp.com/v3/businesses/search\n",
      "Querying from: https://api.yelp.com/v3/businesses/search\n",
      "Querying from: https://api.yelp.com/v3/businesses/search\n",
      "Querying from: https://api.yelp.com/v3/businesses/search\n",
      "Querying from: https://api.yelp.com/v3/businesses/search\n",
      "Querying from: https://api.yelp.com/v3/businesses/search\n",
      "Querying from: https://api.yelp.com/v3/businesses/search\n",
      "Querying from: https://api.yelp.com/v3/businesses/search\n",
      "Querying from: https://api.yelp.com/v3/businesses/search\n",
      "Querying from: https://api.yelp.com/v3/businesses/search\n",
      "Querying from: https://api.yelp.com/v3/businesses/search\n",
      "Query Complete!\n"
     ]
    }
   ],
   "source": [
    "long_island_city = query_pushshift('22-25 Jackson Ave, Long Island City, NY 11101')"
   ]
  },
  {
   "cell_type": "code",
   "execution_count": 179,
   "metadata": {},
   "outputs": [
    {
     "name": "stdout",
     "output_type": "stream",
     "text": [
      "Querying from: https://api.yelp.com/v3/businesses/search\n",
      "Querying from: https://api.yelp.com/v3/businesses/search\n",
      "Querying from: https://api.yelp.com/v3/businesses/search\n",
      "Querying from: https://api.yelp.com/v3/businesses/search\n",
      "Querying from: https://api.yelp.com/v3/businesses/search\n",
      "Querying from: https://api.yelp.com/v3/businesses/search\n",
      "Querying from: https://api.yelp.com/v3/businesses/search\n",
      "Querying from: https://api.yelp.com/v3/businesses/search\n",
      "Querying from: https://api.yelp.com/v3/businesses/search\n",
      "Querying from: https://api.yelp.com/v3/businesses/search\n",
      "Querying from: https://api.yelp.com/v3/businesses/search\n",
      "Querying from: https://api.yelp.com/v3/businesses/search\n",
      "Querying from: https://api.yelp.com/v3/businesses/search\n",
      "Querying from: https://api.yelp.com/v3/businesses/search\n",
      "Querying from: https://api.yelp.com/v3/businesses/search\n",
      "Querying from: https://api.yelp.com/v3/businesses/search\n",
      "Querying from: https://api.yelp.com/v3/businesses/search\n",
      "Querying from: https://api.yelp.com/v3/businesses/search\n",
      "Querying from: https://api.yelp.com/v3/businesses/search\n",
      "Querying from: https://api.yelp.com/v3/businesses/search\n",
      "Query Complete!\n"
     ]
    }
   ],
   "source": [
    "forest_hills = query_pushshift('73-05 Austin St, Forest Hills, NY 11375')"
   ]
  },
  {
   "cell_type": "code",
   "execution_count": 180,
   "metadata": {},
   "outputs": [
    {
     "name": "stdout",
     "output_type": "stream",
     "text": [
      "Querying from: https://api.yelp.com/v3/businesses/search\n",
      "Querying from: https://api.yelp.com/v3/businesses/search\n",
      "Querying from: https://api.yelp.com/v3/businesses/search\n",
      "Querying from: https://api.yelp.com/v3/businesses/search\n",
      "Querying from: https://api.yelp.com/v3/businesses/search\n",
      "Querying from: https://api.yelp.com/v3/businesses/search\n",
      "Querying from: https://api.yelp.com/v3/businesses/search\n",
      "Querying from: https://api.yelp.com/v3/businesses/search\n",
      "Querying from: https://api.yelp.com/v3/businesses/search\n",
      "Querying from: https://api.yelp.com/v3/businesses/search\n",
      "Querying from: https://api.yelp.com/v3/businesses/search\n",
      "Querying from: https://api.yelp.com/v3/businesses/search\n",
      "Querying from: https://api.yelp.com/v3/businesses/search\n",
      "Querying from: https://api.yelp.com/v3/businesses/search\n",
      "Querying from: https://api.yelp.com/v3/businesses/search\n",
      "Querying from: https://api.yelp.com/v3/businesses/search\n",
      "Querying from: https://api.yelp.com/v3/businesses/search\n",
      "Querying from: https://api.yelp.com/v3/businesses/search\n",
      "Querying from: https://api.yelp.com/v3/businesses/search\n",
      "Querying from: https://api.yelp.com/v3/businesses/search\n",
      "Query Complete!\n"
     ]
    }
   ],
   "source": [
    "jackson_heights = query_pushshift('92-12 37th Ave, Jackson Heights, NY 11372')"
   ]
  },
  {
   "cell_type": "code",
   "execution_count": 181,
   "metadata": {},
   "outputs": [
    {
     "name": "stdout",
     "output_type": "stream",
     "text": [
      "Querying from: https://api.yelp.com/v3/businesses/search\n",
      "Querying from: https://api.yelp.com/v3/businesses/search\n",
      "Querying from: https://api.yelp.com/v3/businesses/search\n",
      "Querying from: https://api.yelp.com/v3/businesses/search\n",
      "Querying from: https://api.yelp.com/v3/businesses/search\n",
      "Querying from: https://api.yelp.com/v3/businesses/search\n",
      "Querying from: https://api.yelp.com/v3/businesses/search\n",
      "Querying from: https://api.yelp.com/v3/businesses/search\n",
      "Querying from: https://api.yelp.com/v3/businesses/search\n",
      "Querying from: https://api.yelp.com/v3/businesses/search\n",
      "Querying from: https://api.yelp.com/v3/businesses/search\n",
      "Querying from: https://api.yelp.com/v3/businesses/search\n",
      "Querying from: https://api.yelp.com/v3/businesses/search\n",
      "Querying from: https://api.yelp.com/v3/businesses/search\n",
      "Querying from: https://api.yelp.com/v3/businesses/search\n",
      "Querying from: https://api.yelp.com/v3/businesses/search\n",
      "Querying from: https://api.yelp.com/v3/businesses/search\n",
      "Querying from: https://api.yelp.com/v3/businesses/search\n",
      "Querying from: https://api.yelp.com/v3/businesses/search\n",
      "Querying from: https://api.yelp.com/v3/businesses/search\n",
      "Query Complete!\n"
     ]
    }
   ],
   "source": [
    "woodside = query_pushshift('56-15 Northern Blvd, Woodside, NY 11377')"
   ]
  },
  {
   "cell_type": "code",
   "execution_count": 182,
   "metadata": {},
   "outputs": [
    {
     "name": "stdout",
     "output_type": "stream",
     "text": [
      "Querying from: https://api.yelp.com/v3/businesses/search\n",
      "Querying from: https://api.yelp.com/v3/businesses/search\n",
      "Querying from: https://api.yelp.com/v3/businesses/search\n",
      "Querying from: https://api.yelp.com/v3/businesses/search\n",
      "Querying from: https://api.yelp.com/v3/businesses/search\n",
      "Querying from: https://api.yelp.com/v3/businesses/search\n",
      "Querying from: https://api.yelp.com/v3/businesses/search\n",
      "Querying from: https://api.yelp.com/v3/businesses/search\n",
      "Querying from: https://api.yelp.com/v3/businesses/search\n",
      "Querying from: https://api.yelp.com/v3/businesses/search\n",
      "Querying from: https://api.yelp.com/v3/businesses/search\n",
      "Querying from: https://api.yelp.com/v3/businesses/search\n",
      "Querying from: https://api.yelp.com/v3/businesses/search\n",
      "Querying from: https://api.yelp.com/v3/businesses/search\n",
      "Querying from: https://api.yelp.com/v3/businesses/search\n",
      "Querying from: https://api.yelp.com/v3/businesses/search\n",
      "Querying from: https://api.yelp.com/v3/businesses/search\n",
      "Querying from: https://api.yelp.com/v3/businesses/search\n",
      "Querying from: https://api.yelp.com/v3/businesses/search\n",
      "Querying from: https://api.yelp.com/v3/businesses/search\n",
      "Query Complete!\n"
     ]
    }
   ],
   "source": [
    "bayside = query_pushshift('205-10 48th Ave, Oakland Gardens, NY 11364')"
   ]
  },
  {
   "cell_type": "code",
   "execution_count": null,
   "metadata": {},
   "outputs": [],
   "source": []
  },
  {
   "cell_type": "code",
   "execution_count": 183,
   "metadata": {},
   "outputs": [
    {
     "name": "stdout",
     "output_type": "stream",
     "text": [
      "Querying from: https://api.yelp.com/v3/businesses/search\n",
      "Querying from: https://api.yelp.com/v3/businesses/search\n",
      "Querying from: https://api.yelp.com/v3/businesses/search\n",
      "Querying from: https://api.yelp.com/v3/businesses/search\n",
      "Querying from: https://api.yelp.com/v3/businesses/search\n",
      "Querying from: https://api.yelp.com/v3/businesses/search\n",
      "Querying from: https://api.yelp.com/v3/businesses/search\n",
      "Querying from: https://api.yelp.com/v3/businesses/search\n",
      "Querying from: https://api.yelp.com/v3/businesses/search\n",
      "Querying from: https://api.yelp.com/v3/businesses/search\n",
      "Querying from: https://api.yelp.com/v3/businesses/search\n",
      "Querying from: https://api.yelp.com/v3/businesses/search\n",
      "Querying from: https://api.yelp.com/v3/businesses/search\n",
      "Querying from: https://api.yelp.com/v3/businesses/search\n",
      "Querying from: https://api.yelp.com/v3/businesses/search\n",
      "Querying from: https://api.yelp.com/v3/businesses/search\n",
      "Querying from: https://api.yelp.com/v3/businesses/search\n",
      "Querying from: https://api.yelp.com/v3/businesses/search\n",
      "Querying from: https://api.yelp.com/v3/businesses/search\n",
      "Querying from: https://api.yelp.com/v3/businesses/search\n",
      "Query Complete!\n"
     ]
    }
   ],
   "source": [
    "parkchester = query_pushshift('2079 Benedict Ave, The Bronx, NY 10462')"
   ]
  },
  {
   "cell_type": "code",
   "execution_count": 184,
   "metadata": {},
   "outputs": [
    {
     "name": "stdout",
     "output_type": "stream",
     "text": [
      "Querying from: https://api.yelp.com/v3/businesses/search\n",
      "Querying from: https://api.yelp.com/v3/businesses/search\n",
      "Querying from: https://api.yelp.com/v3/businesses/search\n",
      "Querying from: https://api.yelp.com/v3/businesses/search\n",
      "Querying from: https://api.yelp.com/v3/businesses/search\n",
      "Querying from: https://api.yelp.com/v3/businesses/search\n",
      "Querying from: https://api.yelp.com/v3/businesses/search\n",
      "Querying from: https://api.yelp.com/v3/businesses/search\n",
      "Querying from: https://api.yelp.com/v3/businesses/search\n",
      "Querying from: https://api.yelp.com/v3/businesses/search\n",
      "Querying from: https://api.yelp.com/v3/businesses/search\n",
      "Querying from: https://api.yelp.com/v3/businesses/search\n",
      "Querying from: https://api.yelp.com/v3/businesses/search\n",
      "Querying from: https://api.yelp.com/v3/businesses/search\n",
      "Querying from: https://api.yelp.com/v3/businesses/search\n",
      "Querying from: https://api.yelp.com/v3/businesses/search\n",
      "Querying from: https://api.yelp.com/v3/businesses/search\n",
      "Querying from: https://api.yelp.com/v3/businesses/search\n",
      "Querying from: https://api.yelp.com/v3/businesses/search\n",
      "Querying from: https://api.yelp.com/v3/businesses/search\n",
      "Query Complete!\n"
     ]
    }
   ],
   "source": [
    "williamsbridge = query_pushshift('3357 Fish Ave, The Bronx, NY 10469')"
   ]
  },
  {
   "cell_type": "code",
   "execution_count": 185,
   "metadata": {},
   "outputs": [
    {
     "name": "stdout",
     "output_type": "stream",
     "text": [
      "Querying from: https://api.yelp.com/v3/businesses/search\n",
      "Querying from: https://api.yelp.com/v3/businesses/search\n",
      "Querying from: https://api.yelp.com/v3/businesses/search\n",
      "Querying from: https://api.yelp.com/v3/businesses/search\n",
      "Querying from: https://api.yelp.com/v3/businesses/search\n",
      "Querying from: https://api.yelp.com/v3/businesses/search\n",
      "Querying from: https://api.yelp.com/v3/businesses/search\n",
      "Querying from: https://api.yelp.com/v3/businesses/search\n",
      "Querying from: https://api.yelp.com/v3/businesses/search\n",
      "Querying from: https://api.yelp.com/v3/businesses/search\n",
      "Querying from: https://api.yelp.com/v3/businesses/search\n",
      "Querying from: https://api.yelp.com/v3/businesses/search\n",
      "Querying from: https://api.yelp.com/v3/businesses/search\n",
      "Querying from: https://api.yelp.com/v3/businesses/search\n",
      "Querying from: https://api.yelp.com/v3/businesses/search\n",
      "Querying from: https://api.yelp.com/v3/businesses/search\n",
      "Querying from: https://api.yelp.com/v3/businesses/search\n",
      "Querying from: https://api.yelp.com/v3/businesses/search\n",
      "Querying from: https://api.yelp.com/v3/businesses/search\n",
      "Querying from: https://api.yelp.com/v3/businesses/search\n",
      "Query Complete!\n"
     ]
    }
   ],
   "source": [
    "riverdale = query_pushshift('3708 Riverdale Ave, The Bronx, NY 10463')"
   ]
  },
  {
   "cell_type": "code",
   "execution_count": 186,
   "metadata": {},
   "outputs": [
    {
     "name": "stdout",
     "output_type": "stream",
     "text": [
      "Querying from: https://api.yelp.com/v3/businesses/search\n",
      "Querying from: https://api.yelp.com/v3/businesses/search\n",
      "Querying from: https://api.yelp.com/v3/businesses/search\n",
      "Querying from: https://api.yelp.com/v3/businesses/search\n",
      "Querying from: https://api.yelp.com/v3/businesses/search\n",
      "Querying from: https://api.yelp.com/v3/businesses/search\n",
      "Querying from: https://api.yelp.com/v3/businesses/search\n",
      "Querying from: https://api.yelp.com/v3/businesses/search\n",
      "Querying from: https://api.yelp.com/v3/businesses/search\n",
      "Querying from: https://api.yelp.com/v3/businesses/search\n",
      "Querying from: https://api.yelp.com/v3/businesses/search\n",
      "Querying from: https://api.yelp.com/v3/businesses/search\n",
      "Querying from: https://api.yelp.com/v3/businesses/search\n",
      "Querying from: https://api.yelp.com/v3/businesses/search\n",
      "Querying from: https://api.yelp.com/v3/businesses/search\n",
      "Querying from: https://api.yelp.com/v3/businesses/search\n",
      "Querying from: https://api.yelp.com/v3/businesses/search\n",
      "Querying from: https://api.yelp.com/v3/businesses/search\n",
      "Querying from: https://api.yelp.com/v3/businesses/search\n",
      "Querying from: https://api.yelp.com/v3/businesses/search\n",
      "Query Complete!\n"
     ]
    }
   ],
   "source": [
    "belmont = query_pushshift('603 Crescent Ave, The Bronx, NY 10458')"
   ]
  },
  {
   "cell_type": "code",
   "execution_count": 190,
   "metadata": {},
   "outputs": [],
   "source": [
    "yelp =pd.concat([yelp1, bronx, brooklyn, queens, staten_island, manhattan,\n",
    "                north_bronx, south_bronx, north_queens, south_queens, north_staten_island,\n",
    "                south_staten_island, north_brooklyn, south_brooklyn, north_manhattan, south_manhattan,\n",
    "                east_central_staten_island, west_central_staten_island, east_brooklyn, west_brooklyn,\n",
    "                east_bronx, west_bronx, south_west_manhattan, north_east_manhattan, tottenvile, woodrow, \n",
    "                bay_terrace, brighton_heights, homecrest, rockaway, borough_park, bensonhurst, sheepshead_bay, \n",
    "                long_island_city, forest_hills, jackson_heights, woodside, bayside, parkchester, \n",
    "                williamsbridge, riverdale, belmont])"
   ]
  },
  {
   "cell_type": "code",
   "execution_count": 191,
   "metadata": {},
   "outputs": [],
   "source": [
    "yelp.to_csv('datasets/yelp.csv', index = False)"
   ]
  },
  {
   "cell_type": "code",
   "execution_count": 192,
   "metadata": {},
   "outputs": [
    {
     "data": {
      "text/plain": [
       "(35786, 16)"
      ]
     },
     "execution_count": 192,
     "metadata": {},
     "output_type": "execute_result"
    }
   ],
   "source": [
    "yelp.shape"
   ]
  },
  {
   "cell_type": "code",
   "execution_count": null,
   "metadata": {},
   "outputs": [],
   "source": []
  }
 ],
 "metadata": {
  "kernelspec": {
   "display_name": "Python 3",
   "language": "python",
   "name": "python3"
  },
  "language_info": {
   "codemirror_mode": {
    "name": "ipython",
    "version": 3
   },
   "file_extension": ".py",
   "mimetype": "text/x-python",
   "name": "python",
   "nbconvert_exporter": "python",
   "pygments_lexer": "ipython3",
   "version": "3.6.4"
  },
  "toc": {
   "base_numbering": 1,
   "nav_menu": {},
   "number_sections": true,
   "sideBar": true,
   "skip_h1_title": false,
   "title_cell": "Table of Contents",
   "title_sidebar": "Contents",
   "toc_cell": false,
   "toc_position": {},
   "toc_section_display": true,
   "toc_window_display": false
  }
 },
 "nbformat": 4,
 "nbformat_minor": 2
}
